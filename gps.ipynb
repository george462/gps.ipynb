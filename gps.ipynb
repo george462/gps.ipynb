{
 "metadata": {
  "kernelspec": {
   "display_name": "Python 3",
   "language": "python",
   "name": "python3"
  },
  "language_info": {
   "name": "python",
   "version": "3.6.6",
   "mimetype": "text/x-python",
   "codemirror_mode": {
    "name": "ipython",
    "version": 3
   },
   "pygments_lexer": "ipython3",
   "nbconvert_exporter": "python",
   "file_extension": ".py"
  },
  "kaggle": {
   "accelerator": "none",
   "dataSources": [
    {
     "sourceId": 274957,
     "sourceType": "datasetVersion",
     "datasetId": 49864
    }
   ],
   "dockerImageVersionId": 20477,
   "isInternetEnabled": false,
   "language": "python",
   "sourceType": "notebook",
   "isGpuEnabled": false
  }
 },
 "nbformat_minor": 4,
 "nbformat": 4,
 "cells": [
  {
   "cell_type": "markdown",
   "source": [
    "# Outlines \n",
    "#### 1. Data cleaning \n",
    "#### 2. feature engineering \n",
    "#### 3. Getting more insights \n",
    "#### 4. Data Pre-processing\n",
    "        ●\tFix Rating\n",
    "        ●\tFix Size\n",
    "        ●\tFix Price\n",
    "        ●\tFix Category\n",
    "        ●\tFix Android Version\n",
    "        ●\tHandle Missing Values\n",
    "        ●\tOutlier Detection and Handling\n",
    "        ●\tFix anything need fixing \n"
   ],
   "metadata": {
    "_uuid": "5e06c9a0ebe7617425ac4c865e64d68ef3edf857"
   }
  },
  {
   "cell_type": "code",
   "source": [
    "#import library\n",
    "import pandas as pd \n",
    "import numpy as np \n",
    "import matplotlib.pyplot as plt\n",
    "import seaborn as sns\n"
   ],
   "metadata": {
    "_cell_guid": "79c7e3d0-c299-4dcb-8224-4455121ee9b0",
    "_uuid": "d629ff2d2480ee46fbb7e2d37f6b5fab8052498a",
    "trusted": true,
    "ExecuteTime": {
     "end_time": "2024-12-20T13:07:17.527616Z",
     "start_time": "2024-12-20T13:07:17.523989Z"
    }
   },
   "outputs": [],
   "execution_count": 2
  },
  {
   "cell_type": "code",
   "source": [
    "#read to csv\n",
    "data = pd.read_csv(\"googleplaystore.csv\")"
   ],
   "metadata": {
    "trusted": true,
    "_uuid": "d1b1055e62085a0867b18d155446335c4e00c34f",
    "ExecuteTime": {
     "end_time": "2024-12-20T13:07:17.568970Z",
     "start_time": "2024-12-20T13:07:17.537145Z"
    }
   },
   "outputs": [],
   "execution_count": 3
  },
  {
   "cell_type": "code",
   "source": "data.info()",
   "metadata": {
    "trusted": true,
    "_uuid": "3d13aba0a6043f8b26a9d47682fb291c6c402446",
    "_kg_hide-output": false,
    "_kg_hide-input": false,
    "ExecuteTime": {
     "end_time": "2024-12-20T13:07:17.599230Z",
     "start_time": "2024-12-20T13:07:17.587694Z"
    }
   },
   "outputs": [
    {
     "name": "stdout",
     "output_type": "stream",
     "text": [
      "<class 'pandas.core.frame.DataFrame'>\n",
      "RangeIndex: 10841 entries, 0 to 10840\n",
      "Data columns (total 13 columns):\n",
      " #   Column          Non-Null Count  Dtype  \n",
      "---  ------          --------------  -----  \n",
      " 0   App             10841 non-null  object \n",
      " 1   Category        10841 non-null  object \n",
      " 2   Rating          9367 non-null   float64\n",
      " 3   Reviews         10841 non-null  object \n",
      " 4   Size            10841 non-null  object \n",
      " 5   Installs        10841 non-null  object \n",
      " 6   Type            10840 non-null  object \n",
      " 7   Price           10841 non-null  object \n",
      " 8   Content Rating  10840 non-null  object \n",
      " 9   Genres          10841 non-null  object \n",
      " 10  Last Updated    10841 non-null  object \n",
      " 11  Current Ver     10833 non-null  object \n",
      " 12  Android Ver     10838 non-null  object \n",
      "dtypes: float64(1), object(12)\n",
      "memory usage: 1.1+ MB\n"
     ]
    }
   ],
   "execution_count": 4
  },
  {
   "cell_type": "code",
   "source": "data.columns",
   "metadata": {
    "trusted": true,
    "_uuid": "3cebb1d11e5b26fe562ef440e6c08cfe5ca7a606",
    "_kg_hide-input": true,
    "ExecuteTime": {
     "end_time": "2024-12-20T13:07:17.725791Z",
     "start_time": "2024-12-20T13:07:17.719381Z"
    }
   },
   "outputs": [
    {
     "data": {
      "text/plain": [
       "Index(['App', 'Category', 'Rating', 'Reviews', 'Size', 'Installs', 'Type',\n",
       "       'Price', 'Content Rating', 'Genres', 'Last Updated', 'Current Ver',\n",
       "       'Android Ver'],\n",
       "      dtype='object')"
      ]
     },
     "execution_count": 5,
     "metadata": {},
     "output_type": "execute_result"
    }
   ],
   "execution_count": 5
  },
  {
   "metadata": {
    "ExecuteTime": {
     "end_time": "2024-12-20T13:07:17.764553Z",
     "start_time": "2024-12-20T13:07:17.759337Z"
    }
   },
   "cell_type": "code",
   "source": [
    "data.columns = data.columns.str.replace(\" \",\"_\")\n",
    "data.columns"
   ],
   "outputs": [
    {
     "data": {
      "text/plain": [
       "Index(['App', 'Category', 'Rating', 'Reviews', 'Size', 'Installs', 'Type',\n",
       "       'Price', 'Content_Rating', 'Genres', 'Last_Updated', 'Current_Ver',\n",
       "       'Android_Ver'],\n",
       "      dtype='object')"
      ]
     },
     "execution_count": 6,
     "metadata": {},
     "output_type": "execute_result"
    }
   ],
   "execution_count": 6
  },
  {
   "cell_type": "code",
   "source": "data.shape",
   "metadata": {
    "trusted": true,
    "scrolled": true,
    "_uuid": "30723b209b43085965ccc977a7323e330bb887a0",
    "ExecuteTime": {
     "end_time": "2024-12-20T13:07:17.856249Z",
     "start_time": "2024-12-20T13:07:17.852368Z"
    }
   },
   "outputs": [
    {
     "data": {
      "text/plain": [
       "(10841, 13)"
      ]
     },
     "execution_count": 7,
     "metadata": {},
     "output_type": "execute_result"
    }
   ],
   "execution_count": 7
  },
  {
   "cell_type": "code",
   "source": "data.head()",
   "metadata": {
    "trusted": true,
    "_uuid": "ed8ec1d98b9b852955871ae12faebf0fdab008ba",
    "ExecuteTime": {
     "end_time": "2024-12-20T13:07:17.964780Z",
     "start_time": "2024-12-20T13:07:17.954543Z"
    }
   },
   "outputs": [
    {
     "data": {
      "text/plain": [
       "                                                 App        Category  Rating  \\\n",
       "0     Photo Editor & Candy Camera & Grid & ScrapBook  ART_AND_DESIGN     4.1   \n",
       "1                                Coloring book moana  ART_AND_DESIGN     3.9   \n",
       "2  U Launcher Lite – FREE Live Cool Themes, Hide ...  ART_AND_DESIGN     4.7   \n",
       "3                              Sketch - Draw & Paint  ART_AND_DESIGN     4.5   \n",
       "4              Pixel Draw - Number Art Coloring Book  ART_AND_DESIGN     4.3   \n",
       "\n",
       "  Reviews  Size     Installs  Type Price Content_Rating  \\\n",
       "0     159   19M      10,000+  Free     0       Everyone   \n",
       "1     967   14M     500,000+  Free     0       Everyone   \n",
       "2   87510  8.7M   5,000,000+  Free     0       Everyone   \n",
       "3  215644   25M  50,000,000+  Free     0           Teen   \n",
       "4     967  2.8M     100,000+  Free     0       Everyone   \n",
       "\n",
       "                      Genres      Last_Updated         Current_Ver  \\\n",
       "0               Art & Design   January 7, 2018               1.0.0   \n",
       "1  Art & Design;Pretend Play  January 15, 2018               2.0.0   \n",
       "2               Art & Design    August 1, 2018               1.2.4   \n",
       "3               Art & Design      June 8, 2018  Varies with device   \n",
       "4    Art & Design;Creativity     June 20, 2018                 1.1   \n",
       "\n",
       "    Android_Ver  \n",
       "0  4.0.3 and up  \n",
       "1  4.0.3 and up  \n",
       "2  4.0.3 and up  \n",
       "3    4.2 and up  \n",
       "4    4.4 and up  "
      ],
      "text/html": [
       "<div>\n",
       "<style scoped>\n",
       "    .dataframe tbody tr th:only-of-type {\n",
       "        vertical-align: middle;\n",
       "    }\n",
       "\n",
       "    .dataframe tbody tr th {\n",
       "        vertical-align: top;\n",
       "    }\n",
       "\n",
       "    .dataframe thead th {\n",
       "        text-align: right;\n",
       "    }\n",
       "</style>\n",
       "<table border=\"1\" class=\"dataframe\">\n",
       "  <thead>\n",
       "    <tr style=\"text-align: right;\">\n",
       "      <th></th>\n",
       "      <th>App</th>\n",
       "      <th>Category</th>\n",
       "      <th>Rating</th>\n",
       "      <th>Reviews</th>\n",
       "      <th>Size</th>\n",
       "      <th>Installs</th>\n",
       "      <th>Type</th>\n",
       "      <th>Price</th>\n",
       "      <th>Content_Rating</th>\n",
       "      <th>Genres</th>\n",
       "      <th>Last_Updated</th>\n",
       "      <th>Current_Ver</th>\n",
       "      <th>Android_Ver</th>\n",
       "    </tr>\n",
       "  </thead>\n",
       "  <tbody>\n",
       "    <tr>\n",
       "      <th>0</th>\n",
       "      <td>Photo Editor &amp; Candy Camera &amp; Grid &amp; ScrapBook</td>\n",
       "      <td>ART_AND_DESIGN</td>\n",
       "      <td>4.1</td>\n",
       "      <td>159</td>\n",
       "      <td>19M</td>\n",
       "      <td>10,000+</td>\n",
       "      <td>Free</td>\n",
       "      <td>0</td>\n",
       "      <td>Everyone</td>\n",
       "      <td>Art &amp; Design</td>\n",
       "      <td>January 7, 2018</td>\n",
       "      <td>1.0.0</td>\n",
       "      <td>4.0.3 and up</td>\n",
       "    </tr>\n",
       "    <tr>\n",
       "      <th>1</th>\n",
       "      <td>Coloring book moana</td>\n",
       "      <td>ART_AND_DESIGN</td>\n",
       "      <td>3.9</td>\n",
       "      <td>967</td>\n",
       "      <td>14M</td>\n",
       "      <td>500,000+</td>\n",
       "      <td>Free</td>\n",
       "      <td>0</td>\n",
       "      <td>Everyone</td>\n",
       "      <td>Art &amp; Design;Pretend Play</td>\n",
       "      <td>January 15, 2018</td>\n",
       "      <td>2.0.0</td>\n",
       "      <td>4.0.3 and up</td>\n",
       "    </tr>\n",
       "    <tr>\n",
       "      <th>2</th>\n",
       "      <td>U Launcher Lite – FREE Live Cool Themes, Hide ...</td>\n",
       "      <td>ART_AND_DESIGN</td>\n",
       "      <td>4.7</td>\n",
       "      <td>87510</td>\n",
       "      <td>8.7M</td>\n",
       "      <td>5,000,000+</td>\n",
       "      <td>Free</td>\n",
       "      <td>0</td>\n",
       "      <td>Everyone</td>\n",
       "      <td>Art &amp; Design</td>\n",
       "      <td>August 1, 2018</td>\n",
       "      <td>1.2.4</td>\n",
       "      <td>4.0.3 and up</td>\n",
       "    </tr>\n",
       "    <tr>\n",
       "      <th>3</th>\n",
       "      <td>Sketch - Draw &amp; Paint</td>\n",
       "      <td>ART_AND_DESIGN</td>\n",
       "      <td>4.5</td>\n",
       "      <td>215644</td>\n",
       "      <td>25M</td>\n",
       "      <td>50,000,000+</td>\n",
       "      <td>Free</td>\n",
       "      <td>0</td>\n",
       "      <td>Teen</td>\n",
       "      <td>Art &amp; Design</td>\n",
       "      <td>June 8, 2018</td>\n",
       "      <td>Varies with device</td>\n",
       "      <td>4.2 and up</td>\n",
       "    </tr>\n",
       "    <tr>\n",
       "      <th>4</th>\n",
       "      <td>Pixel Draw - Number Art Coloring Book</td>\n",
       "      <td>ART_AND_DESIGN</td>\n",
       "      <td>4.3</td>\n",
       "      <td>967</td>\n",
       "      <td>2.8M</td>\n",
       "      <td>100,000+</td>\n",
       "      <td>Free</td>\n",
       "      <td>0</td>\n",
       "      <td>Everyone</td>\n",
       "      <td>Art &amp; Design;Creativity</td>\n",
       "      <td>June 20, 2018</td>\n",
       "      <td>1.1</td>\n",
       "      <td>4.4 and up</td>\n",
       "    </tr>\n",
       "  </tbody>\n",
       "</table>\n",
       "</div>"
      ]
     },
     "execution_count": 8,
     "metadata": {},
     "output_type": "execute_result"
    }
   ],
   "execution_count": 8
  },
  {
   "cell_type": "code",
   "source": "data.tail()",
   "metadata": {
    "trusted": true,
    "_uuid": "fbdd18afe5d8f55073fd84c14b3adce804322c8d",
    "scrolled": true,
    "ExecuteTime": {
     "end_time": "2024-12-20T13:07:18.072007Z",
     "start_time": "2024-12-20T13:07:18.062967Z"
    }
   },
   "outputs": [
    {
     "data": {
      "text/plain": [
       "                                                 App             Category  \\\n",
       "10836                               Sya9a Maroc - FR               FAMILY   \n",
       "10837               Fr. Mike Schmitz Audio Teachings               FAMILY   \n",
       "10838                         Parkinson Exercices FR              MEDICAL   \n",
       "10839                  The SCP Foundation DB fr nn5n  BOOKS_AND_REFERENCE   \n",
       "10840  iHoroscope - 2018 Daily Horoscope & Astrology            LIFESTYLE   \n",
       "\n",
       "       Rating Reviews                Size     Installs  Type Price  \\\n",
       "10836     4.5      38                 53M       5,000+  Free     0   \n",
       "10837     5.0       4                3.6M         100+  Free     0   \n",
       "10838     NaN       3                9.5M       1,000+  Free     0   \n",
       "10839     4.5     114  Varies with device       1,000+  Free     0   \n",
       "10840     4.5  398307                 19M  10,000,000+  Free     0   \n",
       "\n",
       "      Content_Rating             Genres      Last_Updated         Current_Ver  \\\n",
       "10836       Everyone          Education     July 25, 2017                1.48   \n",
       "10837       Everyone          Education      July 6, 2018                 1.0   \n",
       "10838       Everyone            Medical  January 20, 2017                 1.0   \n",
       "10839     Mature 17+  Books & Reference  January 19, 2015  Varies with device   \n",
       "10840       Everyone          Lifestyle     July 25, 2018  Varies with device   \n",
       "\n",
       "              Android_Ver  \n",
       "10836          4.1 and up  \n",
       "10837          4.1 and up  \n",
       "10838          2.2 and up  \n",
       "10839  Varies with device  \n",
       "10840  Varies with device  "
      ],
      "text/html": [
       "<div>\n",
       "<style scoped>\n",
       "    .dataframe tbody tr th:only-of-type {\n",
       "        vertical-align: middle;\n",
       "    }\n",
       "\n",
       "    .dataframe tbody tr th {\n",
       "        vertical-align: top;\n",
       "    }\n",
       "\n",
       "    .dataframe thead th {\n",
       "        text-align: right;\n",
       "    }\n",
       "</style>\n",
       "<table border=\"1\" class=\"dataframe\">\n",
       "  <thead>\n",
       "    <tr style=\"text-align: right;\">\n",
       "      <th></th>\n",
       "      <th>App</th>\n",
       "      <th>Category</th>\n",
       "      <th>Rating</th>\n",
       "      <th>Reviews</th>\n",
       "      <th>Size</th>\n",
       "      <th>Installs</th>\n",
       "      <th>Type</th>\n",
       "      <th>Price</th>\n",
       "      <th>Content_Rating</th>\n",
       "      <th>Genres</th>\n",
       "      <th>Last_Updated</th>\n",
       "      <th>Current_Ver</th>\n",
       "      <th>Android_Ver</th>\n",
       "    </tr>\n",
       "  </thead>\n",
       "  <tbody>\n",
       "    <tr>\n",
       "      <th>10836</th>\n",
       "      <td>Sya9a Maroc - FR</td>\n",
       "      <td>FAMILY</td>\n",
       "      <td>4.5</td>\n",
       "      <td>38</td>\n",
       "      <td>53M</td>\n",
       "      <td>5,000+</td>\n",
       "      <td>Free</td>\n",
       "      <td>0</td>\n",
       "      <td>Everyone</td>\n",
       "      <td>Education</td>\n",
       "      <td>July 25, 2017</td>\n",
       "      <td>1.48</td>\n",
       "      <td>4.1 and up</td>\n",
       "    </tr>\n",
       "    <tr>\n",
       "      <th>10837</th>\n",
       "      <td>Fr. Mike Schmitz Audio Teachings</td>\n",
       "      <td>FAMILY</td>\n",
       "      <td>5.0</td>\n",
       "      <td>4</td>\n",
       "      <td>3.6M</td>\n",
       "      <td>100+</td>\n",
       "      <td>Free</td>\n",
       "      <td>0</td>\n",
       "      <td>Everyone</td>\n",
       "      <td>Education</td>\n",
       "      <td>July 6, 2018</td>\n",
       "      <td>1.0</td>\n",
       "      <td>4.1 and up</td>\n",
       "    </tr>\n",
       "    <tr>\n",
       "      <th>10838</th>\n",
       "      <td>Parkinson Exercices FR</td>\n",
       "      <td>MEDICAL</td>\n",
       "      <td>NaN</td>\n",
       "      <td>3</td>\n",
       "      <td>9.5M</td>\n",
       "      <td>1,000+</td>\n",
       "      <td>Free</td>\n",
       "      <td>0</td>\n",
       "      <td>Everyone</td>\n",
       "      <td>Medical</td>\n",
       "      <td>January 20, 2017</td>\n",
       "      <td>1.0</td>\n",
       "      <td>2.2 and up</td>\n",
       "    </tr>\n",
       "    <tr>\n",
       "      <th>10839</th>\n",
       "      <td>The SCP Foundation DB fr nn5n</td>\n",
       "      <td>BOOKS_AND_REFERENCE</td>\n",
       "      <td>4.5</td>\n",
       "      <td>114</td>\n",
       "      <td>Varies with device</td>\n",
       "      <td>1,000+</td>\n",
       "      <td>Free</td>\n",
       "      <td>0</td>\n",
       "      <td>Mature 17+</td>\n",
       "      <td>Books &amp; Reference</td>\n",
       "      <td>January 19, 2015</td>\n",
       "      <td>Varies with device</td>\n",
       "      <td>Varies with device</td>\n",
       "    </tr>\n",
       "    <tr>\n",
       "      <th>10840</th>\n",
       "      <td>iHoroscope - 2018 Daily Horoscope &amp; Astrology</td>\n",
       "      <td>LIFESTYLE</td>\n",
       "      <td>4.5</td>\n",
       "      <td>398307</td>\n",
       "      <td>19M</td>\n",
       "      <td>10,000,000+</td>\n",
       "      <td>Free</td>\n",
       "      <td>0</td>\n",
       "      <td>Everyone</td>\n",
       "      <td>Lifestyle</td>\n",
       "      <td>July 25, 2018</td>\n",
       "      <td>Varies with device</td>\n",
       "      <td>Varies with device</td>\n",
       "    </tr>\n",
       "  </tbody>\n",
       "</table>\n",
       "</div>"
      ]
     },
     "execution_count": 9,
     "metadata": {},
     "output_type": "execute_result"
    }
   ],
   "execution_count": 9
  },
  {
   "cell_type": "markdown",
   "source": [
    "# 2. Cleaning Data\n",
    "\n",
    "\n",
    "\n",
    "## Rating"
   ],
   "metadata": {
    "_uuid": "8c19f552f543134a723fe69855a6d2492480e1a1"
   }
  },
  {
   "cell_type": "code",
   "source": "data['Rating'].unique()",
   "metadata": {
    "trusted": true,
    "_uuid": "3f97cdd7d804ae6ff3581ea010678ef142e773c2",
    "scrolled": true,
    "ExecuteTime": {
     "end_time": "2024-12-20T13:07:18.225713Z",
     "start_time": "2024-12-20T13:07:18.221257Z"
    }
   },
   "outputs": [
    {
     "data": {
      "text/plain": [
       "array([ 4.1,  3.9,  4.7,  4.5,  4.3,  4.4,  3.8,  4.2,  4.6,  3.2,  4. ,\n",
       "        nan,  4.8,  4.9,  3.6,  3.7,  3.3,  3.4,  3.5,  3.1,  5. ,  2.6,\n",
       "        3. ,  1.9,  2.5,  2.8,  2.7,  1. ,  2.9,  2.3,  2.2,  1.7,  2. ,\n",
       "        1.8,  2.4,  1.6,  2.1,  1.4,  1.5,  1.2, 19. ])"
      ]
     },
     "execution_count": 10,
     "metadata": {},
     "output_type": "execute_result"
    }
   ],
   "execution_count": 10
  },
  {
   "metadata": {
    "ExecuteTime": {
     "end_time": "2024-12-20T13:07:18.557598Z",
     "start_time": "2024-12-20T13:07:18.549048Z"
    }
   },
   "cell_type": "code",
   "source": "data[data['Rating']>5]",
   "outputs": [
    {
     "data": {
      "text/plain": [
       "                                           App Category  Rating Reviews  \\\n",
       "10472  Life Made WI-Fi Touchscreen Photo Frame      1.9    19.0    3.0M   \n",
       "\n",
       "         Size Installs Type     Price Content_Rating             Genres  \\\n",
       "10472  1,000+     Free    0  Everyone            NaN  February 11, 2018   \n",
       "\n",
       "      Last_Updated Current_Ver Android_Ver  \n",
       "10472       1.0.19  4.0 and up         NaN  "
      ],
      "text/html": [
       "<div>\n",
       "<style scoped>\n",
       "    .dataframe tbody tr th:only-of-type {\n",
       "        vertical-align: middle;\n",
       "    }\n",
       "\n",
       "    .dataframe tbody tr th {\n",
       "        vertical-align: top;\n",
       "    }\n",
       "\n",
       "    .dataframe thead th {\n",
       "        text-align: right;\n",
       "    }\n",
       "</style>\n",
       "<table border=\"1\" class=\"dataframe\">\n",
       "  <thead>\n",
       "    <tr style=\"text-align: right;\">\n",
       "      <th></th>\n",
       "      <th>App</th>\n",
       "      <th>Category</th>\n",
       "      <th>Rating</th>\n",
       "      <th>Reviews</th>\n",
       "      <th>Size</th>\n",
       "      <th>Installs</th>\n",
       "      <th>Type</th>\n",
       "      <th>Price</th>\n",
       "      <th>Content_Rating</th>\n",
       "      <th>Genres</th>\n",
       "      <th>Last_Updated</th>\n",
       "      <th>Current_Ver</th>\n",
       "      <th>Android_Ver</th>\n",
       "    </tr>\n",
       "  </thead>\n",
       "  <tbody>\n",
       "    <tr>\n",
       "      <th>10472</th>\n",
       "      <td>Life Made WI-Fi Touchscreen Photo Frame</td>\n",
       "      <td>1.9</td>\n",
       "      <td>19.0</td>\n",
       "      <td>3.0M</td>\n",
       "      <td>1,000+</td>\n",
       "      <td>Free</td>\n",
       "      <td>0</td>\n",
       "      <td>Everyone</td>\n",
       "      <td>NaN</td>\n",
       "      <td>February 11, 2018</td>\n",
       "      <td>1.0.19</td>\n",
       "      <td>4.0 and up</td>\n",
       "      <td>NaN</td>\n",
       "    </tr>\n",
       "  </tbody>\n",
       "</table>\n",
       "</div>"
      ]
     },
     "execution_count": 11,
     "metadata": {},
     "output_type": "execute_result"
    }
   ],
   "execution_count": 11
  },
  {
   "metadata": {
    "ExecuteTime": {
     "end_time": "2024-12-20T13:07:18.810665Z",
     "start_time": "2024-12-20T13:07:18.802327Z"
    }
   },
   "cell_type": "code",
   "source": [
    "data.loc[10472,\"Category\"]=float(data.loc[10472,\"Category\"])\n",
    "data.loc[10472]= data.loc[10472].shift(1)\n",
    "data.loc[10472]"
   ],
   "outputs": [
    {
     "data": {
      "text/plain": [
       "App                                                  None\n",
       "Category          Life Made WI-Fi Touchscreen Photo Frame\n",
       "Rating                                                1.9\n",
       "Reviews                                              19.0\n",
       "Size                                                 3.0M\n",
       "Installs                                           1,000+\n",
       "Type                                                 Free\n",
       "Price                                                   0\n",
       "Content_Rating                                   Everyone\n",
       "Genres                                                NaN\n",
       "Last_Updated                            February 11, 2018\n",
       "Current_Ver                                        1.0.19\n",
       "Android_Ver                                    4.0 and up\n",
       "Name: 10472, dtype: object"
      ]
     },
     "execution_count": 12,
     "metadata": {},
     "output_type": "execute_result"
    }
   ],
   "execution_count": 12
  },
  {
   "metadata": {
    "ExecuteTime": {
     "end_time": "2024-12-20T13:07:19.116130Z",
     "start_time": "2024-12-20T13:07:19.109914Z"
    }
   },
   "cell_type": "code",
   "source": [
    "data.loc[10472,\"App\"]=data.loc[10472,\"Category\"]\n",
    "data.loc[10472,\"Category\"]=np.nan\n",
    "data.loc[10472]"
   ],
   "outputs": [
    {
     "data": {
      "text/plain": [
       "App               Life Made WI-Fi Touchscreen Photo Frame\n",
       "Category                                              NaN\n",
       "Rating                                                1.9\n",
       "Reviews                                              19.0\n",
       "Size                                                 3.0M\n",
       "Installs                                           1,000+\n",
       "Type                                                 Free\n",
       "Price                                                   0\n",
       "Content_Rating                                   Everyone\n",
       "Genres                                                NaN\n",
       "Last_Updated                            February 11, 2018\n",
       "Current_Ver                                        1.0.19\n",
       "Android_Ver                                    4.0 and up\n",
       "Name: 10472, dtype: object"
      ]
     },
     "execution_count": 13,
     "metadata": {},
     "output_type": "execute_result"
    }
   ],
   "execution_count": 13
  },
  {
   "cell_type": "markdown",
   "source": "## Size ",
   "metadata": {
    "_uuid": "dcddb819a95fd56516cc08d1386cbda017cf28b0"
   }
  },
  {
   "cell_type": "code",
   "source": "data['Size'].unique()",
   "metadata": {
    "trusted": true,
    "scrolled": true,
    "_uuid": "2f08d41f739bc873b4228a3672eabda7b386ac03",
    "ExecuteTime": {
     "end_time": "2024-12-20T13:07:19.456969Z",
     "start_time": "2024-12-20T13:07:19.451672Z"
    }
   },
   "outputs": [
    {
     "data": {
      "text/plain": [
       "array(['19M', '14M', '8.7M', '25M', '2.8M', '5.6M', '29M', '33M', '3.1M',\n",
       "       '28M', '12M', '20M', '21M', '37M', '2.7M', '5.5M', '17M', '39M',\n",
       "       '31M', '4.2M', '7.0M', '23M', '6.0M', '6.1M', '4.6M', '9.2M',\n",
       "       '5.2M', '11M', '24M', 'Varies with device', '9.4M', '15M', '10M',\n",
       "       '1.2M', '26M', '8.0M', '7.9M', '56M', '57M', '35M', '54M', '201k',\n",
       "       '3.6M', '5.7M', '8.6M', '2.4M', '27M', '2.5M', '16M', '3.4M',\n",
       "       '8.9M', '3.9M', '2.9M', '38M', '32M', '5.4M', '18M', '1.1M',\n",
       "       '2.2M', '4.5M', '9.8M', '52M', '9.0M', '6.7M', '30M', '2.6M',\n",
       "       '7.1M', '3.7M', '22M', '7.4M', '6.4M', '3.2M', '8.2M', '9.9M',\n",
       "       '4.9M', '9.5M', '5.0M', '5.9M', '13M', '73M', '6.8M', '3.5M',\n",
       "       '4.0M', '2.3M', '7.2M', '2.1M', '42M', '7.3M', '9.1M', '55M',\n",
       "       '23k', '6.5M', '1.5M', '7.5M', '51M', '41M', '48M', '8.5M', '46M',\n",
       "       '8.3M', '4.3M', '4.7M', '3.3M', '40M', '7.8M', '8.8M', '6.6M',\n",
       "       '5.1M', '61M', '66M', '79k', '8.4M', '118k', '44M', '695k', '1.6M',\n",
       "       '6.2M', '18k', '53M', '1.4M', '3.0M', '5.8M', '3.8M', '9.6M',\n",
       "       '45M', '63M', '49M', '77M', '4.4M', '4.8M', '70M', '6.9M', '9.3M',\n",
       "       '10.0M', '8.1M', '36M', '84M', '97M', '2.0M', '1.9M', '1.8M',\n",
       "       '5.3M', '47M', '556k', '526k', '76M', '7.6M', '59M', '9.7M', '78M',\n",
       "       '72M', '43M', '7.7M', '6.3M', '334k', '34M', '93M', '65M', '79M',\n",
       "       '100M', '58M', '50M', '68M', '64M', '67M', '60M', '94M', '232k',\n",
       "       '99M', '624k', '95M', '8.5k', '41k', '292k', '11k', '80M', '1.7M',\n",
       "       '74M', '62M', '69M', '75M', '98M', '85M', '82M', '96M', '87M',\n",
       "       '71M', '86M', '91M', '81M', '92M', '83M', '88M', '704k', '862k',\n",
       "       '899k', '378k', '266k', '375k', '1.3M', '975k', '980k', '4.1M',\n",
       "       '89M', '696k', '544k', '525k', '920k', '779k', '853k', '720k',\n",
       "       '713k', '772k', '318k', '58k', '241k', '196k', '857k', '51k',\n",
       "       '953k', '865k', '251k', '930k', '540k', '313k', '746k', '203k',\n",
       "       '26k', '314k', '239k', '371k', '220k', '730k', '756k', '91k',\n",
       "       '293k', '17k', '74k', '14k', '317k', '78k', '924k', '902k', '818k',\n",
       "       '81k', '939k', '169k', '45k', '475k', '965k', '90M', '545k', '61k',\n",
       "       '283k', '655k', '714k', '93k', '872k', '121k', '322k', '1.0M',\n",
       "       '976k', '172k', '238k', '549k', '206k', '954k', '444k', '717k',\n",
       "       '210k', '609k', '308k', '705k', '306k', '904k', '473k', '175k',\n",
       "       '350k', '383k', '454k', '421k', '70k', '812k', '442k', '842k',\n",
       "       '417k', '412k', '459k', '478k', '335k', '782k', '721k', '430k',\n",
       "       '429k', '192k', '200k', '460k', '728k', '496k', '816k', '414k',\n",
       "       '506k', '887k', '613k', '243k', '569k', '778k', '683k', '592k',\n",
       "       '319k', '186k', '840k', '647k', '191k', '373k', '437k', '598k',\n",
       "       '716k', '585k', '982k', '222k', '219k', '55k', '948k', '323k',\n",
       "       '691k', '511k', '951k', '963k', '25k', '554k', '351k', '27k',\n",
       "       '82k', '208k', '913k', '514k', '551k', '29k', '103k', '898k',\n",
       "       '743k', '116k', '153k', '209k', '353k', '499k', '173k', '597k',\n",
       "       '809k', '122k', '411k', '400k', '801k', '787k', '237k', '50k',\n",
       "       '643k', '986k', '97k', '516k', '837k', '780k', '961k', '269k',\n",
       "       '20k', '498k', '600k', '749k', '642k', '881k', '72k', '656k',\n",
       "       '601k', '221k', '228k', '108k', '940k', '176k', '33k', '663k',\n",
       "       '34k', '942k', '259k', '164k', '458k', '245k', '629k', '28k',\n",
       "       '288k', '775k', '785k', '636k', '916k', '994k', '309k', '485k',\n",
       "       '914k', '903k', '608k', '500k', '54k', '562k', '847k', '957k',\n",
       "       '688k', '811k', '270k', '48k', '329k', '523k', '921k', '874k',\n",
       "       '981k', '784k', '280k', '24k', '518k', '754k', '892k', '154k',\n",
       "       '860k', '364k', '387k', '626k', '161k', '879k', '39k', '970k',\n",
       "       '170k', '141k', '160k', '144k', '143k', '190k', '376k', '193k',\n",
       "       '246k', '73k', '658k', '992k', '253k', '420k', '404k', '470k',\n",
       "       '226k', '240k', '89k', '234k', '257k', '861k', '467k', '157k',\n",
       "       '44k', '676k', '67k', '552k', '885k', '1020k', '582k', '619k'],\n",
       "      dtype=object)"
      ]
     },
     "execution_count": 14,
     "metadata": {},
     "output_type": "execute_result"
    }
   ],
   "execution_count": 14
  },
  {
   "cell_type": "code",
   "source": [
    "data['Size'] = data.Size.replace(\"Varies with device\",np.nan)\n",
    "data['Size'] = data.Size.str.replace(\"M\",\"000\")\n",
    "data['Size'] = data.Size.str.replace(\"k\",\"\")\n",
    "data['Size'] = data.Size.str.replace('.','')\n",
    "data['Size'] = data['Size'].astype('float')\n",
    "data['Size'].dtype"
   ],
   "metadata": {
    "trusted": true,
    "_uuid": "e734a21ac67f81ad18740f71a1990a81e5b05980",
    "ExecuteTime": {
     "end_time": "2024-12-20T13:07:19.712075Z",
     "start_time": "2024-12-20T13:07:19.699342Z"
    }
   },
   "outputs": [
    {
     "data": {
      "text/plain": [
       "dtype('float64')"
      ]
     },
     "execution_count": 15,
     "metadata": {},
     "output_type": "execute_result"
    }
   ],
   "execution_count": 15
  },
  {
   "cell_type": "markdown",
   "source": [
    "\n",
    "## Price\n"
   ],
   "metadata": {
    "_uuid": "75de2fe8a52b1f160d8cef12be05c85591925e35"
   }
  },
  {
   "cell_type": "code",
   "source": "data['Price'].unique()",
   "metadata": {
    "trusted": true,
    "_uuid": "be5955138585a329cb93e2fe6028192d912a5a9a",
    "ExecuteTime": {
     "end_time": "2024-12-20T13:07:19.947184Z",
     "start_time": "2024-12-20T13:07:19.942435Z"
    }
   },
   "outputs": [
    {
     "data": {
      "text/plain": [
       "array(['0', '$4.99', '$3.99', '$6.99', '$1.49', '$2.99', '$7.99', '$5.99',\n",
       "       '$3.49', '$1.99', '$9.99', '$7.49', '$0.99', '$9.00', '$5.49',\n",
       "       '$10.00', '$24.99', '$11.99', '$79.99', '$16.99', '$14.99',\n",
       "       '$1.00', '$29.99', '$12.99', '$2.49', '$10.99', '$1.50', '$19.99',\n",
       "       '$15.99', '$33.99', '$74.99', '$39.99', '$3.95', '$4.49', '$1.70',\n",
       "       '$8.99', '$2.00', '$3.88', '$25.99', '$399.99', '$17.99',\n",
       "       '$400.00', '$3.02', '$1.76', '$4.84', '$4.77', '$1.61', '$2.50',\n",
       "       '$1.59', '$6.49', '$1.29', '$5.00', '$13.99', '$299.99', '$379.99',\n",
       "       '$37.99', '$18.99', '$389.99', '$19.90', '$8.49', '$1.75',\n",
       "       '$14.00', '$4.85', '$46.99', '$109.99', '$154.99', '$3.08',\n",
       "       '$2.59', '$4.80', '$1.96', '$19.40', '$3.90', '$4.59', '$15.46',\n",
       "       '$3.04', '$4.29', '$2.60', '$3.28', '$4.60', '$28.99', '$2.95',\n",
       "       '$2.90', '$1.97', '$200.00', '$89.99', '$2.56', '$30.99', '$3.61',\n",
       "       '$394.99', '$1.26', '$1.20', '$1.04'], dtype=object)"
      ]
     },
     "execution_count": 16,
     "metadata": {},
     "output_type": "execute_result"
    }
   ],
   "execution_count": 16
  },
  {
   "cell_type": "code",
   "source": [
    "data['Price'] = data.Price.str.replace(\"$\",\"\")\n",
    "data['Price'] = pd.to_numeric(data['Price'], errors='coerce')"
   ],
   "metadata": {
    "trusted": true,
    "_uuid": "731ba345951119e1f43a18f83ea6682cace41c41",
    "ExecuteTime": {
     "end_time": "2024-12-20T13:07:20.084676Z",
     "start_time": "2024-12-20T13:07:20.073950Z"
    }
   },
   "outputs": [],
   "execution_count": 17
  },
  {
   "cell_type": "code",
   "source": "data['Price'].unique()",
   "metadata": {
    "trusted": true,
    "_uuid": "2982cbbab602bf84a896b86a77b772c18ff1a98e",
    "ExecuteTime": {
     "end_time": "2024-12-20T13:07:20.202466Z",
     "start_time": "2024-12-20T13:07:20.197718Z"
    }
   },
   "outputs": [
    {
     "data": {
      "text/plain": [
       "array([  0.  ,   4.99,   3.99,   6.99,   1.49,   2.99,   7.99,   5.99,\n",
       "         3.49,   1.99,   9.99,   7.49,   0.99,   9.  ,   5.49,  10.  ,\n",
       "        24.99,  11.99,  79.99,  16.99,  14.99,   1.  ,  29.99,  12.99,\n",
       "         2.49,  10.99,   1.5 ,  19.99,  15.99,  33.99,  74.99,  39.99,\n",
       "         3.95,   4.49,   1.7 ,   8.99,   2.  ,   3.88,  25.99, 399.99,\n",
       "        17.99, 400.  ,   3.02,   1.76,   4.84,   4.77,   1.61,   2.5 ,\n",
       "         1.59,   6.49,   1.29,   5.  ,  13.99, 299.99, 379.99,  37.99,\n",
       "        18.99, 389.99,  19.9 ,   8.49,   1.75,  14.  ,   4.85,  46.99,\n",
       "       109.99, 154.99,   3.08,   2.59,   4.8 ,   1.96,  19.4 ,   3.9 ,\n",
       "         4.59,  15.46,   3.04,   4.29,   2.6 ,   3.28,   4.6 ,  28.99,\n",
       "         2.95,   2.9 ,   1.97, 200.  ,  89.99,   2.56,  30.99,   3.61,\n",
       "       394.99,   1.26,   1.2 ,   1.04])"
      ]
     },
     "execution_count": 18,
     "metadata": {},
     "output_type": "execute_result"
    }
   ],
   "execution_count": 18
  },
  {
   "cell_type": "markdown",
   "source": [
    "<a id=\"e\"></a>\n",
    "## Category"
   ],
   "metadata": {
    "_uuid": "77ddce3c883bb3786f45167d8c2ae8831b310032"
   }
  },
  {
   "cell_type": "code",
   "source": "data['Category'].unique()",
   "metadata": {
    "trusted": true,
    "_uuid": "0d65bdedf2d97679245e5e666fccf8a2d44beaa1",
    "ExecuteTime": {
     "end_time": "2024-12-20T13:07:20.265440Z",
     "start_time": "2024-12-20T13:07:20.261377Z"
    }
   },
   "outputs": [
    {
     "data": {
      "text/plain": [
       "array(['ART_AND_DESIGN', 'AUTO_AND_VEHICLES', 'BEAUTY',\n",
       "       'BOOKS_AND_REFERENCE', 'BUSINESS', 'COMICS', 'COMMUNICATION',\n",
       "       'DATING', 'EDUCATION', 'ENTERTAINMENT', 'EVENTS', 'FINANCE',\n",
       "       'FOOD_AND_DRINK', 'HEALTH_AND_FITNESS', 'HOUSE_AND_HOME',\n",
       "       'LIBRARIES_AND_DEMO', 'LIFESTYLE', 'GAME', 'FAMILY', 'MEDICAL',\n",
       "       'SOCIAL', 'SHOPPING', 'PHOTOGRAPHY', 'SPORTS', 'TRAVEL_AND_LOCAL',\n",
       "       'TOOLS', 'PERSONALIZATION', 'PRODUCTIVITY', 'PARENTING', 'WEATHER',\n",
       "       'VIDEO_PLAYERS', 'NEWS_AND_MAGAZINES', 'MAPS_AND_NAVIGATION', nan],\n",
       "      dtype=object)"
      ]
     },
     "execution_count": 19,
     "metadata": {},
     "output_type": "execute_result"
    }
   ],
   "execution_count": 19
  },
  {
   "metadata": {},
   "cell_type": "markdown",
   "source": "## Android Version & Current Ver"
  },
  {
   "metadata": {
    "ExecuteTime": {
     "end_time": "2024-12-20T13:07:20.331252Z",
     "start_time": "2024-12-20T13:07:20.326887Z"
    }
   },
   "cell_type": "code",
   "source": "data['Android_Ver'].unique()",
   "outputs": [
    {
     "data": {
      "text/plain": [
       "array(['4.0.3 and up', '4.2 and up', '4.4 and up', '2.3 and up',\n",
       "       '3.0 and up', '4.1 and up', '4.0 and up', '2.3.3 and up',\n",
       "       'Varies with device', '2.2 and up', '5.0 and up', '6.0 and up',\n",
       "       '1.6 and up', '1.5 and up', '2.1 and up', '7.0 and up',\n",
       "       '5.1 and up', '4.3 and up', '4.0.3 - 7.1.1', '2.0 and up',\n",
       "       '3.2 and up', '4.4W and up', '7.1 and up', '7.0 - 7.1.1',\n",
       "       '8.0 and up', '5.0 - 8.0', '3.1 and up', '2.0.1 and up',\n",
       "       '4.1 - 7.1.1', nan, '5.0 - 6.0', '1.0 and up', '2.2 - 7.1.1',\n",
       "       '5.0 - 7.1.1'], dtype=object)"
      ]
     },
     "execution_count": 20,
     "metadata": {},
     "output_type": "execute_result"
    }
   ],
   "execution_count": 20
  },
  {
   "metadata": {
    "ExecuteTime": {
     "end_time": "2024-12-20T13:07:20.423533Z",
     "start_time": "2024-12-20T13:07:20.397782Z"
    }
   },
   "cell_type": "code",
   "source": [
    "l1 = ['Android_Ver','Current_Ver']\n",
    "for i in l1 : \n",
    "    data[i] = data[i].replace(\"Varies with device\",np.nan)\n",
    "    data[i] = data[i].str.replace(\" and up\", \"\")\n",
    "    data[i] = data[i].str.extract(r'(\\d+\\.\\d+)')\n",
    "    data[i] = data[i].astype('float')\n",
    "data['Android_Ver'].dtype\n"
   ],
   "outputs": [
    {
     "data": {
      "text/plain": [
       "dtype('float64')"
      ]
     },
     "execution_count": 21,
     "metadata": {},
     "output_type": "execute_result"
    }
   ],
   "execution_count": 21
  },
  {
   "metadata": {
    "ExecuteTime": {
     "end_time": "2024-12-20T13:07:20.507594Z",
     "start_time": "2024-12-20T13:07:20.503151Z"
    }
   },
   "cell_type": "code",
   "source": "data['Current_Ver'].dtype",
   "outputs": [
    {
     "data": {
      "text/plain": [
       "dtype('float64')"
      ]
     },
     "execution_count": 22,
     "metadata": {},
     "output_type": "execute_result"
    }
   ],
   "execution_count": 22
  },
  {
   "metadata": {},
   "cell_type": "markdown",
   "source": "## Installs"
  },
  {
   "metadata": {
    "ExecuteTime": {
     "end_time": "2024-12-20T13:07:20.622319Z",
     "start_time": "2024-12-20T13:07:20.617990Z"
    }
   },
   "cell_type": "code",
   "source": "data['Installs'].unique()",
   "outputs": [
    {
     "data": {
      "text/plain": [
       "array(['10,000+', '500,000+', '5,000,000+', '50,000,000+', '100,000+',\n",
       "       '50,000+', '1,000,000+', '10,000,000+', '5,000+', '100,000,000+',\n",
       "       '1,000,000,000+', '1,000+', '500,000,000+', '50+', '100+', '500+',\n",
       "       '10+', '1+', '5+', '0+', '0'], dtype=object)"
      ]
     },
     "execution_count": 23,
     "metadata": {},
     "output_type": "execute_result"
    }
   ],
   "execution_count": 23
  },
  {
   "metadata": {
    "ExecuteTime": {
     "end_time": "2024-12-20T13:07:20.702335Z",
     "start_time": "2024-12-20T13:07:20.691429Z"
    }
   },
   "cell_type": "code",
   "source": [
    "data['Installs'] = data.Installs.str.replace('+','')\n",
    "data['Installs'] = data.Installs.str.replace(',','')\n",
    "data['Installs'] = data.Installs.astype('float')\n",
    "data['Installs'].dtype"
   ],
   "outputs": [
    {
     "data": {
      "text/plain": [
       "dtype('float64')"
      ]
     },
     "execution_count": 24,
     "metadata": {},
     "output_type": "execute_result"
    }
   ],
   "execution_count": 24
  },
  {
   "metadata": {},
   "cell_type": "markdown",
   "source": "## Type"
  },
  {
   "metadata": {
    "ExecuteTime": {
     "end_time": "2024-12-20T13:07:20.765291Z",
     "start_time": "2024-12-20T13:07:20.760904Z"
    }
   },
   "cell_type": "code",
   "source": "data['Type'].unique()",
   "outputs": [
    {
     "data": {
      "text/plain": [
       "array(['Free', 'Paid', nan], dtype=object)"
      ]
     },
     "execution_count": 25,
     "metadata": {},
     "output_type": "execute_result"
    }
   ],
   "execution_count": 25
  },
  {
   "metadata": {},
   "cell_type": "markdown",
   "source": "## Content Rating"
  },
  {
   "metadata": {
    "ExecuteTime": {
     "end_time": "2024-12-20T13:07:20.834643Z",
     "start_time": "2024-12-20T13:07:20.829645Z"
    }
   },
   "cell_type": "code",
   "source": "data['Content_Rating'].unique()",
   "outputs": [
    {
     "data": {
      "text/plain": [
       "array(['Everyone', 'Teen', 'Everyone 10+', 'Mature 17+',\n",
       "       'Adults only 18+', 'Unrated'], dtype=object)"
      ]
     },
     "execution_count": 26,
     "metadata": {},
     "output_type": "execute_result"
    }
   ],
   "execution_count": 26
  },
  {
   "metadata": {
    "ExecuteTime": {
     "end_time": "2024-12-20T13:07:21.075606Z",
     "start_time": "2024-12-20T13:07:20.907869Z"
    }
   },
   "cell_type": "code",
   "source": [
    "# Plot the distribution of content ratings\n",
    "plt.figure(figsize=(10,  6))\n",
    "sns.countplot(x='Content_Rating', data=data)\n",
    "plt.title('Distribution of Content Ratings')\n",
    "plt.xlabel('Content_Rating')\n",
    "plt.ylabel('Count')\n",
    "plt.show()"
   ],
   "outputs": [
    {
     "data": {
      "text/plain": [
       "<Figure size 1000x600 with 1 Axes>"
      ],
      "image/png": "[encoded data removed]"
     },
     "metadata": {},
     "output_type": "display_data"
    }
   ],
   "execution_count": 27
  },
  {
   "metadata": {
    "ExecuteTime": {
     "end_time": "2024-12-20T13:07:21.215957Z",
     "start_time": "2024-12-20T13:07:21.096791Z"
    }
   },
   "cell_type": "code",
   "source": [
    "data['Content_Rating'] = data.Content_Rating.replace(\"Everyone 10+\", 'Everyone')\n",
    "data['Content_Rating'] = data.Content_Rating.replace(\"Mature 17+\", 'Adults')\n",
    "data['Content_Rating'] = data.Content_Rating.replace(\"Adults only 18+\", 'Adults')\n",
    "data['Content_Rating'] = data.Content_Rating.replace(\"Unrated\", np.nan)\n",
    "# Plot the distribution of content ratings\n",
    "plt.figure(figsize=(10,  6))\n",
    "sns.countplot(x='Content_Rating', data=data)\n",
    "plt.title('Distribution of Content Ratings')\n",
    "plt.xlabel('Content_Rating')\n",
    "plt.ylabel('Count')\n",
    "plt.show()\n"
   ],
   "outputs": [
    {
     "data": {
      "text/plain": [
       "<Figure size 1000x600 with 1 Axes>"
      ],
      "image/png": "[encoded data removed]"
     },
     "metadata": {},
     "output_type": "display_data"
    }
   ],
   "execution_count": 28
  },
  {
   "metadata": {},
   "cell_type": "markdown",
   "source": "## Genres"
  },
  {
   "metadata": {
    "ExecuteTime": {
     "end_time": "2024-12-20T13:07:21.249937Z",
     "start_time": "2024-12-20T13:07:21.244478Z"
    }
   },
   "cell_type": "code",
   "source": "data['Genres'].unique()",
   "outputs": [
    {
     "data": {
      "text/plain": [
       "array(['Art & Design', 'Art & Design;Pretend Play',\n",
       "       'Art & Design;Creativity', 'Art & Design;Action & Adventure',\n",
       "       'Auto & Vehicles', 'Beauty', 'Books & Reference', 'Business',\n",
       "       'Comics', 'Comics;Creativity', 'Communication', 'Dating',\n",
       "       'Education;Education', 'Education', 'Education;Creativity',\n",
       "       'Education;Music & Video', 'Education;Action & Adventure',\n",
       "       'Education;Pretend Play', 'Education;Brain Games', 'Entertainment',\n",
       "       'Entertainment;Music & Video', 'Entertainment;Brain Games',\n",
       "       'Entertainment;Creativity', 'Events', 'Finance', 'Food & Drink',\n",
       "       'Health & Fitness', 'House & Home', 'Libraries & Demo',\n",
       "       'Lifestyle', 'Lifestyle;Pretend Play',\n",
       "       'Adventure;Action & Adventure', 'Arcade', 'Casual', 'Card',\n",
       "       'Casual;Pretend Play', 'Action', 'Strategy', 'Puzzle', 'Sports',\n",
       "       'Music', 'Word', 'Racing', 'Casual;Creativity',\n",
       "       'Casual;Action & Adventure', 'Simulation', 'Adventure', 'Board',\n",
       "       'Trivia', 'Role Playing', 'Simulation;Education',\n",
       "       'Action;Action & Adventure', 'Casual;Brain Games',\n",
       "       'Simulation;Action & Adventure', 'Educational;Creativity',\n",
       "       'Puzzle;Brain Games', 'Educational;Education', 'Card;Brain Games',\n",
       "       'Educational;Brain Games', 'Educational;Pretend Play',\n",
       "       'Entertainment;Education', 'Casual;Education',\n",
       "       'Music;Music & Video', 'Racing;Action & Adventure',\n",
       "       'Arcade;Pretend Play', 'Role Playing;Action & Adventure',\n",
       "       'Simulation;Pretend Play', 'Puzzle;Creativity',\n",
       "       'Sports;Action & Adventure', 'Educational;Action & Adventure',\n",
       "       'Arcade;Action & Adventure', 'Entertainment;Action & Adventure',\n",
       "       'Puzzle;Action & Adventure', 'Strategy;Action & Adventure',\n",
       "       'Music & Audio;Music & Video', 'Health & Fitness;Education',\n",
       "       'Adventure;Education', 'Board;Brain Games',\n",
       "       'Board;Action & Adventure', 'Board;Pretend Play',\n",
       "       'Casual;Music & Video', 'Role Playing;Pretend Play',\n",
       "       'Entertainment;Pretend Play', 'Video Players & Editors;Creativity',\n",
       "       'Card;Action & Adventure', 'Medical', 'Social', 'Shopping',\n",
       "       'Photography', 'Travel & Local',\n",
       "       'Travel & Local;Action & Adventure', 'Tools', 'Tools;Education',\n",
       "       'Personalization', 'Productivity', 'Parenting',\n",
       "       'Parenting;Music & Video', 'Parenting;Education',\n",
       "       'Parenting;Brain Games', 'Weather', 'Video Players & Editors',\n",
       "       'Video Players & Editors;Music & Video', 'News & Magazines',\n",
       "       'Maps & Navigation', 'Health & Fitness;Action & Adventure',\n",
       "       'Educational', 'Casino', 'Adventure;Brain Games',\n",
       "       'Trivia;Education', 'Lifestyle;Education',\n",
       "       'Books & Reference;Creativity', 'Books & Reference;Education',\n",
       "       'Puzzle;Education', 'Role Playing;Education',\n",
       "       'Role Playing;Brain Games', 'Strategy;Education',\n",
       "       'Racing;Pretend Play', 'Communication;Creativity', nan,\n",
       "       'Strategy;Creativity'], dtype=object)"
      ]
     },
     "execution_count": 29,
     "metadata": {},
     "output_type": "execute_result"
    }
   ],
   "execution_count": 29
  },
  {
   "metadata": {
    "ExecuteTime": {
     "end_time": "2024-12-20T13:07:21.310946Z",
     "start_time": "2024-12-20T13:07:21.302187Z"
    }
   },
   "cell_type": "code",
   "source": "data[data['Genres'].isna()]",
   "outputs": [
    {
     "data": {
      "text/plain": [
       "                                           App Category  Rating Reviews  \\\n",
       "10472  Life Made WI-Fi Touchscreen Photo Frame      NaN     1.9    19.0   \n",
       "\n",
       "          Size  Installs  Type  Price Content_Rating Genres  \\\n",
       "10472  30000.0    1000.0  Free    0.0       Everyone    NaN   \n",
       "\n",
       "            Last_Updated  Current_Ver  Android_Ver  \n",
       "10472  February 11, 2018          1.0          4.0  "
      ],
      "text/html": [
       "<div>\n",
       "<style scoped>\n",
       "    .dataframe tbody tr th:only-of-type {\n",
       "        vertical-align: middle;\n",
       "    }\n",
       "\n",
       "    .dataframe tbody tr th {\n",
       "        vertical-align: top;\n",
       "    }\n",
       "\n",
       "    .dataframe thead th {\n",
       "        text-align: right;\n",
       "    }\n",
       "</style>\n",
       "<table border=\"1\" class=\"dataframe\">\n",
       "  <thead>\n",
       "    <tr style=\"text-align: right;\">\n",
       "      <th></th>\n",
       "      <th>App</th>\n",
       "      <th>Category</th>\n",
       "      <th>Rating</th>\n",
       "      <th>Reviews</th>\n",
       "      <th>Size</th>\n",
       "      <th>Installs</th>\n",
       "      <th>Type</th>\n",
       "      <th>Price</th>\n",
       "      <th>Content_Rating</th>\n",
       "      <th>Genres</th>\n",
       "      <th>Last_Updated</th>\n",
       "      <th>Current_Ver</th>\n",
       "      <th>Android_Ver</th>\n",
       "    </tr>\n",
       "  </thead>\n",
       "  <tbody>\n",
       "    <tr>\n",
       "      <th>10472</th>\n",
       "      <td>Life Made WI-Fi Touchscreen Photo Frame</td>\n",
       "      <td>NaN</td>\n",
       "      <td>1.9</td>\n",
       "      <td>19.0</td>\n",
       "      <td>30000.0</td>\n",
       "      <td>1000.0</td>\n",
       "      <td>Free</td>\n",
       "      <td>0.0</td>\n",
       "      <td>Everyone</td>\n",
       "      <td>NaN</td>\n",
       "      <td>February 11, 2018</td>\n",
       "      <td>1.0</td>\n",
       "      <td>4.0</td>\n",
       "    </tr>\n",
       "  </tbody>\n",
       "</table>\n",
       "</div>"
      ]
     },
     "execution_count": 30,
     "metadata": {},
     "output_type": "execute_result"
    }
   ],
   "execution_count": 30
  },
  {
   "metadata": {
    "ExecuteTime": {
     "end_time": "2024-12-20T13:07:21.378105Z",
     "start_time": "2024-12-20T13:07:21.371565Z"
    }
   },
   "cell_type": "code",
   "source": [
    "data['Genres'] = data['Genres'].fillna(data['Genres'].mode()[0])\n",
    "data.loc[10472]"
   ],
   "outputs": [
    {
     "data": {
      "text/plain": [
       "App               Life Made WI-Fi Touchscreen Photo Frame\n",
       "Category                                              NaN\n",
       "Rating                                                1.9\n",
       "Reviews                                              19.0\n",
       "Size                                              30000.0\n",
       "Installs                                           1000.0\n",
       "Type                                                 Free\n",
       "Price                                                 0.0\n",
       "Content_Rating                                   Everyone\n",
       "Genres                                              Tools\n",
       "Last_Updated                            February 11, 2018\n",
       "Current_Ver                                           1.0\n",
       "Android_Ver                                           4.0\n",
       "Name: 10472, dtype: object"
      ]
     },
     "execution_count": 31,
     "metadata": {},
     "output_type": "execute_result"
    }
   ],
   "execution_count": 31
  },
  {
   "metadata": {},
   "cell_type": "markdown",
   "source": "## Last Update"
  },
  {
   "metadata": {
    "ExecuteTime": {
     "end_time": "2024-12-20T13:07:21.511373Z",
     "start_time": "2024-12-20T13:07:21.502531Z"
    }
   },
   "cell_type": "code",
   "source": "data.info()",
   "outputs": [
    {
     "name": "stdout",
     "output_type": "stream",
     "text": [
      "<class 'pandas.core.frame.DataFrame'>\n",
      "RangeIndex: 10841 entries, 0 to 10840\n",
      "Data columns (total 13 columns):\n",
      " #   Column          Non-Null Count  Dtype  \n",
      "---  ------          --------------  -----  \n",
      " 0   App             10841 non-null  object \n",
      " 1   Category        10840 non-null  object \n",
      " 2   Rating          9367 non-null   float64\n",
      " 3   Reviews         10841 non-null  object \n",
      " 4   Size            9146 non-null   float64\n",
      " 5   Installs        10841 non-null  float64\n",
      " 6   Type            10840 non-null  object \n",
      " 7   Price           10841 non-null  float64\n",
      " 8   Content_Rating  10839 non-null  object \n",
      " 9   Genres          10841 non-null  object \n",
      " 10  Last_Updated    10841 non-null  object \n",
      " 11  Current_Ver     9175 non-null   float64\n",
      " 12  Android_Ver     9477 non-null   float64\n",
      "dtypes: float64(6), object(7)\n",
      "memory usage: 1.1+ MB\n"
     ]
    }
   ],
   "execution_count": 32
  },
  {
   "metadata": {
    "ExecuteTime": {
     "end_time": "2024-12-20T13:07:21.665304Z",
     "start_time": "2024-12-20T13:07:21.660433Z"
    }
   },
   "cell_type": "code",
   "source": "data['Last_Updated'].unique()",
   "outputs": [
    {
     "data": {
      "text/plain": [
       "array(['January 7, 2018', 'January 15, 2018', 'August 1, 2018', ...,\n",
       "       'January 20, 2014', 'February 16, 2014', 'March 23, 2014'],\n",
       "      dtype=object)"
      ]
     },
     "execution_count": 33,
     "metadata": {},
     "output_type": "execute_result"
    }
   ],
   "execution_count": 33
  },
  {
   "metadata": {
    "ExecuteTime": {
     "end_time": "2024-12-20T13:07:21.804867Z",
     "start_time": "2024-12-20T13:07:21.792558Z"
    }
   },
   "cell_type": "code",
   "source": "data['Last_Updated'] = pd.to_datetime(data['Last_Updated']).dt.date",
   "outputs": [],
   "execution_count": 34
  },
  {
   "metadata": {},
   "cell_type": "markdown",
   "source": "## Handling missing Data"
  },
  {
   "metadata": {
    "ExecuteTime": {
     "end_time": "2024-12-20T13:07:21.929201Z",
     "start_time": "2024-12-20T13:07:21.920703Z"
    }
   },
   "cell_type": "code",
   "source": "data.isnull().sum()",
   "outputs": [
    {
     "data": {
      "text/plain": [
       "App                  0\n",
       "Category             1\n",
       "Rating            1474\n",
       "Reviews              0\n",
       "Size              1695\n",
       "Installs             0\n",
       "Type                 1\n",
       "Price                0\n",
       "Content_Rating       2\n",
       "Genres               0\n",
       "Last_Updated         0\n",
       "Current_Ver       1666\n",
       "Android_Ver       1364\n",
       "dtype: int64"
      ]
     },
     "execution_count": 35,
     "metadata": {},
     "output_type": "execute_result"
    }
   ],
   "execution_count": 35
  },
  {
   "metadata": {
    "ExecuteTime": {
     "end_time": "2024-12-20T13:07:22.389768Z",
     "start_time": "2024-12-20T13:07:21.997721Z"
    }
   },
   "cell_type": "code",
   "source": [
    "# Rating replace nans with median\n",
    "data['Rating'] = data['Rating'].fillna(data['Rating'].median())\n",
    "\n",
    "\n",
    "# Create the histogram of ratings\n",
    "plt.figure(figsize=(10, 6))\n",
    "sns.histplot(data['Rating'], bins=10, kde=True)\n",
    "plt.title('Distribution of Ratings')\n",
    "plt.xlabel('Rating')\n",
    "plt.ylabel('Frequency')\n",
    "plt.show()\n"
   ],
   "outputs": [
    {
     "data": {
      "text/plain": [
       "<Figure size 1000x600 with 1 Axes>"
      ],
      "image/png": "[encoded data removed]"
     },
     "metadata": {},
     "output_type": "display_data"
    }
   ],
   "execution_count": 36
  },
  {
   "metadata": {
    "ExecuteTime": {
     "end_time": "2024-12-20T13:07:22.656183Z",
     "start_time": "2024-12-20T13:07:22.422929Z"
    }
   },
   "cell_type": "code",
   "source": [
    "# Size replace nans with mode\n",
    "data['Size'] = data['Size'].fillna(data['Size'].mode())\n",
    "\n",
    "# Create the histogram of ratings\n",
    "plt.figure(figsize=(10, 6))\n",
    "sns.histplot(data['Size'], bins=10, kde=True)\n",
    "plt.title('Distribution of Size')\n",
    "plt.xlabel('Size')\n",
    "plt.ylabel('Frequency')\n",
    "plt.show()\n"
   ],
   "outputs": [
    {
     "data": {
      "text/plain": [
       "<Figure size 1000x600 with 1 Axes>"
      ],
      "image/png": "[encoded data removed]"
     },
     "metadata": {},
     "output_type": "display_data"
    }
   ],
   "execution_count": 37
  },
  {
   "metadata": {
    "ExecuteTime": {
     "end_time": "2024-12-20T13:07:22.696404Z",
     "start_time": "2024-12-20T13:07:22.685310Z"
    }
   },
   "cell_type": "code",
   "source": [
    "# delete other nans because it will not affect data \n",
    "data.dropna(inplace=True)\n",
    "data.isnull().sum()"
   ],
   "outputs": [
    {
     "data": {
      "text/plain": [
       "App               0\n",
       "Category          0\n",
       "Rating            0\n",
       "Reviews           0\n",
       "Size              0\n",
       "Installs          0\n",
       "Type              0\n",
       "Price             0\n",
       "Content_Rating    0\n",
       "Genres            0\n",
       "Last_Updated      0\n",
       "Current_Ver       0\n",
       "Android_Ver       0\n",
       "dtype: int64"
      ]
     },
     "execution_count": 38,
     "metadata": {},
     "output_type": "execute_result"
    }
   ],
   "execution_count": 38
  },
  {
   "metadata": {},
   "cell_type": "markdown",
   "source": "## Review\n"
  },
  {
   "metadata": {
    "ExecuteTime": {
     "end_time": "2024-12-20T13:07:22.746154Z",
     "start_time": "2024-12-20T13:07:22.740883Z"
    }
   },
   "cell_type": "code",
   "source": "data['Reviews'].unique()",
   "outputs": [
    {
     "data": {
      "text/plain": [
       "array(['159', '967', '87510', ..., '885', '603', '1195'], dtype=object)"
      ]
     },
     "execution_count": 39,
     "metadata": {},
     "output_type": "execute_result"
    }
   ],
   "execution_count": 39
  },
  {
   "metadata": {
    "ExecuteTime": {
     "end_time": "2024-12-20T13:07:22.873254Z",
     "start_time": "2024-12-20T13:07:22.865534Z"
    }
   },
   "cell_type": "code",
   "source": "data['Reviews'] = pd.to_numeric(data['Reviews'], errors='coerce')",
   "outputs": [],
   "execution_count": 40
  },
  {
   "metadata": {},
   "cell_type": "markdown",
   "source": ""
  },
  {
   "metadata": {},
   "cell_type": "markdown",
   "source": "## 1.\tWhat is the most expensive app on the Play Store?"
  },
  {
   "metadata": {
    "ExecuteTime": {
     "end_time": "2024-12-20T13:07:22.966161Z",
     "start_time": "2024-12-20T13:07:22.956619Z"
    }
   },
   "cell_type": "code",
   "source": [
    "data.nlargest(1,'Price')\n",
    "\n",
    "App_name = data.loc[4367,'App']\n",
    "App_name"
   ],
   "outputs": [
    {
     "data": {
      "text/plain": [
       "\"I'm Rich - Trump Edition\""
      ]
     },
     "execution_count": 41,
     "metadata": {},
     "output_type": "execute_result"
    }
   ],
   "execution_count": 41
  },
  {
   "metadata": {},
   "cell_type": "markdown",
   "source": "## 2.\tWhich genre has the highest number of apps?"
  },
  {
   "metadata": {
    "ExecuteTime": {
     "end_time": "2024-12-20T13:07:23.034923Z",
     "start_time": "2024-12-20T13:07:23.029018Z"
    }
   },
   "cell_type": "code",
   "source": [
    "x = data.Genres.value_counts()\n",
    "x.nlargest(1)\n"
   ],
   "outputs": [
    {
     "data": {
      "text/plain": [
       "Genres\n",
       "Tools    718\n",
       "Name: count, dtype: int64"
      ]
     },
     "execution_count": 42,
     "metadata": {},
     "output_type": "execute_result"
    }
   ],
   "execution_count": 42
  },
  {
   "metadata": {},
   "cell_type": "markdown",
   "source": ""
  },
  {
   "metadata": {},
   "cell_type": "markdown",
   "source": "## 3.\tWhat is the average size of free vs. paid apps?"
  },
  {
   "metadata": {
    "ExecuteTime": {
     "end_time": "2024-12-20T13:07:23.187350Z",
     "start_time": "2024-12-20T13:07:23.180399Z"
    }
   },
   "cell_type": "code",
   "source": [
    "free = data[data['Type']=='Free'].Size\n",
    "paid = data[data['Type']=='Paid'].Size\n",
    "avg_free = free.sum()/len(free)\n",
    "avg_paid = paid.sum()/len(paid)\n",
    "print(f\"average free {avg_free} vs average paid {avg_paid}\")\n"
   ],
   "outputs": [
    {
     "name": "stdout",
     "output_type": "stream",
     "text": [
      "average free 39228.47953431372 vs average paid 35622.59397417503\n"
     ]
    }
   ],
   "execution_count": 43
  },
  {
   "metadata": {},
   "cell_type": "markdown",
   "source": "## 4.\tWhat are the top 5 most expensive apps with a perfect rating (5)?"
  },
  {
   "metadata": {
    "ExecuteTime": {
     "end_time": "2024-12-20T13:07:23.302340Z",
     "start_time": "2024-12-20T13:07:23.287528Z"
    }
   },
   "cell_type": "code",
   "source": [
    "five_stars = data[data['Rating']==5].nlargest(5,'Price')\n",
    "five_stars"
   ],
   "outputs": [
    {
     "data": {
      "text/plain": [
       "                                            App Category  Rating  Reviews  \\\n",
       "5489                  AP Art History Flashcards   FAMILY     5.0        1   \n",
       "7477                 USMLE Step 2 CK Flashcards   FAMILY     5.0        1   \n",
       "5246                      Hey AJ! It's Bedtime!   FAMILY     5.0        1   \n",
       "5482                 meStudying: AP English Lit   FAMILY     5.0        1   \n",
       "7204  TI-84 CE Graphing Calculator Manual TI 84   FAMILY     5.0        1   \n",
       "\n",
       "         Size  Installs  Type  Price Content_Rating     Genres Last_Updated  \\\n",
       "5489  96000.0      10.0  Paid  29.99         Adults  Education   2016-01-19   \n",
       "7477  40000.0      10.0  Paid  19.99       Everyone  Education   2014-05-26   \n",
       "5246  63000.0      10.0  Paid   4.99       Everyone  Education   2018-04-04   \n",
       "5482    655.0      10.0  Paid   4.99       Everyone  Education   2013-08-31   \n",
       "7204  27000.0     100.0  Paid   4.99       Everyone  Education   2018-03-28   \n",
       "\n",
       "      Current_Ver  Android_Ver  \n",
       "5489         3.30          4.0  \n",
       "7477         2.47          2.2  \n",
       "5246         1.00          2.3  \n",
       "5482         1.30          2.0  \n",
       "7204         1.50          4.1  "
      ],
      "text/html": [
       "<div>\n",
       "<style scoped>\n",
       "    .dataframe tbody tr th:only-of-type {\n",
       "        vertical-align: middle;\n",
       "    }\n",
       "\n",
       "    .dataframe tbody tr th {\n",
       "        vertical-align: top;\n",
       "    }\n",
       "\n",
       "    .dataframe thead th {\n",
       "        text-align: right;\n",
       "    }\n",
       "</style>\n",
       "<table border=\"1\" class=\"dataframe\">\n",
       "  <thead>\n",
       "    <tr style=\"text-align: right;\">\n",
       "      <th></th>\n",
       "      <th>App</th>\n",
       "      <th>Category</th>\n",
       "      <th>Rating</th>\n",
       "      <th>Reviews</th>\n",
       "      <th>Size</th>\n",
       "      <th>Installs</th>\n",
       "      <th>Type</th>\n",
       "      <th>Price</th>\n",
       "      <th>Content_Rating</th>\n",
       "      <th>Genres</th>\n",
       "      <th>Last_Updated</th>\n",
       "      <th>Current_Ver</th>\n",
       "      <th>Android_Ver</th>\n",
       "    </tr>\n",
       "  </thead>\n",
       "  <tbody>\n",
       "    <tr>\n",
       "      <th>5489</th>\n",
       "      <td>AP Art History Flashcards</td>\n",
       "      <td>FAMILY</td>\n",
       "      <td>5.0</td>\n",
       "      <td>1</td>\n",
       "      <td>96000.0</td>\n",
       "      <td>10.0</td>\n",
       "      <td>Paid</td>\n",
       "      <td>29.99</td>\n",
       "      <td>Adults</td>\n",
       "      <td>Education</td>\n",
       "      <td>2016-01-19</td>\n",
       "      <td>3.30</td>\n",
       "      <td>4.0</td>\n",
       "    </tr>\n",
       "    <tr>\n",
       "      <th>7477</th>\n",
       "      <td>USMLE Step 2 CK Flashcards</td>\n",
       "      <td>FAMILY</td>\n",
       "      <td>5.0</td>\n",
       "      <td>1</td>\n",
       "      <td>40000.0</td>\n",
       "      <td>10.0</td>\n",
       "      <td>Paid</td>\n",
       "      <td>19.99</td>\n",
       "      <td>Everyone</td>\n",
       "      <td>Education</td>\n",
       "      <td>2014-05-26</td>\n",
       "      <td>2.47</td>\n",
       "      <td>2.2</td>\n",
       "    </tr>\n",
       "    <tr>\n",
       "      <th>5246</th>\n",
       "      <td>Hey AJ! It's Bedtime!</td>\n",
       "      <td>FAMILY</td>\n",
       "      <td>5.0</td>\n",
       "      <td>1</td>\n",
       "      <td>63000.0</td>\n",
       "      <td>10.0</td>\n",
       "      <td>Paid</td>\n",
       "      <td>4.99</td>\n",
       "      <td>Everyone</td>\n",
       "      <td>Education</td>\n",
       "      <td>2018-04-04</td>\n",
       "      <td>1.00</td>\n",
       "      <td>2.3</td>\n",
       "    </tr>\n",
       "    <tr>\n",
       "      <th>5482</th>\n",
       "      <td>meStudying: AP English Lit</td>\n",
       "      <td>FAMILY</td>\n",
       "      <td>5.0</td>\n",
       "      <td>1</td>\n",
       "      <td>655.0</td>\n",
       "      <td>10.0</td>\n",
       "      <td>Paid</td>\n",
       "      <td>4.99</td>\n",
       "      <td>Everyone</td>\n",
       "      <td>Education</td>\n",
       "      <td>2013-08-31</td>\n",
       "      <td>1.30</td>\n",
       "      <td>2.0</td>\n",
       "    </tr>\n",
       "    <tr>\n",
       "      <th>7204</th>\n",
       "      <td>TI-84 CE Graphing Calculator Manual TI 84</td>\n",
       "      <td>FAMILY</td>\n",
       "      <td>5.0</td>\n",
       "      <td>1</td>\n",
       "      <td>27000.0</td>\n",
       "      <td>100.0</td>\n",
       "      <td>Paid</td>\n",
       "      <td>4.99</td>\n",
       "      <td>Everyone</td>\n",
       "      <td>Education</td>\n",
       "      <td>2018-03-28</td>\n",
       "      <td>1.50</td>\n",
       "      <td>4.1</td>\n",
       "    </tr>\n",
       "  </tbody>\n",
       "</table>\n",
       "</div>"
      ]
     },
     "execution_count": 44,
     "metadata": {},
     "output_type": "execute_result"
    }
   ],
   "execution_count": 44
  },
  {
   "metadata": {},
   "cell_type": "markdown",
   "source": ""
  },
  {
   "metadata": {},
   "cell_type": "markdown",
   "source": "## 5.\tHow many apps have received more than 50K reviews?"
  },
  {
   "metadata": {
    "ExecuteTime": {
     "end_time": "2024-12-20T13:07:23.371857Z",
     "start_time": "2024-12-20T13:07:23.357902Z"
    }
   },
   "cell_type": "code",
   "source": [
    "apps_with50k = data[data['Reviews'] > 50000]\n",
    "apps_with50k"
   ],
   "outputs": [
    {
     "data": {
      "text/plain": [
       "                                                     App           Category  \\\n",
       "2      U Launcher Lite – FREE Live Cool Themes, Hide ...     ART_AND_DESIGN   \n",
       "18                         FlipaClip - Cartoon animation     ART_AND_DESIGN   \n",
       "19                                          ibis Paint X     ART_AND_DESIGN   \n",
       "45     Canva: Poster, banner, card maker & graphic de...     ART_AND_DESIGN   \n",
       "69                           Used cars for sale - Trovit  AUTO_AND_VEHICLES   \n",
       "...                                                  ...                ...   \n",
       "10781                               Modern Strike Online               GAME   \n",
       "10784                                         Big Hunter               GAME   \n",
       "10796   Inf VPN - Global Proxy & Unlimited Free WIFI VPN              TOOLS   \n",
       "10803                       Fatal Raid - No.1 Mobile FPS               GAME   \n",
       "10809              Castle Clash: RPG War and Strategy FR             FAMILY   \n",
       "\n",
       "       Rating  Reviews     Size    Installs  Type  Price Content_Rating  \\\n",
       "2         4.7    87510  87000.0   5000000.0  Free    0.0       Everyone   \n",
       "18        4.3   194216  39000.0   5000000.0  Free    0.0       Everyone   \n",
       "19        4.6   224399  31000.0  10000000.0  Free    0.0       Everyone   \n",
       "45        4.7   174531  24000.0  10000000.0  Free    0.0       Everyone   \n",
       "69        4.2    52530  70000.0   5000000.0  Free    0.0       Everyone   \n",
       "...       ...      ...      ...         ...   ...    ...            ...   \n",
       "10781     4.3   834117  44000.0  10000000.0  Free    0.0           Teen   \n",
       "10784     4.3   245455  84000.0  10000000.0  Free    0.0       Everyone   \n",
       "10796     4.7    61445  78000.0   1000000.0  Free    0.0       Everyone   \n",
       "10803     4.3    56496  81000.0   1000000.0  Free    0.0           Teen   \n",
       "10809     4.7   376223  24000.0   1000000.0  Free    0.0       Everyone   \n",
       "\n",
       "                Genres Last_Updated  Current_Ver  Android_Ver  \n",
       "2         Art & Design   2018-08-01         1.20          4.0  \n",
       "18        Art & Design   2018-08-03         2.20          4.0  \n",
       "19        Art & Design   2018-07-30         5.50          4.1  \n",
       "45        Art & Design   2018-07-31         1.60          4.1  \n",
       "69     Auto & Vehicles   2018-07-16         4.47          4.0  \n",
       "...                ...          ...          ...          ...  \n",
       "10781           Action   2018-07-30         1.25          4.1  \n",
       "10784           Action   2018-05-31         2.80          4.0  \n",
       "10796            Tools   2018-07-26         1.90          4.1  \n",
       "10803           Action   2018-08-07         1.50          4.0  \n",
       "10809         Strategy   2018-07-18         1.40          4.1  \n",
       "\n",
       "[1679 rows x 13 columns]"
      ],
      "text/html": [
       "<div>\n",
       "<style scoped>\n",
       "    .dataframe tbody tr th:only-of-type {\n",
       "        vertical-align: middle;\n",
       "    }\n",
       "\n",
       "    .dataframe tbody tr th {\n",
       "        vertical-align: top;\n",
       "    }\n",
       "\n",
       "    .dataframe thead th {\n",
       "        text-align: right;\n",
       "    }\n",
       "</style>\n",
       "<table border=\"1\" class=\"dataframe\">\n",
       "  <thead>\n",
       "    <tr style=\"text-align: right;\">\n",
       "      <th></th>\n",
       "      <th>App</th>\n",
       "      <th>Category</th>\n",
       "      <th>Rating</th>\n",
       "      <th>Reviews</th>\n",
       "      <th>Size</th>\n",
       "      <th>Installs</th>\n",
       "      <th>Type</th>\n",
       "      <th>Price</th>\n",
       "      <th>Content_Rating</th>\n",
       "      <th>Genres</th>\n",
       "      <th>Last_Updated</th>\n",
       "      <th>Current_Ver</th>\n",
       "      <th>Android_Ver</th>\n",
       "    </tr>\n",
       "  </thead>\n",
       "  <tbody>\n",
       "    <tr>\n",
       "      <th>2</th>\n",
       "      <td>U Launcher Lite – FREE Live Cool Themes, Hide ...</td>\n",
       "      <td>ART_AND_DESIGN</td>\n",
       "      <td>4.7</td>\n",
       "      <td>87510</td>\n",
       "      <td>87000.0</td>\n",
       "      <td>5000000.0</td>\n",
       "      <td>Free</td>\n",
       "      <td>0.0</td>\n",
       "      <td>Everyone</td>\n",
       "      <td>Art &amp; Design</td>\n",
       "      <td>2018-08-01</td>\n",
       "      <td>1.20</td>\n",
       "      <td>4.0</td>\n",
       "    </tr>\n",
       "    <tr>\n",
       "      <th>18</th>\n",
       "      <td>FlipaClip - Cartoon animation</td>\n",
       "      <td>ART_AND_DESIGN</td>\n",
       "      <td>4.3</td>\n",
       "      <td>194216</td>\n",
       "      <td>39000.0</td>\n",
       "      <td>5000000.0</td>\n",
       "      <td>Free</td>\n",
       "      <td>0.0</td>\n",
       "      <td>Everyone</td>\n",
       "      <td>Art &amp; Design</td>\n",
       "      <td>2018-08-03</td>\n",
       "      <td>2.20</td>\n",
       "      <td>4.0</td>\n",
       "    </tr>\n",
       "    <tr>\n",
       "      <th>19</th>\n",
       "      <td>ibis Paint X</td>\n",
       "      <td>ART_AND_DESIGN</td>\n",
       "      <td>4.6</td>\n",
       "      <td>224399</td>\n",
       "      <td>31000.0</td>\n",
       "      <td>10000000.0</td>\n",
       "      <td>Free</td>\n",
       "      <td>0.0</td>\n",
       "      <td>Everyone</td>\n",
       "      <td>Art &amp; Design</td>\n",
       "      <td>2018-07-30</td>\n",
       "      <td>5.50</td>\n",
       "      <td>4.1</td>\n",
       "    </tr>\n",
       "    <tr>\n",
       "      <th>45</th>\n",
       "      <td>Canva: Poster, banner, card maker &amp; graphic de...</td>\n",
       "      <td>ART_AND_DESIGN</td>\n",
       "      <td>4.7</td>\n",
       "      <td>174531</td>\n",
       "      <td>24000.0</td>\n",
       "      <td>10000000.0</td>\n",
       "      <td>Free</td>\n",
       "      <td>0.0</td>\n",
       "      <td>Everyone</td>\n",
       "      <td>Art &amp; Design</td>\n",
       "      <td>2018-07-31</td>\n",
       "      <td>1.60</td>\n",
       "      <td>4.1</td>\n",
       "    </tr>\n",
       "    <tr>\n",
       "      <th>69</th>\n",
       "      <td>Used cars for sale - Trovit</td>\n",
       "      <td>AUTO_AND_VEHICLES</td>\n",
       "      <td>4.2</td>\n",
       "      <td>52530</td>\n",
       "      <td>70000.0</td>\n",
       "      <td>5000000.0</td>\n",
       "      <td>Free</td>\n",
       "      <td>0.0</td>\n",
       "      <td>Everyone</td>\n",
       "      <td>Auto &amp; Vehicles</td>\n",
       "      <td>2018-07-16</td>\n",
       "      <td>4.47</td>\n",
       "      <td>4.0</td>\n",
       "    </tr>\n",
       "    <tr>\n",
       "      <th>...</th>\n",
       "      <td>...</td>\n",
       "      <td>...</td>\n",
       "      <td>...</td>\n",
       "      <td>...</td>\n",
       "      <td>...</td>\n",
       "      <td>...</td>\n",
       "      <td>...</td>\n",
       "      <td>...</td>\n",
       "      <td>...</td>\n",
       "      <td>...</td>\n",
       "      <td>...</td>\n",
       "      <td>...</td>\n",
       "      <td>...</td>\n",
       "    </tr>\n",
       "    <tr>\n",
       "      <th>10781</th>\n",
       "      <td>Modern Strike Online</td>\n",
       "      <td>GAME</td>\n",
       "      <td>4.3</td>\n",
       "      <td>834117</td>\n",
       "      <td>44000.0</td>\n",
       "      <td>10000000.0</td>\n",
       "      <td>Free</td>\n",
       "      <td>0.0</td>\n",
       "      <td>Teen</td>\n",
       "      <td>Action</td>\n",
       "      <td>2018-07-30</td>\n",
       "      <td>1.25</td>\n",
       "      <td>4.1</td>\n",
       "    </tr>\n",
       "    <tr>\n",
       "      <th>10784</th>\n",
       "      <td>Big Hunter</td>\n",
       "      <td>GAME</td>\n",
       "      <td>4.3</td>\n",
       "      <td>245455</td>\n",
       "      <td>84000.0</td>\n",
       "      <td>10000000.0</td>\n",
       "      <td>Free</td>\n",
       "      <td>0.0</td>\n",
       "      <td>Everyone</td>\n",
       "      <td>Action</td>\n",
       "      <td>2018-05-31</td>\n",
       "      <td>2.80</td>\n",
       "      <td>4.0</td>\n",
       "    </tr>\n",
       "    <tr>\n",
       "      <th>10796</th>\n",
       "      <td>Inf VPN - Global Proxy &amp; Unlimited Free WIFI VPN</td>\n",
       "      <td>TOOLS</td>\n",
       "      <td>4.7</td>\n",
       "      <td>61445</td>\n",
       "      <td>78000.0</td>\n",
       "      <td>1000000.0</td>\n",
       "      <td>Free</td>\n",
       "      <td>0.0</td>\n",
       "      <td>Everyone</td>\n",
       "      <td>Tools</td>\n",
       "      <td>2018-07-26</td>\n",
       "      <td>1.90</td>\n",
       "      <td>4.1</td>\n",
       "    </tr>\n",
       "    <tr>\n",
       "      <th>10803</th>\n",
       "      <td>Fatal Raid - No.1 Mobile FPS</td>\n",
       "      <td>GAME</td>\n",
       "      <td>4.3</td>\n",
       "      <td>56496</td>\n",
       "      <td>81000.0</td>\n",
       "      <td>1000000.0</td>\n",
       "      <td>Free</td>\n",
       "      <td>0.0</td>\n",
       "      <td>Teen</td>\n",
       "      <td>Action</td>\n",
       "      <td>2018-08-07</td>\n",
       "      <td>1.50</td>\n",
       "      <td>4.0</td>\n",
       "    </tr>\n",
       "    <tr>\n",
       "      <th>10809</th>\n",
       "      <td>Castle Clash: RPG War and Strategy FR</td>\n",
       "      <td>FAMILY</td>\n",
       "      <td>4.7</td>\n",
       "      <td>376223</td>\n",
       "      <td>24000.0</td>\n",
       "      <td>1000000.0</td>\n",
       "      <td>Free</td>\n",
       "      <td>0.0</td>\n",
       "      <td>Everyone</td>\n",
       "      <td>Strategy</td>\n",
       "      <td>2018-07-18</td>\n",
       "      <td>1.40</td>\n",
       "      <td>4.1</td>\n",
       "    </tr>\n",
       "  </tbody>\n",
       "</table>\n",
       "<p>1679 rows × 13 columns</p>\n",
       "</div>"
      ]
     },
     "execution_count": 45,
     "metadata": {},
     "output_type": "execute_result"
    }
   ],
   "execution_count": 45
  },
  {
   "metadata": {},
   "cell_type": "markdown",
   "source": "## 6.\tWhat is the average price of apps, grouped by genre and number of installs?"
  },
  {
   "metadata": {
    "ExecuteTime": {
     "end_time": "2024-12-20T13:07:23.448277Z",
     "start_time": "2024-12-20T13:07:23.439385Z"
    }
   },
   "cell_type": "code",
   "source": [
    "x=data.groupby(['Installs','Genres'])\n",
    "x.Price.mean()"
   ],
   "outputs": [
    {
     "data": {
      "text/plain": [
       "Installs      Genres          \n",
       "0.000000e+00  Art & Design          0.00\n",
       "              Business              0.00\n",
       "              Education             2.49\n",
       "              Finance             212.99\n",
       "              Medical             200.00\n",
       "                                   ...  \n",
       "5.000000e+08  Communication         0.00\n",
       "              Health & Fitness      0.00\n",
       "              Tools                 0.00\n",
       "1.000000e+09  Arcade                0.00\n",
       "              News & Magazines      0.00\n",
       "Name: Price, Length: 860, dtype: float64"
      ]
     },
     "execution_count": 46,
     "metadata": {},
     "output_type": "execute_result"
    }
   ],
   "execution_count": 46
  },
  {
   "metadata": {},
   "cell_type": "markdown",
   "source": "## 7.\tHow many apps have a rating higher than 4.7, and what is their average price?"
  },
  {
   "metadata": {
    "ExecuteTime": {
     "end_time": "2024-12-20T13:07:23.619579Z",
     "start_time": "2024-12-20T13:07:23.614075Z"
    }
   },
   "cell_type": "code",
   "source": "data[data['Rating']>4.7].Price.mean()",
   "outputs": [
    {
     "data": {
      "text/plain": [
       "0.4875774134790528"
      ]
     },
     "execution_count": 47,
     "metadata": {},
     "output_type": "execute_result"
    }
   ],
   "execution_count": 47
  },
  {
   "metadata": {},
   "cell_type": "markdown",
   "source": [
    "## 8.\tWhat is Google's estimated revenue from apps with 5,000,000+ installs?\n",
    "(Assuming Google takes a 30% cut from app sales)\n"
   ]
  },
  {
   "metadata": {
    "ExecuteTime": {
     "end_time": "2024-12-20T13:19:17.305652Z",
     "start_time": "2024-12-20T13:19:16.731915Z"
    }
   },
   "cell_type": "code",
   "source": [
    "# Plotting the scatter plot with a regression line\n",
    "plt.figure(figsize=(20, 12))\n",
    "sns.regplot(x='Installs', y='Price', data=data)\n",
    "plt.xlabel('Number of Installs')\n",
    "plt.ylabel('Price')\n",
    "plt.title('Correlation between Price and Installs')\n",
    "plt.show()\n"
   ],
   "outputs": [
    {
     "data": {
      "text/plain": [
       "<Figure size 2000x1200 with 1 Axes>"
      ],
      "image/png": "[encoded data removed]"
     },
     "metadata": {},
     "output_type": "display_data"
    }
   ],
   "execution_count": 65
  },
  {
   "metadata": {},
   "cell_type": "markdown",
   "source": ""
  },
  {
   "metadata": {
    "ExecuteTime": {
     "end_time": "2024-12-20T13:21:02.831207Z",
     "start_time": "2024-12-20T13:21:02.825671Z"
    }
   },
   "cell_type": "code",
   "source": "data[data['Installs']>5000000].Price.sum()*.3",
   "outputs": [
    {
     "data": {
      "text/plain": [
       "0.297"
      ]
     },
     "execution_count": 69,
     "metadata": {},
     "output_type": "execute_result"
    }
   ],
   "execution_count": 69
  },
  {
   "metadata": {},
   "cell_type": "markdown",
   "source": "## 9.\tWhat are the maximum and minimum sizes of free vs. paid apps?"
  },
  {
   "metadata": {
    "ExecuteTime": {
     "end_time": "2024-12-20T13:24:04.889105Z",
     "start_time": "2024-12-20T13:24:04.885457Z"
    }
   },
   "cell_type": "code",
   "source": [
    "max_free,min_free = free.max(),free.min()\n",
    "max_paid,min_paid = paid.max(),paid.min()\n",
    "print(f\"max free {max_free} vs max paid {max_paid}\")\n",
    "print(f\"min free {min_free} vs min paid {min_paid}\")"
   ],
   "outputs": [
    {
     "name": "stdout",
     "output_type": "stream",
     "text": [
      "max free 100000.0 vs max paid 100000.0\n",
      "min free 18.0 vs min paid 17.0\n"
     ]
    }
   ],
   "execution_count": 74
  },
  {
   "metadata": {},
   "cell_type": "markdown",
   "source": "## 10.\tIs there a correlation between an app’s rating, number of reviews, size, and its price?"
  },
  {
   "metadata": {
    "ExecuteTime": {
     "end_time": "2024-12-20T13:26:32.157412Z",
     "start_time": "2024-12-20T13:26:31.979786Z"
    }
   },
   "cell_type": "code",
   "source": [
    "correlation_matrix = data[['Rating', 'Reviews', 'Size', 'Price']].corr()\n",
    "\n",
    "# Plot the correlation matrix\n",
    "plt.figure(figsize=(10, 8))\n",
    "sns.heatmap(correlation_matrix, annot=True, cmap='coolwarm', linewidths=0.5)\n",
    "plt.title('Correlation between Rating, Reviews, Size, and Price')\n",
    "plt.show()\n"
   ],
   "outputs": [
    {
     "data": {
      "text/plain": [
       "<Figure size 1000x800 with 2 Axes>"
      ],
      "image/png": "[encoded data removed]"
     },
     "metadata": {},
     "output_type": "display_data"
    }
   ],
   "execution_count": 76
  },
  {
   "metadata": {},
   "cell_type": "markdown",
   "source": "there is no corr "
  },
  {
   "metadata": {},
   "cell_type": "markdown",
   "source": "## 11.\tHow many apps exist for each type (free/paid) across different content ratings?"
  },
  {
   "metadata": {
    "ExecuteTime": {
     "end_time": "2024-12-20T13:40:52.732638Z",
     "start_time": "2024-12-20T13:40:52.726795Z"
    }
   },
   "cell_type": "code",
   "source": [
    "c= data.groupby(['Type','Content_Rating']).size()\n",
    "c"
   ],
   "outputs": [
    {
     "data": {
      "text/plain": [
       "Type  Content_Rating\n",
       "Free  Adults             375\n",
       "      Everyone          6880\n",
       "      Teen               905\n",
       "Paid  Adults              16\n",
       "      Everyone           632\n",
       "      Teen                49\n",
       "dtype: int64"
      ]
     },
     "execution_count": 95,
     "metadata": {},
     "output_type": "execute_result"
    }
   ],
   "execution_count": 95
  },
  {
   "metadata": {},
   "cell_type": "markdown",
   "source": "## 12.\tHow many apps are compatible with Android version 4.x?"
  },
  {
   "metadata": {
    "ExecuteTime": {
     "end_time": "2024-12-20T13:43:11.475745Z",
     "start_time": "2024-12-20T13:43:11.459728Z"
    }
   },
   "cell_type": "code",
   "source": "data[data['Android_Ver']>=4.0].value_counts().sum()",
   "outputs": [
    {
     "data": {
      "text/plain": [
       "7159"
      ]
     },
     "execution_count": 100,
     "metadata": {},
     "output_type": "execute_result"
    }
   ],
   "execution_count": 100
  }
 ]
}
