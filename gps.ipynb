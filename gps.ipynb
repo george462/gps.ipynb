{
 "metadata": {
  "kernelspec": {
   "display_name": "Python 3",
   "language": "python",
   "name": "python3"
  },
  "language_info": {
   "name": "python",
   "version": "3.6.6",
   "mimetype": "text/x-python",
   "codemirror_mode": {
    "name": "ipython",
    "version": 3
   },
   "pygments_lexer": "ipython3",
   "nbconvert_exporter": "python",
   "file_extension": ".py"
  },
  "kaggle": {
   "accelerator": "none",
   "dataSources": [
    {
     "sourceId": 274957,
     "sourceType": "datasetVersion",
     "datasetId": 49864
    }
   ],
   "dockerImageVersionId": 20477,
   "isInternetEnabled": false,
   "language": "python",
   "sourceType": "notebook",
   "isGpuEnabled": false
  }
 },
 "nbformat_minor": 4,
 "nbformat": 4,
 "cells": [
  {
   "cell_type": "markdown",
   "source": "Hi everybody !\n\nIn this notebook, I'm gonna analyze Google Play Store datas. While I was analyzing the data, I used Python. This study is my first data analyzing study. If you liked this kernel or it was benefit to you, forgot upvotes! \nGood studies. :) <br/>\n<br/>\n### **CONTENT** \n\n1. [Introduction to data](#1)  <br/>\n2. [Cleaning Data](#2)         <br/>\n&nbsp;&nbsp;&nbsp;&nbsp; A. [Category](#a)   <br/>\n&nbsp;&nbsp;&nbsp;&nbsp; B. [Rating](#b)      <br/>\n&nbsp;&nbsp;&nbsp;&nbsp; C. [Reviews](#c)   <br/>\n&nbsp;&nbsp;&nbsp;&nbsp; D. [Size](#d)   <br/>\n&nbsp;&nbsp;&nbsp;&nbsp; E. [Installs](#e)   <br/>\n&nbsp;&nbsp;&nbsp;&nbsp; F. [Price](#f)   <br/>\n&nbsp;&nbsp;&nbsp;&nbsp; G. [Last Updated](#g)  <br/>\n3. [Exploratory Data Analysis](#3)  <br/>\n&nbsp;&nbsp;&nbsp;&nbsp; A. [Category and Reviews](#a1)   <br/>\n&nbsp;&nbsp;&nbsp;&nbsp; B. [Category and Installs](#b1)      <br/>\n&nbsp;&nbsp;&nbsp;&nbsp; C. [Word Cloud](#c1)   <br/>\n&nbsp;&nbsp;&nbsp;&nbsp; D. [Content Rating](#d1)   <br/>",
   "metadata": {
    "_uuid": "1d535d7c029591c52f5e4a4e78d61c3a3f45007d"
   }
  },
  {
   "cell_type": "markdown",
   "source": "<a id=\"1\"></a>\n# 1. INTRODUCTION TO DATA\n\nFirstly let's get to know data.  While I was analyzing the data, I used Pandas library.  <br/>\n* info(): It informs about data columns and data types. <br/>\n* head(): It returns the first five data. <br/>\n* tail(): It returns the last five data. <br/>\n* columns : It returns data columns <br/>\n* shape : It gives number of rows and columns in a tuble.\n",
   "metadata": {
    "_uuid": "5e06c9a0ebe7617425ac4c865e64d68ef3edf857"
   }
  },
  {
   "cell_type": "code",
   "source": [
    "#import library\n",
    "import pandas as pd \n",
    "import numpy as np \n",
    "import matplotlib.pyplot as plt\n",
    "import seaborn as sns"
   ],
   "metadata": {
    "_cell_guid": "79c7e3d0-c299-4dcb-8224-4455121ee9b0",
    "_uuid": "d629ff2d2480ee46fbb7e2d37f6b5fab8052498a",
    "trusted": true,
    "ExecuteTime": {
     "end_time": "2024-12-17T21:54:04.272249Z",
     "start_time": "2024-12-17T21:54:04.264202Z"
    }
   },
   "outputs": [],
   "execution_count": 223
  },
  {
   "cell_type": "code",
   "source": [
    "#read to csv\n",
    "data = pd.read_csv(\"googleplaystore.csv\")"
   ],
   "metadata": {
    "trusted": true,
    "_uuid": "d1b1055e62085a0867b18d155446335c4e00c34f",
    "ExecuteTime": {
     "end_time": "2024-12-17T21:54:04.309375Z",
     "start_time": "2024-12-17T21:54:04.272249Z"
    }
   },
   "outputs": [],
   "execution_count": 224
  },
  {
   "cell_type": "code",
   "source": "data.info()",
   "metadata": {
    "trusted": true,
    "_uuid": "3d13aba0a6043f8b26a9d47682fb291c6c402446",
    "_kg_hide-output": false,
    "_kg_hide-input": false,
    "ExecuteTime": {
     "end_time": "2024-12-17T21:54:04.343546Z",
     "start_time": "2024-12-17T21:54:04.330436Z"
    }
   },
   "outputs": [
    {
     "name": "stdout",
     "output_type": "stream",
     "text": [
      "<class 'pandas.core.frame.DataFrame'>\n",
      "RangeIndex: 10841 entries, 0 to 10840\n",
      "Data columns (total 13 columns):\n",
      " #   Column          Non-Null Count  Dtype  \n",
      "---  ------          --------------  -----  \n",
      " 0   App             10841 non-null  object \n",
      " 1   Category        10841 non-null  object \n",
      " 2   Rating          9367 non-null   float64\n",
      " 3   Reviews         10841 non-null  object \n",
      " 4   Size            10841 non-null  object \n",
      " 5   Installs        10841 non-null  object \n",
      " 6   Type            10840 non-null  object \n",
      " 7   Price           10841 non-null  object \n",
      " 8   Content Rating  10840 non-null  object \n",
      " 9   Genres          10841 non-null  object \n",
      " 10  Last Updated    10841 non-null  object \n",
      " 11  Current Ver     10833 non-null  object \n",
      " 12  Android Ver     10838 non-null  object \n",
      "dtypes: float64(1), object(12)\n",
      "memory usage: 1.1+ MB\n"
     ]
    }
   ],
   "execution_count": 225
  },
  {
   "cell_type": "code",
   "source": "data.columns",
   "metadata": {
    "trusted": true,
    "_uuid": "3cebb1d11e5b26fe562ef440e6c08cfe5ca7a606",
    "_kg_hide-input": true,
    "ExecuteTime": {
     "end_time": "2024-12-17T21:54:04.399673Z",
     "start_time": "2024-12-17T21:54:04.388717Z"
    }
   },
   "outputs": [
    {
     "data": {
      "text/plain": [
       "Index(['App', 'Category', 'Rating', 'Reviews', 'Size', 'Installs', 'Type',\n",
       "       'Price', 'Content Rating', 'Genres', 'Last Updated', 'Current Ver',\n",
       "       'Android Ver'],\n",
       "      dtype='object')"
      ]
     },
     "execution_count": 226,
     "metadata": {},
     "output_type": "execute_result"
    }
   ],
   "execution_count": 226
  },
  {
   "cell_type": "code",
   "source": "data.shape",
   "metadata": {
    "trusted": true,
    "scrolled": true,
    "_uuid": "30723b209b43085965ccc977a7323e330bb887a0",
    "ExecuteTime": {
     "end_time": "2024-12-17T21:54:04.475338Z",
     "start_time": "2024-12-17T21:54:04.470015Z"
    }
   },
   "outputs": [
    {
     "data": {
      "text/plain": [
       "(10841, 13)"
      ]
     },
     "execution_count": 227,
     "metadata": {},
     "output_type": "execute_result"
    }
   ],
   "execution_count": 227
  },
  {
   "cell_type": "code",
   "source": "data.head()",
   "metadata": {
    "trusted": true,
    "_uuid": "ed8ec1d98b9b852955871ae12faebf0fdab008ba",
    "ExecuteTime": {
     "end_time": "2024-12-17T21:54:04.584398Z",
     "start_time": "2024-12-17T21:54:04.568516Z"
    }
   },
   "outputs": [
    {
     "data": {
      "text/plain": [
       "                                                 App        Category  Rating  \\\n",
       "0     Photo Editor & Candy Camera & Grid & ScrapBook  ART_AND_DESIGN     4.1   \n",
       "1                                Coloring book moana  ART_AND_DESIGN     3.9   \n",
       "2  U Launcher Lite – FREE Live Cool Themes, Hide ...  ART_AND_DESIGN     4.7   \n",
       "3                              Sketch - Draw & Paint  ART_AND_DESIGN     4.5   \n",
       "4              Pixel Draw - Number Art Coloring Book  ART_AND_DESIGN     4.3   \n",
       "\n",
       "  Reviews  Size     Installs  Type Price Content Rating  \\\n",
       "0     159   19M      10,000+  Free     0       Everyone   \n",
       "1     967   14M     500,000+  Free     0       Everyone   \n",
       "2   87510  8.7M   5,000,000+  Free     0       Everyone   \n",
       "3  215644   25M  50,000,000+  Free     0           Teen   \n",
       "4     967  2.8M     100,000+  Free     0       Everyone   \n",
       "\n",
       "                      Genres      Last Updated         Current Ver  \\\n",
       "0               Art & Design   January 7, 2018               1.0.0   \n",
       "1  Art & Design;Pretend Play  January 15, 2018               2.0.0   \n",
       "2               Art & Design    August 1, 2018               1.2.4   \n",
       "3               Art & Design      June 8, 2018  Varies with device   \n",
       "4    Art & Design;Creativity     June 20, 2018                 1.1   \n",
       "\n",
       "    Android Ver  \n",
       "0  4.0.3 and up  \n",
       "1  4.0.3 and up  \n",
       "2  4.0.3 and up  \n",
       "3    4.2 and up  \n",
       "4    4.4 and up  "
      ],
      "text/html": [
       "<div>\n",
       "<style scoped>\n",
       "    .dataframe tbody tr th:only-of-type {\n",
       "        vertical-align: middle;\n",
       "    }\n",
       "\n",
       "    .dataframe tbody tr th {\n",
       "        vertical-align: top;\n",
       "    }\n",
       "\n",
       "    .dataframe thead th {\n",
       "        text-align: right;\n",
       "    }\n",
       "</style>\n",
       "<table border=\"1\" class=\"dataframe\">\n",
       "  <thead>\n",
       "    <tr style=\"text-align: right;\">\n",
       "      <th></th>\n",
       "      <th>App</th>\n",
       "      <th>Category</th>\n",
       "      <th>Rating</th>\n",
       "      <th>Reviews</th>\n",
       "      <th>Size</th>\n",
       "      <th>Installs</th>\n",
       "      <th>Type</th>\n",
       "      <th>Price</th>\n",
       "      <th>Content Rating</th>\n",
       "      <th>Genres</th>\n",
       "      <th>Last Updated</th>\n",
       "      <th>Current Ver</th>\n",
       "      <th>Android Ver</th>\n",
       "    </tr>\n",
       "  </thead>\n",
       "  <tbody>\n",
       "    <tr>\n",
       "      <th>0</th>\n",
       "      <td>Photo Editor &amp; Candy Camera &amp; Grid &amp; ScrapBook</td>\n",
       "      <td>ART_AND_DESIGN</td>\n",
       "      <td>4.1</td>\n",
       "      <td>159</td>\n",
       "      <td>19M</td>\n",
       "      <td>10,000+</td>\n",
       "      <td>Free</td>\n",
       "      <td>0</td>\n",
       "      <td>Everyone</td>\n",
       "      <td>Art &amp; Design</td>\n",
       "      <td>January 7, 2018</td>\n",
       "      <td>1.0.0</td>\n",
       "      <td>4.0.3 and up</td>\n",
       "    </tr>\n",
       "    <tr>\n",
       "      <th>1</th>\n",
       "      <td>Coloring book moana</td>\n",
       "      <td>ART_AND_DESIGN</td>\n",
       "      <td>3.9</td>\n",
       "      <td>967</td>\n",
       "      <td>14M</td>\n",
       "      <td>500,000+</td>\n",
       "      <td>Free</td>\n",
       "      <td>0</td>\n",
       "      <td>Everyone</td>\n",
       "      <td>Art &amp; Design;Pretend Play</td>\n",
       "      <td>January 15, 2018</td>\n",
       "      <td>2.0.0</td>\n",
       "      <td>4.0.3 and up</td>\n",
       "    </tr>\n",
       "    <tr>\n",
       "      <th>2</th>\n",
       "      <td>U Launcher Lite – FREE Live Cool Themes, Hide ...</td>\n",
       "      <td>ART_AND_DESIGN</td>\n",
       "      <td>4.7</td>\n",
       "      <td>87510</td>\n",
       "      <td>8.7M</td>\n",
       "      <td>5,000,000+</td>\n",
       "      <td>Free</td>\n",
       "      <td>0</td>\n",
       "      <td>Everyone</td>\n",
       "      <td>Art &amp; Design</td>\n",
       "      <td>August 1, 2018</td>\n",
       "      <td>1.2.4</td>\n",
       "      <td>4.0.3 and up</td>\n",
       "    </tr>\n",
       "    <tr>\n",
       "      <th>3</th>\n",
       "      <td>Sketch - Draw &amp; Paint</td>\n",
       "      <td>ART_AND_DESIGN</td>\n",
       "      <td>4.5</td>\n",
       "      <td>215644</td>\n",
       "      <td>25M</td>\n",
       "      <td>50,000,000+</td>\n",
       "      <td>Free</td>\n",
       "      <td>0</td>\n",
       "      <td>Teen</td>\n",
       "      <td>Art &amp; Design</td>\n",
       "      <td>June 8, 2018</td>\n",
       "      <td>Varies with device</td>\n",
       "      <td>4.2 and up</td>\n",
       "    </tr>\n",
       "    <tr>\n",
       "      <th>4</th>\n",
       "      <td>Pixel Draw - Number Art Coloring Book</td>\n",
       "      <td>ART_AND_DESIGN</td>\n",
       "      <td>4.3</td>\n",
       "      <td>967</td>\n",
       "      <td>2.8M</td>\n",
       "      <td>100,000+</td>\n",
       "      <td>Free</td>\n",
       "      <td>0</td>\n",
       "      <td>Everyone</td>\n",
       "      <td>Art &amp; Design;Creativity</td>\n",
       "      <td>June 20, 2018</td>\n",
       "      <td>1.1</td>\n",
       "      <td>4.4 and up</td>\n",
       "    </tr>\n",
       "  </tbody>\n",
       "</table>\n",
       "</div>"
      ]
     },
     "execution_count": 228,
     "metadata": {},
     "output_type": "execute_result"
    }
   ],
   "execution_count": 228
  },
  {
   "cell_type": "code",
   "source": "data.tail()",
   "metadata": {
    "trusted": true,
    "_uuid": "fbdd18afe5d8f55073fd84c14b3adce804322c8d",
    "scrolled": true,
    "ExecuteTime": {
     "end_time": "2024-12-17T21:54:04.689829Z",
     "start_time": "2024-12-17T21:54:04.678741Z"
    }
   },
   "outputs": [
    {
     "data": {
      "text/plain": [
       "                                                 App             Category  \\\n",
       "10836                               Sya9a Maroc - FR               FAMILY   \n",
       "10837               Fr. Mike Schmitz Audio Teachings               FAMILY   \n",
       "10838                         Parkinson Exercices FR              MEDICAL   \n",
       "10839                  The SCP Foundation DB fr nn5n  BOOKS_AND_REFERENCE   \n",
       "10840  iHoroscope - 2018 Daily Horoscope & Astrology            LIFESTYLE   \n",
       "\n",
       "       Rating Reviews                Size     Installs  Type Price  \\\n",
       "10836     4.5      38                 53M       5,000+  Free     0   \n",
       "10837     5.0       4                3.6M         100+  Free     0   \n",
       "10838     NaN       3                9.5M       1,000+  Free     0   \n",
       "10839     4.5     114  Varies with device       1,000+  Free     0   \n",
       "10840     4.5  398307                 19M  10,000,000+  Free     0   \n",
       "\n",
       "      Content Rating             Genres      Last Updated         Current Ver  \\\n",
       "10836       Everyone          Education     July 25, 2017                1.48   \n",
       "10837       Everyone          Education      July 6, 2018                 1.0   \n",
       "10838       Everyone            Medical  January 20, 2017                 1.0   \n",
       "10839     Mature 17+  Books & Reference  January 19, 2015  Varies with device   \n",
       "10840       Everyone          Lifestyle     July 25, 2018  Varies with device   \n",
       "\n",
       "              Android Ver  \n",
       "10836          4.1 and up  \n",
       "10837          4.1 and up  \n",
       "10838          2.2 and up  \n",
       "10839  Varies with device  \n",
       "10840  Varies with device  "
      ],
      "text/html": [
       "<div>\n",
       "<style scoped>\n",
       "    .dataframe tbody tr th:only-of-type {\n",
       "        vertical-align: middle;\n",
       "    }\n",
       "\n",
       "    .dataframe tbody tr th {\n",
       "        vertical-align: top;\n",
       "    }\n",
       "\n",
       "    .dataframe thead th {\n",
       "        text-align: right;\n",
       "    }\n",
       "</style>\n",
       "<table border=\"1\" class=\"dataframe\">\n",
       "  <thead>\n",
       "    <tr style=\"text-align: right;\">\n",
       "      <th></th>\n",
       "      <th>App</th>\n",
       "      <th>Category</th>\n",
       "      <th>Rating</th>\n",
       "      <th>Reviews</th>\n",
       "      <th>Size</th>\n",
       "      <th>Installs</th>\n",
       "      <th>Type</th>\n",
       "      <th>Price</th>\n",
       "      <th>Content Rating</th>\n",
       "      <th>Genres</th>\n",
       "      <th>Last Updated</th>\n",
       "      <th>Current Ver</th>\n",
       "      <th>Android Ver</th>\n",
       "    </tr>\n",
       "  </thead>\n",
       "  <tbody>\n",
       "    <tr>\n",
       "      <th>10836</th>\n",
       "      <td>Sya9a Maroc - FR</td>\n",
       "      <td>FAMILY</td>\n",
       "      <td>4.5</td>\n",
       "      <td>38</td>\n",
       "      <td>53M</td>\n",
       "      <td>5,000+</td>\n",
       "      <td>Free</td>\n",
       "      <td>0</td>\n",
       "      <td>Everyone</td>\n",
       "      <td>Education</td>\n",
       "      <td>July 25, 2017</td>\n",
       "      <td>1.48</td>\n",
       "      <td>4.1 and up</td>\n",
       "    </tr>\n",
       "    <tr>\n",
       "      <th>10837</th>\n",
       "      <td>Fr. Mike Schmitz Audio Teachings</td>\n",
       "      <td>FAMILY</td>\n",
       "      <td>5.0</td>\n",
       "      <td>4</td>\n",
       "      <td>3.6M</td>\n",
       "      <td>100+</td>\n",
       "      <td>Free</td>\n",
       "      <td>0</td>\n",
       "      <td>Everyone</td>\n",
       "      <td>Education</td>\n",
       "      <td>July 6, 2018</td>\n",
       "      <td>1.0</td>\n",
       "      <td>4.1 and up</td>\n",
       "    </tr>\n",
       "    <tr>\n",
       "      <th>10838</th>\n",
       "      <td>Parkinson Exercices FR</td>\n",
       "      <td>MEDICAL</td>\n",
       "      <td>NaN</td>\n",
       "      <td>3</td>\n",
       "      <td>9.5M</td>\n",
       "      <td>1,000+</td>\n",
       "      <td>Free</td>\n",
       "      <td>0</td>\n",
       "      <td>Everyone</td>\n",
       "      <td>Medical</td>\n",
       "      <td>January 20, 2017</td>\n",
       "      <td>1.0</td>\n",
       "      <td>2.2 and up</td>\n",
       "    </tr>\n",
       "    <tr>\n",
       "      <th>10839</th>\n",
       "      <td>The SCP Foundation DB fr nn5n</td>\n",
       "      <td>BOOKS_AND_REFERENCE</td>\n",
       "      <td>4.5</td>\n",
       "      <td>114</td>\n",
       "      <td>Varies with device</td>\n",
       "      <td>1,000+</td>\n",
       "      <td>Free</td>\n",
       "      <td>0</td>\n",
       "      <td>Mature 17+</td>\n",
       "      <td>Books &amp; Reference</td>\n",
       "      <td>January 19, 2015</td>\n",
       "      <td>Varies with device</td>\n",
       "      <td>Varies with device</td>\n",
       "    </tr>\n",
       "    <tr>\n",
       "      <th>10840</th>\n",
       "      <td>iHoroscope - 2018 Daily Horoscope &amp; Astrology</td>\n",
       "      <td>LIFESTYLE</td>\n",
       "      <td>4.5</td>\n",
       "      <td>398307</td>\n",
       "      <td>19M</td>\n",
       "      <td>10,000,000+</td>\n",
       "      <td>Free</td>\n",
       "      <td>0</td>\n",
       "      <td>Everyone</td>\n",
       "      <td>Lifestyle</td>\n",
       "      <td>July 25, 2018</td>\n",
       "      <td>Varies with device</td>\n",
       "      <td>Varies with device</td>\n",
       "    </tr>\n",
       "  </tbody>\n",
       "</table>\n",
       "</div>"
      ]
     },
     "execution_count": 229,
     "metadata": {},
     "output_type": "execute_result"
    }
   ],
   "execution_count": 229
  },
  {
   "cell_type": "markdown",
   "source": "We can combine tables to make it easier to see data. For this, we are gonna use \"concat function\" that is found Pandas library. <br/> <br/>\npd.concat([data frame parameters], axis,ignore_index) : It combines 2 tables. <br/> \n**axis** : It adds the tables as horizontal or vertical. If axis equals 0, it adds as horizontal. If axis equals 1, it adds as vertical. <br/>\n**ignore_index** : It ignores index values.\n",
   "metadata": {
    "_uuid": "9217298169a6127a396881937b49e880659ab370"
   }
  },
  {
   "cell_type": "markdown",
   "source": "<a id=\"2\"></a>\n# 2. Cleaning Data\n\nDataset can contain missing data, numerical string value, various cues. If we can clean them, we can make easy our analysis.  <br/>\n\nLet's have some fun. :)\n\n<a id=\"a\"></a>\n## Category",
   "metadata": {
    "_uuid": "8c19f552f543134a723fe69855a6d2492480e1a1"
   }
  },
  {
   "cell_type": "code",
   "source": "data['Category'].unique()",
   "metadata": {
    "trusted": true,
    "_uuid": "3f97cdd7d804ae6ff3581ea010678ef142e773c2",
    "scrolled": true,
    "ExecuteTime": {
     "end_time": "2024-12-17T21:54:04.867021Z",
     "start_time": "2024-12-17T21:54:04.858692Z"
    }
   },
   "outputs": [
    {
     "data": {
      "text/plain": [
       "array(['ART_AND_DESIGN', 'AUTO_AND_VEHICLES', 'BEAUTY',\n",
       "       'BOOKS_AND_REFERENCE', 'BUSINESS', 'COMICS', 'COMMUNICATION',\n",
       "       'DATING', 'EDUCATION', 'ENTERTAINMENT', 'EVENTS', 'FINANCE',\n",
       "       'FOOD_AND_DRINK', 'HEALTH_AND_FITNESS', 'HOUSE_AND_HOME',\n",
       "       'LIBRARIES_AND_DEMO', 'LIFESTYLE', 'GAME', 'FAMILY', 'MEDICAL',\n",
       "       'SOCIAL', 'SHOPPING', 'PHOTOGRAPHY', 'SPORTS', 'TRAVEL_AND_LOCAL',\n",
       "       'TOOLS', 'PERSONALIZATION', 'PRODUCTIVITY', 'PARENTING', 'WEATHER',\n",
       "       'VIDEO_PLAYERS', 'NEWS_AND_MAGAZINES', 'MAPS_AND_NAVIGATION',\n",
       "       '1.9'], dtype=object)"
      ]
     },
     "execution_count": 230,
     "metadata": {},
     "output_type": "execute_result"
    }
   ],
   "execution_count": 230
  },
  {
   "cell_type": "markdown",
   "source": "'1.9' is wrong value. So I have to see in which rows '1.9' corresponds to.",
   "metadata": {
    "_uuid": "d03d67cad75a38091a13ccbd864a9ce4eba830bc"
   }
  },
  {
   "cell_type": "code",
   "source": "data[data['Category'] == '1.9']\n",
   "metadata": {
    "trusted": true,
    "scrolled": true,
    "_uuid": "a783fab2323032fbbf79a32a7f1a1a3472bf86ec",
    "ExecuteTime": {
     "end_time": "2024-12-17T21:54:05.187360Z",
     "start_time": "2024-12-17T21:54:05.170243Z"
    }
   },
   "outputs": [
    {
     "data": {
      "text/plain": [
       "                                           App Category  Rating Reviews  \\\n",
       "10472  Life Made WI-Fi Touchscreen Photo Frame      1.9    19.0    3.0M   \n",
       "\n",
       "         Size Installs Type     Price Content Rating             Genres  \\\n",
       "10472  1,000+     Free    0  Everyone            NaN  February 11, 2018   \n",
       "\n",
       "      Last Updated Current Ver Android Ver  \n",
       "10472       1.0.19  4.0 and up         NaN  "
      ],
      "text/html": [
       "<div>\n",
       "<style scoped>\n",
       "    .dataframe tbody tr th:only-of-type {\n",
       "        vertical-align: middle;\n",
       "    }\n",
       "\n",
       "    .dataframe tbody tr th {\n",
       "        vertical-align: top;\n",
       "    }\n",
       "\n",
       "    .dataframe thead th {\n",
       "        text-align: right;\n",
       "    }\n",
       "</style>\n",
       "<table border=\"1\" class=\"dataframe\">\n",
       "  <thead>\n",
       "    <tr style=\"text-align: right;\">\n",
       "      <th></th>\n",
       "      <th>App</th>\n",
       "      <th>Category</th>\n",
       "      <th>Rating</th>\n",
       "      <th>Reviews</th>\n",
       "      <th>Size</th>\n",
       "      <th>Installs</th>\n",
       "      <th>Type</th>\n",
       "      <th>Price</th>\n",
       "      <th>Content Rating</th>\n",
       "      <th>Genres</th>\n",
       "      <th>Last Updated</th>\n",
       "      <th>Current Ver</th>\n",
       "      <th>Android Ver</th>\n",
       "    </tr>\n",
       "  </thead>\n",
       "  <tbody>\n",
       "    <tr>\n",
       "      <th>10472</th>\n",
       "      <td>Life Made WI-Fi Touchscreen Photo Frame</td>\n",
       "      <td>1.9</td>\n",
       "      <td>19.0</td>\n",
       "      <td>3.0M</td>\n",
       "      <td>1,000+</td>\n",
       "      <td>Free</td>\n",
       "      <td>0</td>\n",
       "      <td>Everyone</td>\n",
       "      <td>NaN</td>\n",
       "      <td>February 11, 2018</td>\n",
       "      <td>1.0.19</td>\n",
       "      <td>4.0 and up</td>\n",
       "      <td>NaN</td>\n",
       "    </tr>\n",
       "  </tbody>\n",
       "</table>\n",
       "</div>"
      ]
     },
     "execution_count": 231,
     "metadata": {},
     "output_type": "execute_result"
    }
   ],
   "execution_count": 231
  },
  {
   "cell_type": "markdown",
   "source": "We can make NaN category value. At that time we can get a clean data. I used shift() method that is found Pandas library.",
   "metadata": {
    "_uuid": "ad9cb8e984629014f19963b06a9f25c17731ae59"
   }
  },
  {
   "metadata": {
    "trusted": true,
    "_uuid": "fd143ed826baaa82e29cf8440c73a91799ac2e29",
    "ExecuteTime": {
     "end_time": "2024-12-17T21:54:05.491782Z",
     "start_time": "2024-12-17T21:54:05.474973Z"
    }
   },
   "cell_type": "code",
   "source": [
    "data.loc[10472, 'Category'] = float(data.loc[10472, 'Category'])\n",
    "data.loc[10472] = data.loc[10472].shift()\n",
    "data.loc[10472, 'App'] = data.loc[10472, 'Category']\n",
    "data.loc[10472, 'Category'] = np.nan\n",
    "data.loc[10472]\n"
   ],
   "outputs": [
    {
     "data": {
      "text/plain": [
       "App               Life Made WI-Fi Touchscreen Photo Frame\n",
       "Category                                              NaN\n",
       "Rating                                                1.9\n",
       "Reviews                                              19.0\n",
       "Size                                                 3.0M\n",
       "Installs                                           1,000+\n",
       "Type                                                 Free\n",
       "Price                                                   0\n",
       "Content Rating                                   Everyone\n",
       "Genres                                                NaN\n",
       "Last Updated                            February 11, 2018\n",
       "Current Ver                                        1.0.19\n",
       "Android Ver                                    4.0 and up\n",
       "Name: 10472, dtype: object"
      ]
     },
     "execution_count": 232,
     "metadata": {},
     "output_type": "execute_result"
    }
   ],
   "execution_count": 232
  },
  {
   "cell_type": "markdown",
   "source": "<a id=\"b\"></a>\n## Rating ",
   "metadata": {
    "_uuid": "dcddb819a95fd56516cc08d1386cbda017cf28b0"
   }
  },
  {
   "cell_type": "code",
   "source": "data['Rating'].unique()",
   "metadata": {
    "trusted": true,
    "scrolled": true,
    "_uuid": "2f08d41f739bc873b4228a3672eabda7b386ac03",
    "ExecuteTime": {
     "end_time": "2024-12-17T21:54:05.663673Z",
     "start_time": "2024-12-17T21:54:05.655485Z"
    }
   },
   "outputs": [
    {
     "data": {
      "text/plain": [
       "array([4.1, 3.9, 4.7, 4.5, 4.3, 4.4, 3.8, 4.2, 4.6, 3.2, 4. , nan, 4.8,\n",
       "       4.9, 3.6, 3.7, 3.3, 3.4, 3.5, 3.1, 5. , 2.6, 3. , 1.9, 2.5, 2.8,\n",
       "       2.7, 1. , 2.9, 2.3, 2.2, 1.7, 2. , 1.8, 2.4, 1.6, 2.1, 1.4, 1.5,\n",
       "       1.2])"
      ]
     },
     "execution_count": 233,
     "metadata": {},
     "output_type": "execute_result"
    }
   ],
   "execution_count": 233
  },
  {
   "cell_type": "markdown",
   "source": "Data type of Rating is object. If we convert from string to numeric, we can make easy.",
   "metadata": {
    "_uuid": "05c35e4ecaa733a58fbdeb40a38e3ddba081f8e0"
   }
  },
  {
   "cell_type": "code",
   "source": "data['Rating'] = pd.to_numeric(data['Rating'], errors='coerce')\ndata['Rating'].dtype",
   "metadata": {
    "trusted": true,
    "_uuid": "e734a21ac67f81ad18740f71a1990a81e5b05980",
    "ExecuteTime": {
     "end_time": "2024-12-17T21:54:05.998876Z",
     "start_time": "2024-12-17T21:54:05.990264Z"
    }
   },
   "outputs": [
    {
     "data": {
      "text/plain": [
       "dtype('float64')"
      ]
     },
     "execution_count": 234,
     "metadata": {},
     "output_type": "execute_result"
    }
   ],
   "execution_count": 234
  },
  {
   "cell_type": "markdown",
   "source": "<a id=\"c\"></a>\n## Reviews",
   "metadata": {
    "_uuid": "75de2fe8a52b1f160d8cef12be05c85591925e35"
   }
  },
  {
   "cell_type": "code",
   "source": "data['Reviews'].unique()",
   "metadata": {
    "trusted": true,
    "_uuid": "be5955138585a329cb93e2fe6028192d912a5a9a",
    "ExecuteTime": {
     "end_time": "2024-12-17T21:54:06.238013Z",
     "start_time": "2024-12-17T21:54:06.232198Z"
    }
   },
   "outputs": [
    {
     "data": {
      "text/plain": [
       "array(['159', '967', '87510', ..., '603', '1195', '398307'], dtype=object)"
      ]
     },
     "execution_count": 235,
     "metadata": {},
     "output_type": "execute_result"
    }
   ],
   "execution_count": 235
  },
  {
   "cell_type": "code",
   "source": "data[data['Reviews'] =='3.0M']",
   "metadata": {
    "trusted": true,
    "_uuid": "33ee7d15495d1fe29c2eead88da064a62bca59d0",
    "ExecuteTime": {
     "end_time": "2024-12-17T21:54:06.459657Z",
     "start_time": "2024-12-17T21:54:06.448559Z"
    }
   },
   "outputs": [
    {
     "data": {
      "text/plain": [
       "Empty DataFrame\n",
       "Columns: [App, Category, Rating, Reviews, Size, Installs, Type, Price, Content Rating, Genres, Last Updated, Current Ver, Android Ver]\n",
       "Index: []"
      ],
      "text/html": [
       "<div>\n",
       "<style scoped>\n",
       "    .dataframe tbody tr th:only-of-type {\n",
       "        vertical-align: middle;\n",
       "    }\n",
       "\n",
       "    .dataframe tbody tr th {\n",
       "        vertical-align: top;\n",
       "    }\n",
       "\n",
       "    .dataframe thead th {\n",
       "        text-align: right;\n",
       "    }\n",
       "</style>\n",
       "<table border=\"1\" class=\"dataframe\">\n",
       "  <thead>\n",
       "    <tr style=\"text-align: right;\">\n",
       "      <th></th>\n",
       "      <th>App</th>\n",
       "      <th>Category</th>\n",
       "      <th>Rating</th>\n",
       "      <th>Reviews</th>\n",
       "      <th>Size</th>\n",
       "      <th>Installs</th>\n",
       "      <th>Type</th>\n",
       "      <th>Price</th>\n",
       "      <th>Content Rating</th>\n",
       "      <th>Genres</th>\n",
       "      <th>Last Updated</th>\n",
       "      <th>Current Ver</th>\n",
       "      <th>Android Ver</th>\n",
       "    </tr>\n",
       "  </thead>\n",
       "  <tbody>\n",
       "  </tbody>\n",
       "</table>\n",
       "</div>"
      ]
     },
     "execution_count": 236,
     "metadata": {},
     "output_type": "execute_result"
    }
   ],
   "execution_count": 236
  },
  {
   "cell_type": "code",
   "source": "data['Reviews'] = data.Reviews.replace(\"0.0\",0)\ndata['Reviews'] = data.Reviews.replace(\"3.0M\",3000000.0)\ndata['Reviews'] = data['Reviews'].astype(float)\ndata['Reviews'].dtype",
   "metadata": {
    "trusted": true,
    "_uuid": "731ba345951119e1f43a18f83ea6682cace41c41",
    "ExecuteTime": {
     "end_time": "2024-12-17T21:54:06.554671Z",
     "start_time": "2024-12-17T21:54:06.542866Z"
    }
   },
   "outputs": [
    {
     "data": {
      "text/plain": [
       "dtype('float64')"
      ]
     },
     "execution_count": 237,
     "metadata": {},
     "output_type": "execute_result"
    }
   ],
   "execution_count": 237
  },
  {
   "cell_type": "markdown",
   "source": "<a id=\"d\"></a>\n## Size",
   "metadata": {
    "_uuid": "2b87fa64098f7daeed32c193273e2f61df8b9995"
   }
  },
  {
   "cell_type": "code",
   "source": "data['Size'].unique()",
   "metadata": {
    "trusted": true,
    "_uuid": "2982cbbab602bf84a896b86a77b772c18ff1a98e",
    "ExecuteTime": {
     "end_time": "2024-12-17T21:54:06.685700Z",
     "start_time": "2024-12-17T21:54:06.678431Z"
    }
   },
   "outputs": [
    {
     "data": {
      "text/plain": [
       "array(['19M', '14M', '8.7M', '25M', '2.8M', '5.6M', '29M', '33M', '3.1M',\n",
       "       '28M', '12M', '20M', '21M', '37M', '2.7M', '5.5M', '17M', '39M',\n",
       "       '31M', '4.2M', '7.0M', '23M', '6.0M', '6.1M', '4.6M', '9.2M',\n",
       "       '5.2M', '11M', '24M', 'Varies with device', '9.4M', '15M', '10M',\n",
       "       '1.2M', '26M', '8.0M', '7.9M', '56M', '57M', '35M', '54M', '201k',\n",
       "       '3.6M', '5.7M', '8.6M', '2.4M', '27M', '2.5M', '16M', '3.4M',\n",
       "       '8.9M', '3.9M', '2.9M', '38M', '32M', '5.4M', '18M', '1.1M',\n",
       "       '2.2M', '4.5M', '9.8M', '52M', '9.0M', '6.7M', '30M', '2.6M',\n",
       "       '7.1M', '3.7M', '22M', '7.4M', '6.4M', '3.2M', '8.2M', '9.9M',\n",
       "       '4.9M', '9.5M', '5.0M', '5.9M', '13M', '73M', '6.8M', '3.5M',\n",
       "       '4.0M', '2.3M', '7.2M', '2.1M', '42M', '7.3M', '9.1M', '55M',\n",
       "       '23k', '6.5M', '1.5M', '7.5M', '51M', '41M', '48M', '8.5M', '46M',\n",
       "       '8.3M', '4.3M', '4.7M', '3.3M', '40M', '7.8M', '8.8M', '6.6M',\n",
       "       '5.1M', '61M', '66M', '79k', '8.4M', '118k', '44M', '695k', '1.6M',\n",
       "       '6.2M', '18k', '53M', '1.4M', '3.0M', '5.8M', '3.8M', '9.6M',\n",
       "       '45M', '63M', '49M', '77M', '4.4M', '4.8M', '70M', '6.9M', '9.3M',\n",
       "       '10.0M', '8.1M', '36M', '84M', '97M', '2.0M', '1.9M', '1.8M',\n",
       "       '5.3M', '47M', '556k', '526k', '76M', '7.6M', '59M', '9.7M', '78M',\n",
       "       '72M', '43M', '7.7M', '6.3M', '334k', '34M', '93M', '65M', '79M',\n",
       "       '100M', '58M', '50M', '68M', '64M', '67M', '60M', '94M', '232k',\n",
       "       '99M', '624k', '95M', '8.5k', '41k', '292k', '11k', '80M', '1.7M',\n",
       "       '74M', '62M', '69M', '75M', '98M', '85M', '82M', '96M', '87M',\n",
       "       '71M', '86M', '91M', '81M', '92M', '83M', '88M', '704k', '862k',\n",
       "       '899k', '378k', '266k', '375k', '1.3M', '975k', '980k', '4.1M',\n",
       "       '89M', '696k', '544k', '525k', '920k', '779k', '853k', '720k',\n",
       "       '713k', '772k', '318k', '58k', '241k', '196k', '857k', '51k',\n",
       "       '953k', '865k', '251k', '930k', '540k', '313k', '746k', '203k',\n",
       "       '26k', '314k', '239k', '371k', '220k', '730k', '756k', '91k',\n",
       "       '293k', '17k', '74k', '14k', '317k', '78k', '924k', '902k', '818k',\n",
       "       '81k', '939k', '169k', '45k', '475k', '965k', '90M', '545k', '61k',\n",
       "       '283k', '655k', '714k', '93k', '872k', '121k', '322k', '1.0M',\n",
       "       '976k', '172k', '238k', '549k', '206k', '954k', '444k', '717k',\n",
       "       '210k', '609k', '308k', '705k', '306k', '904k', '473k', '175k',\n",
       "       '350k', '383k', '454k', '421k', '70k', '812k', '442k', '842k',\n",
       "       '417k', '412k', '459k', '478k', '335k', '782k', '721k', '430k',\n",
       "       '429k', '192k', '200k', '460k', '728k', '496k', '816k', '414k',\n",
       "       '506k', '887k', '613k', '243k', '569k', '778k', '683k', '592k',\n",
       "       '319k', '186k', '840k', '647k', '191k', '373k', '437k', '598k',\n",
       "       '716k', '585k', '982k', '222k', '219k', '55k', '948k', '323k',\n",
       "       '691k', '511k', '951k', '963k', '25k', '554k', '351k', '27k',\n",
       "       '82k', '208k', '913k', '514k', '551k', '29k', '103k', '898k',\n",
       "       '743k', '116k', '153k', '209k', '353k', '499k', '173k', '597k',\n",
       "       '809k', '122k', '411k', '400k', '801k', '787k', '237k', '50k',\n",
       "       '643k', '986k', '97k', '516k', '837k', '780k', '961k', '269k',\n",
       "       '20k', '498k', '600k', '749k', '642k', '881k', '72k', '656k',\n",
       "       '601k', '221k', '228k', '108k', '940k', '176k', '33k', '663k',\n",
       "       '34k', '942k', '259k', '164k', '458k', '245k', '629k', '28k',\n",
       "       '288k', '775k', '785k', '636k', '916k', '994k', '309k', '485k',\n",
       "       '914k', '903k', '608k', '500k', '54k', '562k', '847k', '957k',\n",
       "       '688k', '811k', '270k', '48k', '329k', '523k', '921k', '874k',\n",
       "       '981k', '784k', '280k', '24k', '518k', '754k', '892k', '154k',\n",
       "       '860k', '364k', '387k', '626k', '161k', '879k', '39k', '970k',\n",
       "       '170k', '141k', '160k', '144k', '143k', '190k', '376k', '193k',\n",
       "       '246k', '73k', '658k', '992k', '253k', '420k', '404k', '470k',\n",
       "       '226k', '240k', '89k', '234k', '257k', '861k', '467k', '157k',\n",
       "       '44k', '676k', '67k', '552k', '885k', '1020k', '582k', '619k'],\n",
       "      dtype=object)"
      ]
     },
     "execution_count": 238,
     "metadata": {},
     "output_type": "execute_result"
    }
   ],
   "execution_count": 238
  },
  {
   "cell_type": "markdown",
   "source": "Data type of Size is object. I had to convert the column because it contains the application sizes. Firstly I changed 'Varies with device' value with Nan. After, I dropped 'M' and 'k'. I changed from '1000+' to 1000. Finally, I converted float value.",
   "metadata": {
    "_uuid": "a43a1642e46f3887fb7175b63c38f4cb2afa3d6a"
   }
  },
  {
   "cell_type": "code",
   "source": "data['Size'] = data.Size.replace(\"Varies with device\",np.nan)\ndata['Size'] = data.Size.str.replace(\"M\",\"000\") # All size values became the kilobyte type.\ndata['Size'] = data.Size.str.replace(\"k\",\"\")\ndata['Size'] = data.Size.replace(\"1,000+\",1000)\ndata['Size'] =data['Size'].astype(float)\ndata['Size'].dtype",
   "metadata": {
    "trusted": true,
    "_uuid": "eba4661b63fe8d2fde36922a3d3215b2ecdc8abd",
    "ExecuteTime": {
     "end_time": "2024-12-17T21:54:06.852867Z",
     "start_time": "2024-12-17T21:54:06.840003Z"
    }
   },
   "outputs": [
    {
     "data": {
      "text/plain": [
       "dtype('float64')"
      ]
     },
     "execution_count": 239,
     "metadata": {},
     "output_type": "execute_result"
    }
   ],
   "execution_count": 239
  },
  {
   "cell_type": "markdown",
   "source": "<a id=\"e\"></a>\n## Installs",
   "metadata": {
    "_uuid": "77ddce3c883bb3786f45167d8c2ae8831b310032"
   }
  },
  {
   "cell_type": "code",
   "source": "data['Installs'].unique()",
   "metadata": {
    "trusted": true,
    "_uuid": "0d65bdedf2d97679245e5e666fccf8a2d44beaa1",
    "ExecuteTime": {
     "end_time": "2024-12-17T21:54:06.957087Z",
     "start_time": "2024-12-17T21:54:06.953250Z"
    }
   },
   "outputs": [
    {
     "data": {
      "text/plain": [
       "array(['10,000+', '500,000+', '5,000,000+', '50,000,000+', '100,000+',\n",
       "       '50,000+', '1,000,000+', '10,000,000+', '5,000+', '100,000,000+',\n",
       "       '1,000,000,000+', '1,000+', '500,000,000+', '50+', '100+', '500+',\n",
       "       '10+', '1+', '5+', '0+', '0'], dtype=object)"
      ]
     },
     "execution_count": 240,
     "metadata": {},
     "output_type": "execute_result"
    }
   ],
   "execution_count": 240
  },
  {
   "cell_type": "markdown",
   "source": "Data type of Size is object. I'm gonna make similar processes, which I made the in 'Size'. ",
   "metadata": {
    "_uuid": "f88aabec1af346b3695af8c1e18887b521faaf8d"
   }
  },
  {
   "cell_type": "code",
   "source": "data['Installs'] = data.Installs.str.replace(\",\",\"\")\ndata['Installs'] = data.Installs.str.replace(\"+\",\"\")\ndata['Installs'] = data.Installs.replace(\"Free\",np.nan)\ndata['Installs'] = data['Installs'].astype(float)\ndata['Installs'].dtype",
   "metadata": {
    "trusted": true,
    "_uuid": "8215e484fb8d6d933ac6fa968ae2c41c6ab01874",
    "ExecuteTime": {
     "end_time": "2024-12-17T21:54:07.050097Z",
     "start_time": "2024-12-17T21:54:07.031203Z"
    }
   },
   "outputs": [
    {
     "data": {
      "text/plain": [
       "dtype('float64')"
      ]
     },
     "execution_count": 241,
     "metadata": {},
     "output_type": "execute_result"
    }
   ],
   "execution_count": 241
  },
  {
   "cell_type": "markdown",
   "source": "<a id=\"f\"></a>\n## Price",
   "metadata": {
    "_uuid": "281cf1cb2fca16fe65279391e0b080b7d5168b20"
   }
  },
  {
   "cell_type": "code",
   "source": "data['Price'].unique()",
   "metadata": {
    "trusted": true,
    "_uuid": "3839eecb8abbda4a46372486c97b2b874172d6cf",
    "ExecuteTime": {
     "end_time": "2024-12-17T21:54:07.181909Z",
     "start_time": "2024-12-17T21:54:07.173779Z"
    }
   },
   "outputs": [
    {
     "data": {
      "text/plain": [
       "array(['0', '$4.99', '$3.99', '$6.99', '$1.49', '$2.99', '$7.99', '$5.99',\n",
       "       '$3.49', '$1.99', '$9.99', '$7.49', '$0.99', '$9.00', '$5.49',\n",
       "       '$10.00', '$24.99', '$11.99', '$79.99', '$16.99', '$14.99',\n",
       "       '$1.00', '$29.99', '$12.99', '$2.49', '$10.99', '$1.50', '$19.99',\n",
       "       '$15.99', '$33.99', '$74.99', '$39.99', '$3.95', '$4.49', '$1.70',\n",
       "       '$8.99', '$2.00', '$3.88', '$25.99', '$399.99', '$17.99',\n",
       "       '$400.00', '$3.02', '$1.76', '$4.84', '$4.77', '$1.61', '$2.50',\n",
       "       '$1.59', '$6.49', '$1.29', '$5.00', '$13.99', '$299.99', '$379.99',\n",
       "       '$37.99', '$18.99', '$389.99', '$19.90', '$8.49', '$1.75',\n",
       "       '$14.00', '$4.85', '$46.99', '$109.99', '$154.99', '$3.08',\n",
       "       '$2.59', '$4.80', '$1.96', '$19.40', '$3.90', '$4.59', '$15.46',\n",
       "       '$3.04', '$4.29', '$2.60', '$3.28', '$4.60', '$28.99', '$2.95',\n",
       "       '$2.90', '$1.97', '$200.00', '$89.99', '$2.56', '$30.99', '$3.61',\n",
       "       '$394.99', '$1.26', '$1.20', '$1.04'], dtype=object)"
      ]
     },
     "execution_count": 242,
     "metadata": {},
     "output_type": "execute_result"
    }
   ],
   "execution_count": 242
  },
  {
   "cell_type": "markdown",
   "source": "Data type of Price is object. I have made similar processes, which I made the in 'Size'. ",
   "metadata": {
    "_uuid": "31d60d87c4f477338ef0c22982f9e5bf51b48160"
   }
  },
  {
   "cell_type": "code",
   "source": "data['Price'] = data.Price.replace(\"Everyone\",np.nan)\ndata['Price'] = data.Price.str.replace(\"$\",\"\").astype(float)\ndata['Price'].dtype",
   "metadata": {
    "trusted": true,
    "_uuid": "81e357dcb9b9f6a965cfd09c277cc3fe89e7320b",
    "ExecuteTime": {
     "end_time": "2024-12-17T21:54:07.299068Z",
     "start_time": "2024-12-17T21:54:07.288633Z"
    }
   },
   "outputs": [
    {
     "data": {
      "text/plain": [
       "dtype('float64')"
      ]
     },
     "execution_count": 243,
     "metadata": {},
     "output_type": "execute_result"
    }
   ],
   "execution_count": 243
  },
  {
   "cell_type": "markdown",
   "source": "<a id=\"g\"></a>\n## Last Updated",
   "metadata": {
    "_uuid": "dcf80b253d00eddb91562f9260b0590930ac8d3c"
   }
  },
  {
   "cell_type": "code",
   "source": "data['Last Updated'].unique()",
   "metadata": {
    "trusted": true,
    "_uuid": "19dee1ed311e28527e5189b7956f98791c640cdf",
    "ExecuteTime": {
     "end_time": "2024-12-17T21:54:07.360456Z",
     "start_time": "2024-12-17T21:54:07.351721Z"
    }
   },
   "outputs": [
    {
     "data": {
      "text/plain": [
       "array(['January 7, 2018', 'January 15, 2018', 'August 1, 2018', ...,\n",
       "       'January 20, 2014', 'February 16, 2014', 'March 23, 2014'],\n",
       "      dtype=object)"
      ]
     },
     "execution_count": 244,
     "metadata": {},
     "output_type": "execute_result"
    }
   ],
   "execution_count": 244
  },
  {
   "cell_type": "markdown",
   "source": "Data type of Last Uptated is object. I converted from string to date type.",
   "metadata": {
    "_uuid": "3d225c5b0c7be0b9319b584c6b0e1cbdecb416d9"
   }
  },
  {
   "cell_type": "code",
   "source": "data['Last Updated'] = pd.to_datetime(data['Last Updated'])\ndata['Last Updated']",
   "metadata": {
    "trusted": true,
    "_uuid": "23bfe4e2ba6680008cd150dff68c09424ee63536",
    "ExecuteTime": {
     "end_time": "2024-12-17T21:54:07.435901Z",
     "start_time": "2024-12-17T21:54:07.423239Z"
    }
   },
   "outputs": [
    {
     "data": {
      "text/plain": [
       "0       2018-01-07\n",
       "1       2018-01-15\n",
       "2       2018-08-01\n",
       "3       2018-06-08\n",
       "4       2018-06-20\n",
       "           ...    \n",
       "10836   2017-07-25\n",
       "10837   2018-07-06\n",
       "10838   2017-01-20\n",
       "10839   2015-01-19\n",
       "10840   2018-07-25\n",
       "Name: Last Updated, Length: 10841, dtype: datetime64[ns]"
      ]
     },
     "execution_count": 245,
     "metadata": {},
     "output_type": "execute_result"
    }
   ],
   "execution_count": 245
  },
  {
   "cell_type": "markdown",
   "source": "<a id=\"3\"></a>\n# Exploratory Data Analysis\n\nAfter, I prepared to analyze our data, somewhat let's explore the datas. :)\n\n* corr() : It returns correlation. \n* describe (): It returns number of entries, average of entries, outlier values, standart deviation, minimum and maximum entry.",
   "metadata": {
    "_uuid": "466ebae8d5ad17765fb090161d5b7316380d8e6d"
   }
  },
  {
   "cell_type": "code",
   "source": "data.corr()",
   "metadata": {
    "trusted": true,
    "_uuid": "f90213e1b3aecef91739dfd7a85043612c9a012e",
    "ExecuteTime": {
     "end_time": "2024-12-17T21:54:07.520216Z",
     "start_time": "2024-12-17T21:54:07.478413Z"
    }
   },
   "outputs": [
    {
     "ename": "ValueError",
     "evalue": "could not convert string to float: 'Photo Editor & Candy Camera & Grid & ScrapBook'",
     "output_type": "error",
     "traceback": [
      "\u001B[1;31m---------------------------------------------------------------------------\u001B[0m",
      "\u001B[1;31mValueError\u001B[0m                                Traceback (most recent call last)",
      "Cell \u001B[1;32mIn[246], line 1\u001B[0m\n\u001B[1;32m----> 1\u001B[0m data\u001B[38;5;241m.\u001B[39mcorr()\n",
      "File \u001B[1;32mC:\\ProgramData\\anaconda3\\Lib\\site-packages\\pandas\\core\\frame.py:11049\u001B[0m, in \u001B[0;36mDataFrame.corr\u001B[1;34m(self, method, min_periods, numeric_only)\u001B[0m\n\u001B[0;32m  11047\u001B[0m cols \u001B[38;5;241m=\u001B[39m data\u001B[38;5;241m.\u001B[39mcolumns\n\u001B[0;32m  11048\u001B[0m idx \u001B[38;5;241m=\u001B[39m cols\u001B[38;5;241m.\u001B[39mcopy()\n\u001B[1;32m> 11049\u001B[0m mat \u001B[38;5;241m=\u001B[39m data\u001B[38;5;241m.\u001B[39mto_numpy(dtype\u001B[38;5;241m=\u001B[39m\u001B[38;5;28mfloat\u001B[39m, na_value\u001B[38;5;241m=\u001B[39mnp\u001B[38;5;241m.\u001B[39mnan, copy\u001B[38;5;241m=\u001B[39m\u001B[38;5;28;01mFalse\u001B[39;00m)\n\u001B[0;32m  11051\u001B[0m \u001B[38;5;28;01mif\u001B[39;00m method \u001B[38;5;241m==\u001B[39m \u001B[38;5;124m\"\u001B[39m\u001B[38;5;124mpearson\u001B[39m\u001B[38;5;124m\"\u001B[39m:\n\u001B[0;32m  11052\u001B[0m     correl \u001B[38;5;241m=\u001B[39m libalgos\u001B[38;5;241m.\u001B[39mnancorr(mat, minp\u001B[38;5;241m=\u001B[39mmin_periods)\n",
      "File \u001B[1;32mC:\\ProgramData\\anaconda3\\Lib\\site-packages\\pandas\\core\\frame.py:1993\u001B[0m, in \u001B[0;36mDataFrame.to_numpy\u001B[1;34m(self, dtype, copy, na_value)\u001B[0m\n\u001B[0;32m   1991\u001B[0m \u001B[38;5;28;01mif\u001B[39;00m dtype \u001B[38;5;129;01mis\u001B[39;00m \u001B[38;5;129;01mnot\u001B[39;00m \u001B[38;5;28;01mNone\u001B[39;00m:\n\u001B[0;32m   1992\u001B[0m     dtype \u001B[38;5;241m=\u001B[39m np\u001B[38;5;241m.\u001B[39mdtype(dtype)\n\u001B[1;32m-> 1993\u001B[0m result \u001B[38;5;241m=\u001B[39m \u001B[38;5;28mself\u001B[39m\u001B[38;5;241m.\u001B[39m_mgr\u001B[38;5;241m.\u001B[39mas_array(dtype\u001B[38;5;241m=\u001B[39mdtype, copy\u001B[38;5;241m=\u001B[39mcopy, na_value\u001B[38;5;241m=\u001B[39mna_value)\n\u001B[0;32m   1994\u001B[0m \u001B[38;5;28;01mif\u001B[39;00m result\u001B[38;5;241m.\u001B[39mdtype \u001B[38;5;129;01mis\u001B[39;00m \u001B[38;5;129;01mnot\u001B[39;00m dtype:\n\u001B[0;32m   1995\u001B[0m     result \u001B[38;5;241m=\u001B[39m np\u001B[38;5;241m.\u001B[39masarray(result, dtype\u001B[38;5;241m=\u001B[39mdtype)\n",
      "File \u001B[1;32mC:\\ProgramData\\anaconda3\\Lib\\site-packages\\pandas\\core\\internals\\managers.py:1694\u001B[0m, in \u001B[0;36mBlockManager.as_array\u001B[1;34m(self, dtype, copy, na_value)\u001B[0m\n\u001B[0;32m   1692\u001B[0m         arr\u001B[38;5;241m.\u001B[39mflags\u001B[38;5;241m.\u001B[39mwriteable \u001B[38;5;241m=\u001B[39m \u001B[38;5;28;01mFalse\u001B[39;00m\n\u001B[0;32m   1693\u001B[0m \u001B[38;5;28;01melse\u001B[39;00m:\n\u001B[1;32m-> 1694\u001B[0m     arr \u001B[38;5;241m=\u001B[39m \u001B[38;5;28mself\u001B[39m\u001B[38;5;241m.\u001B[39m_interleave(dtype\u001B[38;5;241m=\u001B[39mdtype, na_value\u001B[38;5;241m=\u001B[39mna_value)\n\u001B[0;32m   1695\u001B[0m     \u001B[38;5;66;03m# The underlying data was copied within _interleave, so no need\u001B[39;00m\n\u001B[0;32m   1696\u001B[0m     \u001B[38;5;66;03m# to further copy if copy=True or setting na_value\u001B[39;00m\n\u001B[0;32m   1698\u001B[0m \u001B[38;5;28;01mif\u001B[39;00m na_value \u001B[38;5;129;01mis\u001B[39;00m lib\u001B[38;5;241m.\u001B[39mno_default:\n",
      "File \u001B[1;32mC:\\ProgramData\\anaconda3\\Lib\\site-packages\\pandas\\core\\internals\\managers.py:1753\u001B[0m, in \u001B[0;36mBlockManager._interleave\u001B[1;34m(self, dtype, na_value)\u001B[0m\n\u001B[0;32m   1751\u001B[0m     \u001B[38;5;28;01melse\u001B[39;00m:\n\u001B[0;32m   1752\u001B[0m         arr \u001B[38;5;241m=\u001B[39m blk\u001B[38;5;241m.\u001B[39mget_values(dtype)\n\u001B[1;32m-> 1753\u001B[0m     result[rl\u001B[38;5;241m.\u001B[39mindexer] \u001B[38;5;241m=\u001B[39m arr\n\u001B[0;32m   1754\u001B[0m     itemmask[rl\u001B[38;5;241m.\u001B[39mindexer] \u001B[38;5;241m=\u001B[39m \u001B[38;5;241m1\u001B[39m\n\u001B[0;32m   1756\u001B[0m \u001B[38;5;28;01mif\u001B[39;00m \u001B[38;5;129;01mnot\u001B[39;00m itemmask\u001B[38;5;241m.\u001B[39mall():\n",
      "\u001B[1;31mValueError\u001B[0m: could not convert string to float: 'Photo Editor & Candy Camera & Grid & ScrapBook'"
     ]
    }
   ],
   "execution_count": 246
  },
  {
   "cell_type": "code",
   "source": "#correlation map\nf,ax = plt.subplots(figsize=(12, 12))\nsns.heatmap(data.corr(), annot=True, linewidths=.5, fmt= '.1f',ax=ax)\nplt.show()",
   "metadata": {
    "trusted": true,
    "_uuid": "9e5aa3a241895ba067648622b7453b9e0bdbe7b5"
   },
   "outputs": [],
   "execution_count": null
  },
  {
   "cell_type": "code",
   "source": "data.describe()",
   "metadata": {
    "trusted": true,
    "_uuid": "8b42edf85143bc36fc753dae1a17f6194f49ffb6"
   },
   "outputs": [],
   "execution_count": null
  },
  {
   "cell_type": "markdown",
   "source": "<a id=\"a1\"></a>\n## Category and Reviews",
   "metadata": {
    "_uuid": "37efb4a53eea4de019d0d512366172481d5716b9"
   }
  },
  {
   "cell_type": "code",
   "source": "category_list = list(data['Category'].unique())\ncategory_review = []\nfor i in category_list:\n    x = data[data['Category'] == i]\n    if(len(x)!=0):\n        review = sum(x.Reviews)/len(x)\n        category_review.append(review)\n    else:\n        review = sum(x.Reviews)\n        category_review.append(review)\n#sorting\ndata_category_reviews = pd.DataFrame({'category': category_list,'review':category_review})\nnew_index = (data_category_reviews['review'].sort_values(ascending=False)).index.values\nsorted_data =data_category_reviews.reindex(new_index)\n\n# visualization\nplt.figure(figsize=(15,10))\nsns.barplot(x=sorted_data['category'], y=sorted_data['review'])\nplt.xticks(rotation=80)\nplt.xlabel(\"Category\")\nplt.ylabel(\"Reviews\")\nplt.title(\"Category and Reviews\")\nplt.show()",
   "metadata": {
    "trusted": true,
    "_uuid": "6d4de369ec4193b23b04d06ee99b41ea3b773030"
   },
   "outputs": [],
   "execution_count": null
  },
  {
   "cell_type": "markdown",
   "source": "<a id=\"b1\"></a>\n## Category and Installs",
   "metadata": {
    "_uuid": "603f010611f00b88557d1e5f0e7c4d36ac41176e"
   }
  },
  {
   "cell_type": "code",
   "source": "category_list = list(data['Category'].unique())\ncategory_install = []\nfor i in category_list:\n    x = data[data['Category'] == i]\n    if(len(x)!=0):\n        install = sum(x.Installs)/len(x)\n        category_install.append(install)\n    else:\n        install = sum(x.Installs)\n        category_install.append(install)\n        \n#sorting\ndata_category_install = pd.DataFrame({'category': category_list,'install':category_install})\nnew_index = (data_category_install['install'].sort_values(ascending=False)).index.values\nsorted_data =data_category_install.reindex(new_index)\n\n# visualization\nplt.figure(figsize=(15,10))\nsns.barplot(x=sorted_data['category'], y=sorted_data['install'])\nplt.xticks(rotation=80)\nplt.xlabel(\"Category\")\nplt.ylabel(\"Install\")\nplt.title(\"Category and Install\")\nplt.show()",
   "metadata": {
    "trusted": true,
    "_uuid": "c058dbbe237ba41bb69bdffa67df9a413826d455"
   },
   "outputs": [],
   "execution_count": null
  },
  {
   "cell_type": "markdown",
   "source": "<a id=\"c1\"></a>\n## Word Cloud",
   "metadata": {
    "_uuid": "1da67d64804f39975e7969c419419167fde067bf"
   }
  },
  {
   "cell_type": "code",
   "source": "plt.subplots(figsize=(8,8))\nwordcloud = WordCloud(\n                          background_color='white',\n                          width=512,\n                          height=384\n                         ).generate(\" \".join(data))\nplt.imshow(wordcloud)\nplt.axis('off')\nplt.savefig('graph.png')\n\nplt.show()",
   "metadata": {
    "trusted": true,
    "_uuid": "6c1f501c3692005d847fe010acbb5d580438f3e8"
   },
   "outputs": [],
   "execution_count": null
  },
  {
   "cell_type": "markdown",
   "source": "<a id=\"d1\"></a>\n## Content Rating",
   "metadata": {
    "_uuid": "fc9c3babb8a71475524068549b67f41d5f7034b3"
   }
  },
  {
   "cell_type": "code",
   "source": "plt.figure(figsize=(10,7))\nsns.countplot(data=data, x='Content Rating')\nplt.xticks(rotation=80)\nplt.title('Content Rating',color = 'blue',fontsize=15)\nplt.show()",
   "metadata": {
    "trusted": true,
    "_uuid": "a83ea94b4b301091459cf8fa12c993c2eb82af0f"
   },
   "outputs": [],
   "execution_count": null
  },
  {
   "cell_type": "markdown",
   "source": "<a id=\"4\"></a>\n# Conclusion\n\nThis is the end of the story. I hope It benefits to you. You can visualize with a lot of different model. Actually, I thought that EDA study could be boring. But It's important for ML models. I'm definitely gonna myself about this subject. You can help with your comments. Wish to see you with different datasets.\n\n**Thank you for your votes and comments **",
   "metadata": {
    "_uuid": "6c044f4c026e24e78878fda06a8a2b9b8f836616"
   }
  }
 ]
}
