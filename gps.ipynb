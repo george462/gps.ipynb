{
 "metadata": {
  "kernelspec": {
   "display_name": "Python 3",
   "language": "python",
   "name": "python3"
  },
  "language_info": {
   "name": "python",
   "version": "3.6.6",
   "mimetype": "text/x-python",
   "codemirror_mode": {
    "name": "ipython",
    "version": 3
   },
   "pygments_lexer": "ipython3",
   "nbconvert_exporter": "python",
   "file_extension": ".py"
  },
  "kaggle": {
   "accelerator": "none",
   "dataSources": [
    {
     "sourceId": 274957,
     "sourceType": "datasetVersion",
     "datasetId": 49864
    }
   ],
   "dockerImageVersionId": 20477,
   "isInternetEnabled": false,
   "language": "python",
   "sourceType": "notebook",
   "isGpuEnabled": false
  }
 },
 "nbformat_minor": 4,
 "nbformat": 4,
 "cells": [
  {
   "cell_type": "markdown",
   "source": [
    "# Outlines \n",
    "#### 1. Data cleaning \n",
    "#### 2. feature engineering \n",
    "#### 3. Getting more insights \n",
    "#### 4. Data Pre-processing\n",
    "        ●\tFix Rating\n",
    "        ●\tFix Size\n",
    "        ●\tFix Price\n",
    "        ●\tFix Category\n",
    "        ●\tFix Android Version\n",
    "        ●\tHandle Missing Values\n",
    "        ●\tOutlier Detection and Handling\n",
    "        ●\tFix anything need fixing \n"
   ],
   "metadata": {
    "_uuid": "5e06c9a0ebe7617425ac4c865e64d68ef3edf857"
   }
  },
  {
   "cell_type": "code",
   "source": [
    "#import library\n",
    "import pandas as pd \n",
    "import numpy as np \n",
    "import matplotlib.pyplot as plt\n",
    "import seaborn as sns\n"
   ],
   "metadata": {
    "_cell_guid": "79c7e3d0-c299-4dcb-8224-4455121ee9b0",
    "_uuid": "d629ff2d2480ee46fbb7e2d37f6b5fab8052498a",
    "trusted": true,
    "ExecuteTime": {
     "end_time": "2024-12-20T01:13:58.361668Z",
     "start_time": "2024-12-20T01:13:58.357167Z"
    }
   },
   "outputs": [],
   "execution_count": 2204
  },
  {
   "cell_type": "code",
   "source": [
    "#read to csv\n",
    "data = pd.read_csv(\"googleplaystore.csv\")"
   ],
   "metadata": {
    "trusted": true,
    "_uuid": "d1b1055e62085a0867b18d155446335c4e00c34f",
    "ExecuteTime": {
     "end_time": "2024-12-20T01:13:58.401480Z",
     "start_time": "2024-12-20T01:13:58.370691Z"
    }
   },
   "outputs": [],
   "execution_count": 2205
  },
  {
   "cell_type": "code",
   "source": "data.info()",
   "metadata": {
    "trusted": true,
    "_uuid": "3d13aba0a6043f8b26a9d47682fb291c6c402446",
    "_kg_hide-output": false,
    "_kg_hide-input": false,
    "ExecuteTime": {
     "end_time": "2024-12-20T01:13:58.429352Z",
     "start_time": "2024-12-20T01:13:58.416766Z"
    }
   },
   "outputs": [
    {
     "name": "stdout",
     "output_type": "stream",
     "text": [
      "<class 'pandas.core.frame.DataFrame'>\n",
      "RangeIndex: 10841 entries, 0 to 10840\n",
      "Data columns (total 13 columns):\n",
      " #   Column          Non-Null Count  Dtype  \n",
      "---  ------          --------------  -----  \n",
      " 0   App             10841 non-null  object \n",
      " 1   Category        10841 non-null  object \n",
      " 2   Rating          9367 non-null   float64\n",
      " 3   Reviews         10841 non-null  object \n",
      " 4   Size            10841 non-null  object \n",
      " 5   Installs        10841 non-null  object \n",
      " 6   Type            10840 non-null  object \n",
      " 7   Price           10841 non-null  object \n",
      " 8   Content Rating  10840 non-null  object \n",
      " 9   Genres          10841 non-null  object \n",
      " 10  Last Updated    10841 non-null  object \n",
      " 11  Current Ver     10833 non-null  object \n",
      " 12  Android Ver     10838 non-null  object \n",
      "dtypes: float64(1), object(12)\n",
      "memory usage: 1.1+ MB\n"
     ]
    }
   ],
   "execution_count": 2206
  },
  {
   "cell_type": "code",
   "source": "data.columns",
   "metadata": {
    "trusted": true,
    "_uuid": "3cebb1d11e5b26fe562ef440e6c08cfe5ca7a606",
    "_kg_hide-input": true,
    "ExecuteTime": {
     "end_time": "2024-12-20T01:13:58.472013Z",
     "start_time": "2024-12-20T01:13:58.467337Z"
    }
   },
   "outputs": [
    {
     "data": {
      "text/plain": [
       "Index(['App', 'Category', 'Rating', 'Reviews', 'Size', 'Installs', 'Type',\n",
       "       'Price', 'Content Rating', 'Genres', 'Last Updated', 'Current Ver',\n",
       "       'Android Ver'],\n",
       "      dtype='object')"
      ]
     },
     "execution_count": 2207,
     "metadata": {},
     "output_type": "execute_result"
    }
   ],
   "execution_count": 2207
  },
  {
   "metadata": {
    "ExecuteTime": {
     "end_time": "2024-12-20T01:13:58.536878Z",
     "start_time": "2024-12-20T01:13:58.532008Z"
    }
   },
   "cell_type": "code",
   "source": [
    "data.columns = data.columns.str.replace(\" \",\"_\")\n",
    "data.columns"
   ],
   "outputs": [
    {
     "data": {
      "text/plain": [
       "Index(['App', 'Category', 'Rating', 'Reviews', 'Size', 'Installs', 'Type',\n",
       "       'Price', 'Content_Rating', 'Genres', 'Last_Updated', 'Current_Ver',\n",
       "       'Android_Ver'],\n",
       "      dtype='object')"
      ]
     },
     "execution_count": 2208,
     "metadata": {},
     "output_type": "execute_result"
    }
   ],
   "execution_count": 2208
  },
  {
   "cell_type": "code",
   "source": "data.shape",
   "metadata": {
    "trusted": true,
    "scrolled": true,
    "_uuid": "30723b209b43085965ccc977a7323e330bb887a0",
    "ExecuteTime": {
     "end_time": "2024-12-20T01:13:58.598446Z",
     "start_time": "2024-12-20T01:13:58.593168Z"
    }
   },
   "outputs": [
    {
     "data": {
      "text/plain": [
       "(10841, 13)"
      ]
     },
     "execution_count": 2209,
     "metadata": {},
     "output_type": "execute_result"
    }
   ],
   "execution_count": 2209
  },
  {
   "cell_type": "code",
   "source": "data.head()",
   "metadata": {
    "trusted": true,
    "_uuid": "ed8ec1d98b9b852955871ae12faebf0fdab008ba",
    "ExecuteTime": {
     "end_time": "2024-12-20T01:13:58.681206Z",
     "start_time": "2024-12-20T01:13:58.670310Z"
    }
   },
   "outputs": [
    {
     "data": {
      "text/plain": [
       "                                                 App        Category  Rating  \\\n",
       "0     Photo Editor & Candy Camera & Grid & ScrapBook  ART_AND_DESIGN     4.1   \n",
       "1                                Coloring book moana  ART_AND_DESIGN     3.9   \n",
       "2  U Launcher Lite – FREE Live Cool Themes, Hide ...  ART_AND_DESIGN     4.7   \n",
       "3                              Sketch - Draw & Paint  ART_AND_DESIGN     4.5   \n",
       "4              Pixel Draw - Number Art Coloring Book  ART_AND_DESIGN     4.3   \n",
       "\n",
       "  Reviews  Size     Installs  Type Price Content_Rating  \\\n",
       "0     159   19M      10,000+  Free     0       Everyone   \n",
       "1     967   14M     500,000+  Free     0       Everyone   \n",
       "2   87510  8.7M   5,000,000+  Free     0       Everyone   \n",
       "3  215644   25M  50,000,000+  Free     0           Teen   \n",
       "4     967  2.8M     100,000+  Free     0       Everyone   \n",
       "\n",
       "                      Genres      Last_Updated         Current_Ver  \\\n",
       "0               Art & Design   January 7, 2018               1.0.0   \n",
       "1  Art & Design;Pretend Play  January 15, 2018               2.0.0   \n",
       "2               Art & Design    August 1, 2018               1.2.4   \n",
       "3               Art & Design      June 8, 2018  Varies with device   \n",
       "4    Art & Design;Creativity     June 20, 2018                 1.1   \n",
       "\n",
       "    Android_Ver  \n",
       "0  4.0.3 and up  \n",
       "1  4.0.3 and up  \n",
       "2  4.0.3 and up  \n",
       "3    4.2 and up  \n",
       "4    4.4 and up  "
      ],
      "text/html": [
       "<div>\n",
       "<style scoped>\n",
       "    .dataframe tbody tr th:only-of-type {\n",
       "        vertical-align: middle;\n",
       "    }\n",
       "\n",
       "    .dataframe tbody tr th {\n",
       "        vertical-align: top;\n",
       "    }\n",
       "\n",
       "    .dataframe thead th {\n",
       "        text-align: right;\n",
       "    }\n",
       "</style>\n",
       "<table border=\"1\" class=\"dataframe\">\n",
       "  <thead>\n",
       "    <tr style=\"text-align: right;\">\n",
       "      <th></th>\n",
       "      <th>App</th>\n",
       "      <th>Category</th>\n",
       "      <th>Rating</th>\n",
       "      <th>Reviews</th>\n",
       "      <th>Size</th>\n",
       "      <th>Installs</th>\n",
       "      <th>Type</th>\n",
       "      <th>Price</th>\n",
       "      <th>Content_Rating</th>\n",
       "      <th>Genres</th>\n",
       "      <th>Last_Updated</th>\n",
       "      <th>Current_Ver</th>\n",
       "      <th>Android_Ver</th>\n",
       "    </tr>\n",
       "  </thead>\n",
       "  <tbody>\n",
       "    <tr>\n",
       "      <th>0</th>\n",
       "      <td>Photo Editor &amp; Candy Camera &amp; Grid &amp; ScrapBook</td>\n",
       "      <td>ART_AND_DESIGN</td>\n",
       "      <td>4.1</td>\n",
       "      <td>159</td>\n",
       "      <td>19M</td>\n",
       "      <td>10,000+</td>\n",
       "      <td>Free</td>\n",
       "      <td>0</td>\n",
       "      <td>Everyone</td>\n",
       "      <td>Art &amp; Design</td>\n",
       "      <td>January 7, 2018</td>\n",
       "      <td>1.0.0</td>\n",
       "      <td>4.0.3 and up</td>\n",
       "    </tr>\n",
       "    <tr>\n",
       "      <th>1</th>\n",
       "      <td>Coloring book moana</td>\n",
       "      <td>ART_AND_DESIGN</td>\n",
       "      <td>3.9</td>\n",
       "      <td>967</td>\n",
       "      <td>14M</td>\n",
       "      <td>500,000+</td>\n",
       "      <td>Free</td>\n",
       "      <td>0</td>\n",
       "      <td>Everyone</td>\n",
       "      <td>Art &amp; Design;Pretend Play</td>\n",
       "      <td>January 15, 2018</td>\n",
       "      <td>2.0.0</td>\n",
       "      <td>4.0.3 and up</td>\n",
       "    </tr>\n",
       "    <tr>\n",
       "      <th>2</th>\n",
       "      <td>U Launcher Lite – FREE Live Cool Themes, Hide ...</td>\n",
       "      <td>ART_AND_DESIGN</td>\n",
       "      <td>4.7</td>\n",
       "      <td>87510</td>\n",
       "      <td>8.7M</td>\n",
       "      <td>5,000,000+</td>\n",
       "      <td>Free</td>\n",
       "      <td>0</td>\n",
       "      <td>Everyone</td>\n",
       "      <td>Art &amp; Design</td>\n",
       "      <td>August 1, 2018</td>\n",
       "      <td>1.2.4</td>\n",
       "      <td>4.0.3 and up</td>\n",
       "    </tr>\n",
       "    <tr>\n",
       "      <th>3</th>\n",
       "      <td>Sketch - Draw &amp; Paint</td>\n",
       "      <td>ART_AND_DESIGN</td>\n",
       "      <td>4.5</td>\n",
       "      <td>215644</td>\n",
       "      <td>25M</td>\n",
       "      <td>50,000,000+</td>\n",
       "      <td>Free</td>\n",
       "      <td>0</td>\n",
       "      <td>Teen</td>\n",
       "      <td>Art &amp; Design</td>\n",
       "      <td>June 8, 2018</td>\n",
       "      <td>Varies with device</td>\n",
       "      <td>4.2 and up</td>\n",
       "    </tr>\n",
       "    <tr>\n",
       "      <th>4</th>\n",
       "      <td>Pixel Draw - Number Art Coloring Book</td>\n",
       "      <td>ART_AND_DESIGN</td>\n",
       "      <td>4.3</td>\n",
       "      <td>967</td>\n",
       "      <td>2.8M</td>\n",
       "      <td>100,000+</td>\n",
       "      <td>Free</td>\n",
       "      <td>0</td>\n",
       "      <td>Everyone</td>\n",
       "      <td>Art &amp; Design;Creativity</td>\n",
       "      <td>June 20, 2018</td>\n",
       "      <td>1.1</td>\n",
       "      <td>4.4 and up</td>\n",
       "    </tr>\n",
       "  </tbody>\n",
       "</table>\n",
       "</div>"
      ]
     },
     "execution_count": 2210,
     "metadata": {},
     "output_type": "execute_result"
    }
   ],
   "execution_count": 2210
  },
  {
   "cell_type": "code",
   "source": "data.tail()",
   "metadata": {
    "trusted": true,
    "_uuid": "fbdd18afe5d8f55073fd84c14b3adce804322c8d",
    "scrolled": true,
    "ExecuteTime": {
     "end_time": "2024-12-20T01:13:58.750065Z",
     "start_time": "2024-12-20T01:13:58.739292Z"
    }
   },
   "outputs": [
    {
     "data": {
      "text/plain": [
       "                                                 App             Category  \\\n",
       "10836                               Sya9a Maroc - FR               FAMILY   \n",
       "10837               Fr. Mike Schmitz Audio Teachings               FAMILY   \n",
       "10838                         Parkinson Exercices FR              MEDICAL   \n",
       "10839                  The SCP Foundation DB fr nn5n  BOOKS_AND_REFERENCE   \n",
       "10840  iHoroscope - 2018 Daily Horoscope & Astrology            LIFESTYLE   \n",
       "\n",
       "       Rating Reviews                Size     Installs  Type Price  \\\n",
       "10836     4.5      38                 53M       5,000+  Free     0   \n",
       "10837     5.0       4                3.6M         100+  Free     0   \n",
       "10838     NaN       3                9.5M       1,000+  Free     0   \n",
       "10839     4.5     114  Varies with device       1,000+  Free     0   \n",
       "10840     4.5  398307                 19M  10,000,000+  Free     0   \n",
       "\n",
       "      Content_Rating             Genres      Last_Updated         Current_Ver  \\\n",
       "10836       Everyone          Education     July 25, 2017                1.48   \n",
       "10837       Everyone          Education      July 6, 2018                 1.0   \n",
       "10838       Everyone            Medical  January 20, 2017                 1.0   \n",
       "10839     Mature 17+  Books & Reference  January 19, 2015  Varies with device   \n",
       "10840       Everyone          Lifestyle     July 25, 2018  Varies with device   \n",
       "\n",
       "              Android_Ver  \n",
       "10836          4.1 and up  \n",
       "10837          4.1 and up  \n",
       "10838          2.2 and up  \n",
       "10839  Varies with device  \n",
       "10840  Varies with device  "
      ],
      "text/html": [
       "<div>\n",
       "<style scoped>\n",
       "    .dataframe tbody tr th:only-of-type {\n",
       "        vertical-align: middle;\n",
       "    }\n",
       "\n",
       "    .dataframe tbody tr th {\n",
       "        vertical-align: top;\n",
       "    }\n",
       "\n",
       "    .dataframe thead th {\n",
       "        text-align: right;\n",
       "    }\n",
       "</style>\n",
       "<table border=\"1\" class=\"dataframe\">\n",
       "  <thead>\n",
       "    <tr style=\"text-align: right;\">\n",
       "      <th></th>\n",
       "      <th>App</th>\n",
       "      <th>Category</th>\n",
       "      <th>Rating</th>\n",
       "      <th>Reviews</th>\n",
       "      <th>Size</th>\n",
       "      <th>Installs</th>\n",
       "      <th>Type</th>\n",
       "      <th>Price</th>\n",
       "      <th>Content_Rating</th>\n",
       "      <th>Genres</th>\n",
       "      <th>Last_Updated</th>\n",
       "      <th>Current_Ver</th>\n",
       "      <th>Android_Ver</th>\n",
       "    </tr>\n",
       "  </thead>\n",
       "  <tbody>\n",
       "    <tr>\n",
       "      <th>10836</th>\n",
       "      <td>Sya9a Maroc - FR</td>\n",
       "      <td>FAMILY</td>\n",
       "      <td>4.5</td>\n",
       "      <td>38</td>\n",
       "      <td>53M</td>\n",
       "      <td>5,000+</td>\n",
       "      <td>Free</td>\n",
       "      <td>0</td>\n",
       "      <td>Everyone</td>\n",
       "      <td>Education</td>\n",
       "      <td>July 25, 2017</td>\n",
       "      <td>1.48</td>\n",
       "      <td>4.1 and up</td>\n",
       "    </tr>\n",
       "    <tr>\n",
       "      <th>10837</th>\n",
       "      <td>Fr. Mike Schmitz Audio Teachings</td>\n",
       "      <td>FAMILY</td>\n",
       "      <td>5.0</td>\n",
       "      <td>4</td>\n",
       "      <td>3.6M</td>\n",
       "      <td>100+</td>\n",
       "      <td>Free</td>\n",
       "      <td>0</td>\n",
       "      <td>Everyone</td>\n",
       "      <td>Education</td>\n",
       "      <td>July 6, 2018</td>\n",
       "      <td>1.0</td>\n",
       "      <td>4.1 and up</td>\n",
       "    </tr>\n",
       "    <tr>\n",
       "      <th>10838</th>\n",
       "      <td>Parkinson Exercices FR</td>\n",
       "      <td>MEDICAL</td>\n",
       "      <td>NaN</td>\n",
       "      <td>3</td>\n",
       "      <td>9.5M</td>\n",
       "      <td>1,000+</td>\n",
       "      <td>Free</td>\n",
       "      <td>0</td>\n",
       "      <td>Everyone</td>\n",
       "      <td>Medical</td>\n",
       "      <td>January 20, 2017</td>\n",
       "      <td>1.0</td>\n",
       "      <td>2.2 and up</td>\n",
       "    </tr>\n",
       "    <tr>\n",
       "      <th>10839</th>\n",
       "      <td>The SCP Foundation DB fr nn5n</td>\n",
       "      <td>BOOKS_AND_REFERENCE</td>\n",
       "      <td>4.5</td>\n",
       "      <td>114</td>\n",
       "      <td>Varies with device</td>\n",
       "      <td>1,000+</td>\n",
       "      <td>Free</td>\n",
       "      <td>0</td>\n",
       "      <td>Mature 17+</td>\n",
       "      <td>Books &amp; Reference</td>\n",
       "      <td>January 19, 2015</td>\n",
       "      <td>Varies with device</td>\n",
       "      <td>Varies with device</td>\n",
       "    </tr>\n",
       "    <tr>\n",
       "      <th>10840</th>\n",
       "      <td>iHoroscope - 2018 Daily Horoscope &amp; Astrology</td>\n",
       "      <td>LIFESTYLE</td>\n",
       "      <td>4.5</td>\n",
       "      <td>398307</td>\n",
       "      <td>19M</td>\n",
       "      <td>10,000,000+</td>\n",
       "      <td>Free</td>\n",
       "      <td>0</td>\n",
       "      <td>Everyone</td>\n",
       "      <td>Lifestyle</td>\n",
       "      <td>July 25, 2018</td>\n",
       "      <td>Varies with device</td>\n",
       "      <td>Varies with device</td>\n",
       "    </tr>\n",
       "  </tbody>\n",
       "</table>\n",
       "</div>"
      ]
     },
     "execution_count": 2211,
     "metadata": {},
     "output_type": "execute_result"
    }
   ],
   "execution_count": 2211
  },
  {
   "cell_type": "markdown",
   "source": [
    "# 2. Cleaning Data\n",
    "\n",
    "\n",
    "\n",
    "## Rating"
   ],
   "metadata": {
    "_uuid": "8c19f552f543134a723fe69855a6d2492480e1a1"
   }
  },
  {
   "cell_type": "code",
   "source": "data['Rating'].unique()",
   "metadata": {
    "trusted": true,
    "_uuid": "3f97cdd7d804ae6ff3581ea010678ef142e773c2",
    "scrolled": true,
    "ExecuteTime": {
     "end_time": "2024-12-20T01:13:58.865540Z",
     "start_time": "2024-12-20T01:13:58.859311Z"
    }
   },
   "outputs": [
    {
     "data": {
      "text/plain": [
       "array([ 4.1,  3.9,  4.7,  4.5,  4.3,  4.4,  3.8,  4.2,  4.6,  3.2,  4. ,\n",
       "        nan,  4.8,  4.9,  3.6,  3.7,  3.3,  3.4,  3.5,  3.1,  5. ,  2.6,\n",
       "        3. ,  1.9,  2.5,  2.8,  2.7,  1. ,  2.9,  2.3,  2.2,  1.7,  2. ,\n",
       "        1.8,  2.4,  1.6,  2.1,  1.4,  1.5,  1.2, 19. ])"
      ]
     },
     "execution_count": 2212,
     "metadata": {},
     "output_type": "execute_result"
    }
   ],
   "execution_count": 2212
  },
  {
   "metadata": {
    "ExecuteTime": {
     "end_time": "2024-12-20T01:13:59.073119Z",
     "start_time": "2024-12-20T01:13:59.063209Z"
    }
   },
   "cell_type": "code",
   "source": "data[data['Rating']>5]",
   "outputs": [
    {
     "data": {
      "text/plain": [
       "                                           App Category  Rating Reviews  \\\n",
       "10472  Life Made WI-Fi Touchscreen Photo Frame      1.9    19.0    3.0M   \n",
       "\n",
       "         Size Installs Type     Price Content_Rating             Genres  \\\n",
       "10472  1,000+     Free    0  Everyone            NaN  February 11, 2018   \n",
       "\n",
       "      Last_Updated Current_Ver Android_Ver  \n",
       "10472       1.0.19  4.0 and up         NaN  "
      ],
      "text/html": [
       "<div>\n",
       "<style scoped>\n",
       "    .dataframe tbody tr th:only-of-type {\n",
       "        vertical-align: middle;\n",
       "    }\n",
       "\n",
       "    .dataframe tbody tr th {\n",
       "        vertical-align: top;\n",
       "    }\n",
       "\n",
       "    .dataframe thead th {\n",
       "        text-align: right;\n",
       "    }\n",
       "</style>\n",
       "<table border=\"1\" class=\"dataframe\">\n",
       "  <thead>\n",
       "    <tr style=\"text-align: right;\">\n",
       "      <th></th>\n",
       "      <th>App</th>\n",
       "      <th>Category</th>\n",
       "      <th>Rating</th>\n",
       "      <th>Reviews</th>\n",
       "      <th>Size</th>\n",
       "      <th>Installs</th>\n",
       "      <th>Type</th>\n",
       "      <th>Price</th>\n",
       "      <th>Content_Rating</th>\n",
       "      <th>Genres</th>\n",
       "      <th>Last_Updated</th>\n",
       "      <th>Current_Ver</th>\n",
       "      <th>Android_Ver</th>\n",
       "    </tr>\n",
       "  </thead>\n",
       "  <tbody>\n",
       "    <tr>\n",
       "      <th>10472</th>\n",
       "      <td>Life Made WI-Fi Touchscreen Photo Frame</td>\n",
       "      <td>1.9</td>\n",
       "      <td>19.0</td>\n",
       "      <td>3.0M</td>\n",
       "      <td>1,000+</td>\n",
       "      <td>Free</td>\n",
       "      <td>0</td>\n",
       "      <td>Everyone</td>\n",
       "      <td>NaN</td>\n",
       "      <td>February 11, 2018</td>\n",
       "      <td>1.0.19</td>\n",
       "      <td>4.0 and up</td>\n",
       "      <td>NaN</td>\n",
       "    </tr>\n",
       "  </tbody>\n",
       "</table>\n",
       "</div>"
      ]
     },
     "execution_count": 2213,
     "metadata": {},
     "output_type": "execute_result"
    }
   ],
   "execution_count": 2213
  },
  {
   "metadata": {
    "ExecuteTime": {
     "end_time": "2024-12-20T01:13:59.232402Z",
     "start_time": "2024-12-20T01:13:59.222683Z"
    }
   },
   "cell_type": "code",
   "source": [
    "data.loc[10472,\"Category\"]=float(data.loc[10472,\"Category\"])\n",
    "data.loc[10472]= data.loc[10472].shift(1)\n",
    "data.loc[10472]"
   ],
   "outputs": [
    {
     "data": {
      "text/plain": [
       "App                                                  None\n",
       "Category          Life Made WI-Fi Touchscreen Photo Frame\n",
       "Rating                                                1.9\n",
       "Reviews                                              19.0\n",
       "Size                                                 3.0M\n",
       "Installs                                           1,000+\n",
       "Type                                                 Free\n",
       "Price                                                   0\n",
       "Content_Rating                                   Everyone\n",
       "Genres                                                NaN\n",
       "Last_Updated                            February 11, 2018\n",
       "Current_Ver                                        1.0.19\n",
       "Android_Ver                                    4.0 and up\n",
       "Name: 10472, dtype: object"
      ]
     },
     "execution_count": 2214,
     "metadata": {},
     "output_type": "execute_result"
    }
   ],
   "execution_count": 2214
  },
  {
   "metadata": {
    "ExecuteTime": {
     "end_time": "2024-12-20T01:13:59.415489Z",
     "start_time": "2024-12-20T01:13:59.407943Z"
    }
   },
   "cell_type": "code",
   "source": [
    "data.loc[10472,\"App\"]=data.loc[10472,\"Category\"]\n",
    "data.loc[10472,\"Category\"]=np.nan\n",
    "data.loc[10472]"
   ],
   "outputs": [
    {
     "data": {
      "text/plain": [
       "App               Life Made WI-Fi Touchscreen Photo Frame\n",
       "Category                                              NaN\n",
       "Rating                                                1.9\n",
       "Reviews                                              19.0\n",
       "Size                                                 3.0M\n",
       "Installs                                           1,000+\n",
       "Type                                                 Free\n",
       "Price                                                   0\n",
       "Content_Rating                                   Everyone\n",
       "Genres                                                NaN\n",
       "Last_Updated                            February 11, 2018\n",
       "Current_Ver                                        1.0.19\n",
       "Android_Ver                                    4.0 and up\n",
       "Name: 10472, dtype: object"
      ]
     },
     "execution_count": 2215,
     "metadata": {},
     "output_type": "execute_result"
    }
   ],
   "execution_count": 2215
  },
  {
   "cell_type": "markdown",
   "source": "## Size ",
   "metadata": {
    "_uuid": "dcddb819a95fd56516cc08d1386cbda017cf28b0"
   }
  },
  {
   "cell_type": "code",
   "source": "data['Size'].unique()",
   "metadata": {
    "trusted": true,
    "scrolled": true,
    "_uuid": "2f08d41f739bc873b4228a3672eabda7b386ac03",
    "ExecuteTime": {
     "end_time": "2024-12-20T01:13:59.624720Z",
     "start_time": "2024-12-20T01:13:59.619257Z"
    }
   },
   "outputs": [
    {
     "data": {
      "text/plain": [
       "array(['19M', '14M', '8.7M', '25M', '2.8M', '5.6M', '29M', '33M', '3.1M',\n",
       "       '28M', '12M', '20M', '21M', '37M', '2.7M', '5.5M', '17M', '39M',\n",
       "       '31M', '4.2M', '7.0M', '23M', '6.0M', '6.1M', '4.6M', '9.2M',\n",
       "       '5.2M', '11M', '24M', 'Varies with device', '9.4M', '15M', '10M',\n",
       "       '1.2M', '26M', '8.0M', '7.9M', '56M', '57M', '35M', '54M', '201k',\n",
       "       '3.6M', '5.7M', '8.6M', '2.4M', '27M', '2.5M', '16M', '3.4M',\n",
       "       '8.9M', '3.9M', '2.9M', '38M', '32M', '5.4M', '18M', '1.1M',\n",
       "       '2.2M', '4.5M', '9.8M', '52M', '9.0M', '6.7M', '30M', '2.6M',\n",
       "       '7.1M', '3.7M', '22M', '7.4M', '6.4M', '3.2M', '8.2M', '9.9M',\n",
       "       '4.9M', '9.5M', '5.0M', '5.9M', '13M', '73M', '6.8M', '3.5M',\n",
       "       '4.0M', '2.3M', '7.2M', '2.1M', '42M', '7.3M', '9.1M', '55M',\n",
       "       '23k', '6.5M', '1.5M', '7.5M', '51M', '41M', '48M', '8.5M', '46M',\n",
       "       '8.3M', '4.3M', '4.7M', '3.3M', '40M', '7.8M', '8.8M', '6.6M',\n",
       "       '5.1M', '61M', '66M', '79k', '8.4M', '118k', '44M', '695k', '1.6M',\n",
       "       '6.2M', '18k', '53M', '1.4M', '3.0M', '5.8M', '3.8M', '9.6M',\n",
       "       '45M', '63M', '49M', '77M', '4.4M', '4.8M', '70M', '6.9M', '9.3M',\n",
       "       '10.0M', '8.1M', '36M', '84M', '97M', '2.0M', '1.9M', '1.8M',\n",
       "       '5.3M', '47M', '556k', '526k', '76M', '7.6M', '59M', '9.7M', '78M',\n",
       "       '72M', '43M', '7.7M', '6.3M', '334k', '34M', '93M', '65M', '79M',\n",
       "       '100M', '58M', '50M', '68M', '64M', '67M', '60M', '94M', '232k',\n",
       "       '99M', '624k', '95M', '8.5k', '41k', '292k', '11k', '80M', '1.7M',\n",
       "       '74M', '62M', '69M', '75M', '98M', '85M', '82M', '96M', '87M',\n",
       "       '71M', '86M', '91M', '81M', '92M', '83M', '88M', '704k', '862k',\n",
       "       '899k', '378k', '266k', '375k', '1.3M', '975k', '980k', '4.1M',\n",
       "       '89M', '696k', '544k', '525k', '920k', '779k', '853k', '720k',\n",
       "       '713k', '772k', '318k', '58k', '241k', '196k', '857k', '51k',\n",
       "       '953k', '865k', '251k', '930k', '540k', '313k', '746k', '203k',\n",
       "       '26k', '314k', '239k', '371k', '220k', '730k', '756k', '91k',\n",
       "       '293k', '17k', '74k', '14k', '317k', '78k', '924k', '902k', '818k',\n",
       "       '81k', '939k', '169k', '45k', '475k', '965k', '90M', '545k', '61k',\n",
       "       '283k', '655k', '714k', '93k', '872k', '121k', '322k', '1.0M',\n",
       "       '976k', '172k', '238k', '549k', '206k', '954k', '444k', '717k',\n",
       "       '210k', '609k', '308k', '705k', '306k', '904k', '473k', '175k',\n",
       "       '350k', '383k', '454k', '421k', '70k', '812k', '442k', '842k',\n",
       "       '417k', '412k', '459k', '478k', '335k', '782k', '721k', '430k',\n",
       "       '429k', '192k', '200k', '460k', '728k', '496k', '816k', '414k',\n",
       "       '506k', '887k', '613k', '243k', '569k', '778k', '683k', '592k',\n",
       "       '319k', '186k', '840k', '647k', '191k', '373k', '437k', '598k',\n",
       "       '716k', '585k', '982k', '222k', '219k', '55k', '948k', '323k',\n",
       "       '691k', '511k', '951k', '963k', '25k', '554k', '351k', '27k',\n",
       "       '82k', '208k', '913k', '514k', '551k', '29k', '103k', '898k',\n",
       "       '743k', '116k', '153k', '209k', '353k', '499k', '173k', '597k',\n",
       "       '809k', '122k', '411k', '400k', '801k', '787k', '237k', '50k',\n",
       "       '643k', '986k', '97k', '516k', '837k', '780k', '961k', '269k',\n",
       "       '20k', '498k', '600k', '749k', '642k', '881k', '72k', '656k',\n",
       "       '601k', '221k', '228k', '108k', '940k', '176k', '33k', '663k',\n",
       "       '34k', '942k', '259k', '164k', '458k', '245k', '629k', '28k',\n",
       "       '288k', '775k', '785k', '636k', '916k', '994k', '309k', '485k',\n",
       "       '914k', '903k', '608k', '500k', '54k', '562k', '847k', '957k',\n",
       "       '688k', '811k', '270k', '48k', '329k', '523k', '921k', '874k',\n",
       "       '981k', '784k', '280k', '24k', '518k', '754k', '892k', '154k',\n",
       "       '860k', '364k', '387k', '626k', '161k', '879k', '39k', '970k',\n",
       "       '170k', '141k', '160k', '144k', '143k', '190k', '376k', '193k',\n",
       "       '246k', '73k', '658k', '992k', '253k', '420k', '404k', '470k',\n",
       "       '226k', '240k', '89k', '234k', '257k', '861k', '467k', '157k',\n",
       "       '44k', '676k', '67k', '552k', '885k', '1020k', '582k', '619k'],\n",
       "      dtype=object)"
      ]
     },
     "execution_count": 2216,
     "metadata": {},
     "output_type": "execute_result"
    }
   ],
   "execution_count": 2216
  },
  {
   "cell_type": "code",
   "source": [
    "data['Size'] = data.Size.replace(\"Varies with device\",np.nan)\n",
    "data['Size'] = data.Size.str.replace(\"M\",\"000\")\n",
    "data['Size'] = data.Size.str.replace(\"k\",\"\")\n",
    "data['Size'] = data.Size.str.replace('.','')\n",
    "data['Size'] = data['Size'].astype('float')\n",
    "data['Size'].dtype"
   ],
   "metadata": {
    "trusted": true,
    "_uuid": "e734a21ac67f81ad18740f71a1990a81e5b05980",
    "ExecuteTime": {
     "end_time": "2024-12-20T01:14:00.112213Z",
     "start_time": "2024-12-20T01:14:00.098246Z"
    }
   },
   "outputs": [
    {
     "data": {
      "text/plain": [
       "dtype('float64')"
      ]
     },
     "execution_count": 2217,
     "metadata": {},
     "output_type": "execute_result"
    }
   ],
   "execution_count": 2217
  },
  {
   "cell_type": "markdown",
   "source": [
    "\n",
    "## Price\n"
   ],
   "metadata": {
    "_uuid": "75de2fe8a52b1f160d8cef12be05c85591925e35"
   }
  },
  {
   "cell_type": "code",
   "source": "data['Price'].unique()",
   "metadata": {
    "trusted": true,
    "_uuid": "be5955138585a329cb93e2fe6028192d912a5a9a",
    "ExecuteTime": {
     "end_time": "2024-12-20T01:14:00.179652Z",
     "start_time": "2024-12-20T01:14:00.174401Z"
    }
   },
   "outputs": [
    {
     "data": {
      "text/plain": [
       "array(['0', '$4.99', '$3.99', '$6.99', '$1.49', '$2.99', '$7.99', '$5.99',\n",
       "       '$3.49', '$1.99', '$9.99', '$7.49', '$0.99', '$9.00', '$5.49',\n",
       "       '$10.00', '$24.99', '$11.99', '$79.99', '$16.99', '$14.99',\n",
       "       '$1.00', '$29.99', '$12.99', '$2.49', '$10.99', '$1.50', '$19.99',\n",
       "       '$15.99', '$33.99', '$74.99', '$39.99', '$3.95', '$4.49', '$1.70',\n",
       "       '$8.99', '$2.00', '$3.88', '$25.99', '$399.99', '$17.99',\n",
       "       '$400.00', '$3.02', '$1.76', '$4.84', '$4.77', '$1.61', '$2.50',\n",
       "       '$1.59', '$6.49', '$1.29', '$5.00', '$13.99', '$299.99', '$379.99',\n",
       "       '$37.99', '$18.99', '$389.99', '$19.90', '$8.49', '$1.75',\n",
       "       '$14.00', '$4.85', '$46.99', '$109.99', '$154.99', '$3.08',\n",
       "       '$2.59', '$4.80', '$1.96', '$19.40', '$3.90', '$4.59', '$15.46',\n",
       "       '$3.04', '$4.29', '$2.60', '$3.28', '$4.60', '$28.99', '$2.95',\n",
       "       '$2.90', '$1.97', '$200.00', '$89.99', '$2.56', '$30.99', '$3.61',\n",
       "       '$394.99', '$1.26', '$1.20', '$1.04'], dtype=object)"
      ]
     },
     "execution_count": 2218,
     "metadata": {},
     "output_type": "execute_result"
    }
   ],
   "execution_count": 2218
  },
  {
   "cell_type": "code",
   "source": [
    "data['Price'] = data.Price.str.replace(\"$\",\"\")\n",
    "data['Price'] = pd.to_numeric(data['Price'], errors='coerce')"
   ],
   "metadata": {
    "trusted": true,
    "_uuid": "731ba345951119e1f43a18f83ea6682cace41c41",
    "ExecuteTime": {
     "end_time": "2024-12-20T01:14:00.242076Z",
     "start_time": "2024-12-20T01:14:00.231813Z"
    }
   },
   "outputs": [],
   "execution_count": 2219
  },
  {
   "cell_type": "code",
   "source": "data['Price'].unique()",
   "metadata": {
    "trusted": true,
    "_uuid": "2982cbbab602bf84a896b86a77b772c18ff1a98e",
    "ExecuteTime": {
     "end_time": "2024-12-20T01:14:00.270267Z",
     "start_time": "2024-12-20T01:14:00.264991Z"
    }
   },
   "outputs": [
    {
     "data": {
      "text/plain": [
       "array([  0.  ,   4.99,   3.99,   6.99,   1.49,   2.99,   7.99,   5.99,\n",
       "         3.49,   1.99,   9.99,   7.49,   0.99,   9.  ,   5.49,  10.  ,\n",
       "        24.99,  11.99,  79.99,  16.99,  14.99,   1.  ,  29.99,  12.99,\n",
       "         2.49,  10.99,   1.5 ,  19.99,  15.99,  33.99,  74.99,  39.99,\n",
       "         3.95,   4.49,   1.7 ,   8.99,   2.  ,   3.88,  25.99, 399.99,\n",
       "        17.99, 400.  ,   3.02,   1.76,   4.84,   4.77,   1.61,   2.5 ,\n",
       "         1.59,   6.49,   1.29,   5.  ,  13.99, 299.99, 379.99,  37.99,\n",
       "        18.99, 389.99,  19.9 ,   8.49,   1.75,  14.  ,   4.85,  46.99,\n",
       "       109.99, 154.99,   3.08,   2.59,   4.8 ,   1.96,  19.4 ,   3.9 ,\n",
       "         4.59,  15.46,   3.04,   4.29,   2.6 ,   3.28,   4.6 ,  28.99,\n",
       "         2.95,   2.9 ,   1.97, 200.  ,  89.99,   2.56,  30.99,   3.61,\n",
       "       394.99,   1.26,   1.2 ,   1.04])"
      ]
     },
     "execution_count": 2220,
     "metadata": {},
     "output_type": "execute_result"
    }
   ],
   "execution_count": 2220
  },
  {
   "cell_type": "markdown",
   "source": [
    "<a id=\"e\"></a>\n",
    "## Category"
   ],
   "metadata": {
    "_uuid": "77ddce3c883bb3786f45167d8c2ae8831b310032"
   }
  },
  {
   "cell_type": "code",
   "source": "data['Category'].unique()",
   "metadata": {
    "trusted": true,
    "_uuid": "0d65bdedf2d97679245e5e666fccf8a2d44beaa1",
    "ExecuteTime": {
     "end_time": "2024-12-20T01:14:00.297875Z",
     "start_time": "2024-12-20T01:14:00.292644Z"
    }
   },
   "outputs": [
    {
     "data": {
      "text/plain": [
       "array(['ART_AND_DESIGN', 'AUTO_AND_VEHICLES', 'BEAUTY',\n",
       "       'BOOKS_AND_REFERENCE', 'BUSINESS', 'COMICS', 'COMMUNICATION',\n",
       "       'DATING', 'EDUCATION', 'ENTERTAINMENT', 'EVENTS', 'FINANCE',\n",
       "       'FOOD_AND_DRINK', 'HEALTH_AND_FITNESS', 'HOUSE_AND_HOME',\n",
       "       'LIBRARIES_AND_DEMO', 'LIFESTYLE', 'GAME', 'FAMILY', 'MEDICAL',\n",
       "       'SOCIAL', 'SHOPPING', 'PHOTOGRAPHY', 'SPORTS', 'TRAVEL_AND_LOCAL',\n",
       "       'TOOLS', 'PERSONALIZATION', 'PRODUCTIVITY', 'PARENTING', 'WEATHER',\n",
       "       'VIDEO_PLAYERS', 'NEWS_AND_MAGAZINES', 'MAPS_AND_NAVIGATION', nan],\n",
       "      dtype=object)"
      ]
     },
     "execution_count": 2221,
     "metadata": {},
     "output_type": "execute_result"
    }
   ],
   "execution_count": 2221
  },
  {
   "metadata": {},
   "cell_type": "markdown",
   "source": "## Android Version & Current Ver"
  },
  {
   "metadata": {
    "ExecuteTime": {
     "end_time": "2024-12-20T01:14:00.357337Z",
     "start_time": "2024-12-20T01:14:00.351435Z"
    }
   },
   "cell_type": "code",
   "source": "data['Android_Ver'].unique()",
   "outputs": [
    {
     "data": {
      "text/plain": [
       "array(['4.0.3 and up', '4.2 and up', '4.4 and up', '2.3 and up',\n",
       "       '3.0 and up', '4.1 and up', '4.0 and up', '2.3.3 and up',\n",
       "       'Varies with device', '2.2 and up', '5.0 and up', '6.0 and up',\n",
       "       '1.6 and up', '1.5 and up', '2.1 and up', '7.0 and up',\n",
       "       '5.1 and up', '4.3 and up', '4.0.3 - 7.1.1', '2.0 and up',\n",
       "       '3.2 and up', '4.4W and up', '7.1 and up', '7.0 - 7.1.1',\n",
       "       '8.0 and up', '5.0 - 8.0', '3.1 and up', '2.0.1 and up',\n",
       "       '4.1 - 7.1.1', nan, '5.0 - 6.0', '1.0 and up', '2.2 - 7.1.1',\n",
       "       '5.0 - 7.1.1'], dtype=object)"
      ]
     },
     "execution_count": 2222,
     "metadata": {},
     "output_type": "execute_result"
    }
   ],
   "execution_count": 2222
  },
  {
   "metadata": {
    "ExecuteTime": {
     "end_time": "2024-12-20T01:14:00.430584Z",
     "start_time": "2024-12-20T01:14:00.399992Z"
    }
   },
   "cell_type": "code",
   "source": [
    "l1 = ['Android_Ver','Current_Ver']\n",
    "for i in l1 : \n",
    "    data[i] = data[i].replace(\"Varies with device\",np.nan)\n",
    "    data[i] = data[i].str.replace(\" and up\", \"\")\n",
    "    data[i] = data[i].str.extract(r'(\\d+\\.\\d+)')\n",
    "    data[i] = data[i].astype('float')\n",
    "data['Android_Ver'].dtype\n"
   ],
   "outputs": [
    {
     "data": {
      "text/plain": [
       "dtype('float64')"
      ]
     },
     "execution_count": 2223,
     "metadata": {},
     "output_type": "execute_result"
    }
   ],
   "execution_count": 2223
  },
  {
   "metadata": {
    "ExecuteTime": {
     "end_time": "2024-12-20T01:14:00.456918Z",
     "start_time": "2024-12-20T01:14:00.451543Z"
    }
   },
   "cell_type": "code",
   "source": "data['Current_Ver'].dtype",
   "outputs": [
    {
     "data": {
      "text/plain": [
       "dtype('float64')"
      ]
     },
     "execution_count": 2224,
     "metadata": {},
     "output_type": "execute_result"
    }
   ],
   "execution_count": 2224
  },
  {
   "metadata": {},
   "cell_type": "markdown",
   "source": "## Installs"
  },
  {
   "metadata": {
    "ExecuteTime": {
     "end_time": "2024-12-20T01:14:00.511006Z",
     "start_time": "2024-12-20T01:14:00.505908Z"
    }
   },
   "cell_type": "code",
   "source": "data['Installs'].unique()",
   "outputs": [
    {
     "data": {
      "text/plain": [
       "array(['10,000+', '500,000+', '5,000,000+', '50,000,000+', '100,000+',\n",
       "       '50,000+', '1,000,000+', '10,000,000+', '5,000+', '100,000,000+',\n",
       "       '1,000,000,000+', '1,000+', '500,000,000+', '50+', '100+', '500+',\n",
       "       '10+', '1+', '5+', '0+', '0'], dtype=object)"
      ]
     },
     "execution_count": 2225,
     "metadata": {},
     "output_type": "execute_result"
    }
   ],
   "execution_count": 2225
  },
  {
   "metadata": {
    "ExecuteTime": {
     "end_time": "2024-12-20T01:14:00.563766Z",
     "start_time": "2024-12-20T01:14:00.549765Z"
    }
   },
   "cell_type": "code",
   "source": [
    "data['Installs'] = data.Installs.str.replace('+','')\n",
    "data['Installs'] = data.Installs.str.replace(',','')\n",
    "data['Installs'] = data.Installs.astype('int')\n",
    "data['Installs'].dtype"
   ],
   "outputs": [
    {
     "data": {
      "text/plain": [
       "dtype('int32')"
      ]
     },
     "execution_count": 2226,
     "metadata": {},
     "output_type": "execute_result"
    }
   ],
   "execution_count": 2226
  },
  {
   "metadata": {},
   "cell_type": "markdown",
   "source": "## Type"
  },
  {
   "metadata": {
    "ExecuteTime": {
     "end_time": "2024-12-20T01:14:00.605203Z",
     "start_time": "2024-12-20T01:14:00.599766Z"
    }
   },
   "cell_type": "code",
   "source": "data['Type'].unique()",
   "outputs": [
    {
     "data": {
      "text/plain": [
       "array(['Free', 'Paid', nan], dtype=object)"
      ]
     },
     "execution_count": 2227,
     "metadata": {},
     "output_type": "execute_result"
    }
   ],
   "execution_count": 2227
  },
  {
   "metadata": {},
   "cell_type": "markdown",
   "source": "## Content Rating"
  },
  {
   "metadata": {
    "ExecuteTime": {
     "end_time": "2024-12-20T01:14:00.647532Z",
     "start_time": "2024-12-20T01:14:00.642191Z"
    }
   },
   "cell_type": "code",
   "source": "data['Content_Rating'].unique()",
   "outputs": [
    {
     "data": {
      "text/plain": [
       "array(['Everyone', 'Teen', 'Everyone 10+', 'Mature 17+',\n",
       "       'Adults only 18+', 'Unrated'], dtype=object)"
      ]
     },
     "execution_count": 2228,
     "metadata": {},
     "output_type": "execute_result"
    }
   ],
   "execution_count": 2228
  },
  {
   "metadata": {
    "ExecuteTime": {
     "end_time": "2024-12-20T01:14:00.839422Z",
     "start_time": "2024-12-20T01:14:00.699876Z"
    }
   },
   "cell_type": "code",
   "source": [
    "# Plot the distribution of content ratings\n",
    "plt.figure(figsize=(10,  6))\n",
    "sns.countplot(x='Content_Rating', data=data)\n",
    "plt.title('Distribution of Content Ratings')\n",
    "plt.xlabel('Content_Rating')\n",
    "plt.ylabel('Count')\n",
    "plt.show()"
   ],
   "outputs": [
    {
     "data": {
      "text/plain": [
       "<Figure size 1000x600 with 1 Axes>"
      ],
      "image/png": "[encoded data removed]"
     },
     "metadata": {},
     "output_type": "display_data"
    }
   ],
   "execution_count": 2229
  },
  {
   "metadata": {
    "ExecuteTime": {
     "end_time": "2024-12-20T01:14:00.989949Z",
     "start_time": "2024-12-20T01:14:00.866870Z"
    }
   },
   "cell_type": "code",
   "source": [
    "data['Content_Rating'] = data.Content_Rating.replace(\"Everyone 10+\", 'Everyone')\n",
    "data['Content_Rating'] = data.Content_Rating.replace(\"Mature 17+\", 'Adults')\n",
    "data['Content_Rating'] = data.Content_Rating.replace(\"Adults only 18+\", 'Adults')\n",
    "data['Content_Rating'] = data.Content_Rating.replace(\"Unrated\", np.nan)\n",
    "# Plot the distribution of content ratings\n",
    "plt.figure(figsize=(10,  6))\n",
    "sns.countplot(x='Content_Rating', data=data)\n",
    "plt.title('Distribution of Content Ratings')\n",
    "plt.xlabel('Content_Rating')\n",
    "plt.ylabel('Count')\n",
    "plt.show()\n"
   ],
   "outputs": [
    {
     "data": {
      "text/plain": [
       "<Figure size 1000x600 with 1 Axes>"
      ],
      "image/png": "[encoded data removed]"
     },
     "metadata": {},
     "output_type": "display_data"
    }
   ],
   "execution_count": 2230
  },
  {
   "metadata": {},
   "cell_type": "markdown",
   "source": "## Genres"
  },
  {
   "metadata": {
    "ExecuteTime": {
     "end_time": "2024-12-20T01:14:01.023598Z",
     "start_time": "2024-12-20T01:14:01.018480Z"
    }
   },
   "cell_type": "code",
   "source": "data['Genres'].unique()",
   "outputs": [
    {
     "data": {
      "text/plain": [
       "array(['Art & Design', 'Art & Design;Pretend Play',\n",
       "       'Art & Design;Creativity', 'Art & Design;Action & Adventure',\n",
       "       'Auto & Vehicles', 'Beauty', 'Books & Reference', 'Business',\n",
       "       'Comics', 'Comics;Creativity', 'Communication', 'Dating',\n",
       "       'Education;Education', 'Education', 'Education;Creativity',\n",
       "       'Education;Music & Video', 'Education;Action & Adventure',\n",
       "       'Education;Pretend Play', 'Education;Brain Games', 'Entertainment',\n",
       "       'Entertainment;Music & Video', 'Entertainment;Brain Games',\n",
       "       'Entertainment;Creativity', 'Events', 'Finance', 'Food & Drink',\n",
       "       'Health & Fitness', 'House & Home', 'Libraries & Demo',\n",
       "       'Lifestyle', 'Lifestyle;Pretend Play',\n",
       "       'Adventure;Action & Adventure', 'Arcade', 'Casual', 'Card',\n",
       "       'Casual;Pretend Play', 'Action', 'Strategy', 'Puzzle', 'Sports',\n",
       "       'Music', 'Word', 'Racing', 'Casual;Creativity',\n",
       "       'Casual;Action & Adventure', 'Simulation', 'Adventure', 'Board',\n",
       "       'Trivia', 'Role Playing', 'Simulation;Education',\n",
       "       'Action;Action & Adventure', 'Casual;Brain Games',\n",
       "       'Simulation;Action & Adventure', 'Educational;Creativity',\n",
       "       'Puzzle;Brain Games', 'Educational;Education', 'Card;Brain Games',\n",
       "       'Educational;Brain Games', 'Educational;Pretend Play',\n",
       "       'Entertainment;Education', 'Casual;Education',\n",
       "       'Music;Music & Video', 'Racing;Action & Adventure',\n",
       "       'Arcade;Pretend Play', 'Role Playing;Action & Adventure',\n",
       "       'Simulation;Pretend Play', 'Puzzle;Creativity',\n",
       "       'Sports;Action & Adventure', 'Educational;Action & Adventure',\n",
       "       'Arcade;Action & Adventure', 'Entertainment;Action & Adventure',\n",
       "       'Puzzle;Action & Adventure', 'Strategy;Action & Adventure',\n",
       "       'Music & Audio;Music & Video', 'Health & Fitness;Education',\n",
       "       'Adventure;Education', 'Board;Brain Games',\n",
       "       'Board;Action & Adventure', 'Board;Pretend Play',\n",
       "       'Casual;Music & Video', 'Role Playing;Pretend Play',\n",
       "       'Entertainment;Pretend Play', 'Video Players & Editors;Creativity',\n",
       "       'Card;Action & Adventure', 'Medical', 'Social', 'Shopping',\n",
       "       'Photography', 'Travel & Local',\n",
       "       'Travel & Local;Action & Adventure', 'Tools', 'Tools;Education',\n",
       "       'Personalization', 'Productivity', 'Parenting',\n",
       "       'Parenting;Music & Video', 'Parenting;Education',\n",
       "       'Parenting;Brain Games', 'Weather', 'Video Players & Editors',\n",
       "       'Video Players & Editors;Music & Video', 'News & Magazines',\n",
       "       'Maps & Navigation', 'Health & Fitness;Action & Adventure',\n",
       "       'Educational', 'Casino', 'Adventure;Brain Games',\n",
       "       'Trivia;Education', 'Lifestyle;Education',\n",
       "       'Books & Reference;Creativity', 'Books & Reference;Education',\n",
       "       'Puzzle;Education', 'Role Playing;Education',\n",
       "       'Role Playing;Brain Games', 'Strategy;Education',\n",
       "       'Racing;Pretend Play', 'Communication;Creativity', nan,\n",
       "       'Strategy;Creativity'], dtype=object)"
      ]
     },
     "execution_count": 2231,
     "metadata": {},
     "output_type": "execute_result"
    }
   ],
   "execution_count": 2231
  },
  {
   "metadata": {
    "ExecuteTime": {
     "end_time": "2024-12-20T01:14:01.071477Z",
     "start_time": "2024-12-20T01:14:01.061353Z"
    }
   },
   "cell_type": "code",
   "source": "data[data['Genres'].isna()]",
   "outputs": [
    {
     "data": {
      "text/plain": [
       "                                           App Category  Rating Reviews  \\\n",
       "10472  Life Made WI-Fi Touchscreen Photo Frame      NaN     1.9    19.0   \n",
       "\n",
       "          Size  Installs  Type  Price Content_Rating Genres  \\\n",
       "10472  30000.0      1000  Free    0.0       Everyone    NaN   \n",
       "\n",
       "            Last_Updated  Current_Ver  Android_Ver  \n",
       "10472  February 11, 2018          1.0          4.0  "
      ],
      "text/html": [
       "<div>\n",
       "<style scoped>\n",
       "    .dataframe tbody tr th:only-of-type {\n",
       "        vertical-align: middle;\n",
       "    }\n",
       "\n",
       "    .dataframe tbody tr th {\n",
       "        vertical-align: top;\n",
       "    }\n",
       "\n",
       "    .dataframe thead th {\n",
       "        text-align: right;\n",
       "    }\n",
       "</style>\n",
       "<table border=\"1\" class=\"dataframe\">\n",
       "  <thead>\n",
       "    <tr style=\"text-align: right;\">\n",
       "      <th></th>\n",
       "      <th>App</th>\n",
       "      <th>Category</th>\n",
       "      <th>Rating</th>\n",
       "      <th>Reviews</th>\n",
       "      <th>Size</th>\n",
       "      <th>Installs</th>\n",
       "      <th>Type</th>\n",
       "      <th>Price</th>\n",
       "      <th>Content_Rating</th>\n",
       "      <th>Genres</th>\n",
       "      <th>Last_Updated</th>\n",
       "      <th>Current_Ver</th>\n",
       "      <th>Android_Ver</th>\n",
       "    </tr>\n",
       "  </thead>\n",
       "  <tbody>\n",
       "    <tr>\n",
       "      <th>10472</th>\n",
       "      <td>Life Made WI-Fi Touchscreen Photo Frame</td>\n",
       "      <td>NaN</td>\n",
       "      <td>1.9</td>\n",
       "      <td>19.0</td>\n",
       "      <td>30000.0</td>\n",
       "      <td>1000</td>\n",
       "      <td>Free</td>\n",
       "      <td>0.0</td>\n",
       "      <td>Everyone</td>\n",
       "      <td>NaN</td>\n",
       "      <td>February 11, 2018</td>\n",
       "      <td>1.0</td>\n",
       "      <td>4.0</td>\n",
       "    </tr>\n",
       "  </tbody>\n",
       "</table>\n",
       "</div>"
      ]
     },
     "execution_count": 2232,
     "metadata": {},
     "output_type": "execute_result"
    }
   ],
   "execution_count": 2232
  },
  {
   "metadata": {
    "ExecuteTime": {
     "end_time": "2024-12-20T01:14:01.120342Z",
     "start_time": "2024-12-20T01:14:01.112593Z"
    }
   },
   "cell_type": "code",
   "source": [
    "data['Genres'] = data['Genres'].fillna(data['Genres'].mode()[0])\n",
    "data.loc[10472]"
   ],
   "outputs": [
    {
     "data": {
      "text/plain": [
       "App               Life Made WI-Fi Touchscreen Photo Frame\n",
       "Category                                              NaN\n",
       "Rating                                                1.9\n",
       "Reviews                                              19.0\n",
       "Size                                              30000.0\n",
       "Installs                                             1000\n",
       "Type                                                 Free\n",
       "Price                                                 0.0\n",
       "Content_Rating                                   Everyone\n",
       "Genres                                              Tools\n",
       "Last_Updated                            February 11, 2018\n",
       "Current_Ver                                           1.0\n",
       "Android_Ver                                           4.0\n",
       "Name: 10472, dtype: object"
      ]
     },
     "execution_count": 2233,
     "metadata": {},
     "output_type": "execute_result"
    }
   ],
   "execution_count": 2233
  },
  {
   "metadata": {},
   "cell_type": "markdown",
   "source": "## Last Update"
  },
  {
   "metadata": {
    "ExecuteTime": {
     "end_time": "2024-12-20T01:14:01.199654Z",
     "start_time": "2024-12-20T01:14:01.194400Z"
    }
   },
   "cell_type": "code",
   "source": "data['Last_Updated'].unique()",
   "outputs": [
    {
     "data": {
      "text/plain": [
       "array(['January 7, 2018', 'January 15, 2018', 'August 1, 2018', ...,\n",
       "       'January 20, 2014', 'February 16, 2014', 'March 23, 2014'],\n",
       "      dtype=object)"
      ]
     },
     "execution_count": 2234,
     "metadata": {},
     "output_type": "execute_result"
    }
   ],
   "execution_count": 2234
  },
  {
   "metadata": {
    "ExecuteTime": {
     "end_time": "2024-12-20T01:14:01.322653Z",
     "start_time": "2024-12-20T01:14:01.311656Z"
    }
   },
   "cell_type": "code",
   "source": "data['Last_Updated'] = pd.to_datetime(data['Last_Updated']).dt.date",
   "outputs": [],
   "execution_count": 2235
  },
  {
   "metadata": {},
   "cell_type": "markdown",
   "source": "## Handling missing Data"
  },
  {
   "metadata": {
    "ExecuteTime": {
     "end_time": "2024-12-20T01:14:01.391506Z",
     "start_time": "2024-12-20T01:14:01.382673Z"
    }
   },
   "cell_type": "code",
   "source": "data.isnull().sum()",
   "outputs": [
    {
     "data": {
      "text/plain": [
       "App                  0\n",
       "Category             1\n",
       "Rating            1474\n",
       "Reviews              0\n",
       "Size              1695\n",
       "Installs             0\n",
       "Type                 1\n",
       "Price                0\n",
       "Content_Rating       2\n",
       "Genres               0\n",
       "Last_Updated         0\n",
       "Current_Ver       1666\n",
       "Android_Ver       1364\n",
       "dtype: int64"
      ]
     },
     "execution_count": 2236,
     "metadata": {},
     "output_type": "execute_result"
    }
   ],
   "execution_count": 2236
  },
  {
   "metadata": {
    "ExecuteTime": {
     "end_time": "2024-12-20T01:14:01.675314Z",
     "start_time": "2024-12-20T01:14:01.428358Z"
    }
   },
   "cell_type": "code",
   "source": [
    "# Rating replace nans with median\n",
    "data['Rating'] = data['Rating'].fillna(data['Rating'].median())\n",
    "\n",
    "\n",
    "# Create the histogram of ratings\n",
    "plt.figure(figsize=(10, 6))\n",
    "sns.histplot(data['Rating'], bins=10, kde=True)\n",
    "plt.title('Distribution of Ratings')\n",
    "plt.xlabel('Rating')\n",
    "plt.ylabel('Frequency')\n",
    "plt.show()\n"
   ],
   "outputs": [
    {
     "data": {
      "text/plain": [
       "<Figure size 1000x600 with 1 Axes>"
      ],
      "image/png": "[encoded data removed]"
     },
     "metadata": {},
     "output_type": "display_data"
    }
   ],
   "execution_count": 2237
  },
  {
   "metadata": {
    "ExecuteTime": {
     "end_time": "2024-12-20T01:14:01.927548Z",
     "start_time": "2024-12-20T01:14:01.701794Z"
    }
   },
   "cell_type": "code",
   "source": [
    "# Size replace nans with mode\n",
    "data['Size'] = data['Size'].fillna(data['Size'].mode())\n",
    "\n",
    "# Create the histogram of ratings\n",
    "plt.figure(figsize=(10, 6))\n",
    "sns.histplot(data['Size'], bins=10, kde=True)\n",
    "plt.title('Distribution of Size')\n",
    "plt.xlabel('Size')\n",
    "plt.ylabel('Frequency')\n",
    "plt.show()\n"
   ],
   "outputs": [
    {
     "data": {
      "text/plain": [
       "<Figure size 1000x600 with 1 Axes>"
      ],
      "image/png": "[encoded data removed]"
     },
     "metadata": {},
     "output_type": "display_data"
    }
   ],
   "execution_count": 2238
  },
  {
   "metadata": {
    "ExecuteTime": {
     "end_time": "2024-12-20T01:14:01.977826Z",
     "start_time": "2024-12-20T01:14:01.961001Z"
    }
   },
   "cell_type": "code",
   "source": [
    "# delete other nans because it will not affect data \n",
    "data.dropna(inplace=True)\n",
    "data.isnull().sum()"
   ],
   "outputs": [
    {
     "data": {
      "text/plain": [
       "App               0\n",
       "Category          0\n",
       "Rating            0\n",
       "Reviews           0\n",
       "Size              0\n",
       "Installs          0\n",
       "Type              0\n",
       "Price             0\n",
       "Content_Rating    0\n",
       "Genres            0\n",
       "Last_Updated      0\n",
       "Current_Ver       0\n",
       "Android_Ver       0\n",
       "dtype: int64"
      ]
     },
     "execution_count": 2239,
     "metadata": {},
     "output_type": "execute_result"
    }
   ],
   "execution_count": 2239
  },
  {
   "metadata": {},
   "cell_type": "markdown",
   "source": ""
  }
 ]
}
